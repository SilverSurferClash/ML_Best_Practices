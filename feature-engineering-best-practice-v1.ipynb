{
 "cells": [
  {
   "cell_type": "code",
   "execution_count": 1,
   "id": "169d643f",
   "metadata": {
    "execution": {
     "iopub.execute_input": "2023-04-01T14:36:32.604275Z",
     "iopub.status.busy": "2023-04-01T14:36:32.603716Z",
     "iopub.status.idle": "2023-04-01T14:36:32.616697Z",
     "shell.execute_reply": "2023-04-01T14:36:32.615785Z"
    },
    "papermill": {
     "duration": 0.025427,
     "end_time": "2023-04-01T14:36:32.619143",
     "exception": false,
     "start_time": "2023-04-01T14:36:32.593716",
     "status": "completed"
    },
    "tags": []
   },
   "outputs": [],
   "source": [
    "\n",
    "\n",
    "#Import data manipulation libaries\n",
    "import numpy as np # linear algebra\n",
    "import pandas as pd # data processing, CSV file I/O (e.g. pd.read_csv)\n",
    "\n"
   ]
  },
  {
   "cell_type": "markdown",
   "id": "4ca3398a",
   "metadata": {
    "papermill": {
     "duration": 0.006086,
     "end_time": "2023-04-01T14:36:32.631797",
     "exception": false,
     "start_time": "2023-04-01T14:36:32.625711",
     "status": "completed"
    },
    "tags": []
   },
   "source": [
    "#### First data loading strategy"
   ]
  },
  {
   "cell_type": "code",
   "execution_count": 2,
   "id": "430b4228",
   "metadata": {
    "execution": {
     "iopub.execute_input": "2023-04-01T14:36:32.647220Z",
     "iopub.status.busy": "2023-04-01T14:36:32.646125Z",
     "iopub.status.idle": "2023-04-01T14:36:32.810399Z",
     "shell.execute_reply": "2023-04-01T14:36:32.808885Z"
    },
    "papermill": {
     "duration": 0.174972,
     "end_time": "2023-04-01T14:36:32.813261",
     "exception": false,
     "start_time": "2023-04-01T14:36:32.638289",
     "status": "completed"
    },
    "tags": []
   },
   "outputs": [],
   "source": [
    "train_import = pd.read_csv(\"/kaggle/input/playground-series-s3e6/train.csv\")\n",
    "test_df = pd.read_csv(\"/kaggle/input/playground-series-s3e6/test.csv\")\n",
    "submission = pd.read_csv(\"/kaggle/input/playground-series-s3e6/sample_submission.csv\")"
   ]
  },
  {
   "cell_type": "markdown",
   "id": "37f2a79a",
   "metadata": {
    "papermill": {
     "duration": 0.006143,
     "end_time": "2023-04-01T14:36:32.826021",
     "exception": false,
     "start_time": "2023-04-01T14:36:32.819878",
     "status": "completed"
    },
    "tags": []
   },
   "source": [
    "#### Second data loading strategy\n",
    "Loading another training data set\n",
    "Adding a flag for the adversial cross-validation"
   ]
  },
  {
   "cell_type": "code",
   "execution_count": 3,
   "id": "a84d774c",
   "metadata": {
    "execution": {
     "iopub.execute_input": "2023-04-01T14:36:32.842058Z",
     "iopub.status.busy": "2023-04-01T14:36:32.841587Z",
     "iopub.status.idle": "2023-04-01T14:36:32.979691Z",
     "shell.execute_reply": "2023-04-01T14:36:32.978418Z"
    },
    "papermill": {
     "duration": 0.149272,
     "end_time": "2023-04-01T14:36:32.982576",
     "exception": false,
     "start_time": "2023-04-01T14:36:32.833304",
     "status": "completed"
    },
    "tags": []
   },
   "outputs": [],
   "source": [
    "test = pd.read_csv('/kaggle/input/playground-series-s3e6/test.csv')\n",
    "test.drop(\"id\",axis=1,inplace=True)\n",
    "test['adv_val'] =  0\n",
    "\n",
    "train = pd.read_csv('/kaggle/input/playground-series-s3e6/train.csv')\n",
    "train.drop(\"id\",axis=1,inplace=True)\n",
    "train['adv_val'] =  1\n",
    "\n",
    "original = pd.read_csv('/kaggle/input/paris-housing-price-prediction/ParisHousing.csv')\n",
    "original['adv_val'] =  2\n",
    "\n",
    "sample = pd.read_csv('/kaggle/input/playground-series-s3e6/sample_submission.csv')"
   ]
  },
  {
   "cell_type": "markdown",
   "id": "ae1973df",
   "metadata": {
    "papermill": {
     "duration": 0.006176,
     "end_time": "2023-04-01T14:36:32.995282",
     "exception": false,
     "start_time": "2023-04-01T14:36:32.989106",
     "status": "completed"
    },
    "tags": []
   },
   "source": [
    "#### Feature Engineering"
   ]
  },
  {
   "cell_type": "code",
   "execution_count": 4,
   "id": "ffe60a59",
   "metadata": {
    "execution": {
     "iopub.execute_input": "2023-04-01T14:36:33.011538Z",
     "iopub.status.busy": "2023-04-01T14:36:33.010762Z",
     "iopub.status.idle": "2023-04-01T14:36:33.016744Z",
     "shell.execute_reply": "2023-04-01T14:36:33.015499Z"
    },
    "papermill": {
     "duration": 0.017327,
     "end_time": "2023-04-01T14:36:33.019232",
     "exception": false,
     "start_time": "2023-04-01T14:36:33.001905",
     "status": "completed"
    },
    "tags": []
   },
   "outputs": [],
   "source": [
    "#Define the target label\n",
    "\n",
    "target='price'\n",
    "\n",
    "#Create a dict - Why?\n",
    "sets={'train':train,'test':test,'original':original}"
   ]
  },
  {
   "cell_type": "code",
   "execution_count": 5,
   "id": "40917ccf",
   "metadata": {
    "execution": {
     "iopub.execute_input": "2023-04-01T14:36:33.034691Z",
     "iopub.status.busy": "2023-04-01T14:36:33.034256Z",
     "iopub.status.idle": "2023-04-01T14:36:33.100489Z",
     "shell.execute_reply": "2023-04-01T14:36:33.098305Z"
    },
    "papermill": {
     "duration": 0.077725,
     "end_time": "2023-04-01T14:36:33.103570",
     "exception": false,
     "start_time": "2023-04-01T14:36:33.025845",
     "status": "completed"
    },
    "tags": []
   },
   "outputs": [
    {
     "name": "stdout",
     "output_type": "stream",
     "text": [
      "\u001b[0;33;40m A number of duplicated rows in train is 0, they were dropped \u001b[0;30;0m\n",
      "\u001b[0;33;40m A number of duplicated rows in original is 0, they were dropped \u001b[0;30;0m\n"
     ]
    }
   ],
   "source": [
    "#Function to drop rows that are duplicated in the train set and the original deck\n",
    "\n",
    "def dropping_duplicates(data):\n",
    "    data.drop_duplicates(inplace = True)\n",
    "    \n",
    "for n in {'train':train,'original':original}:\n",
    "    print(f\"\\033[0;33;40m A number of duplicated rows in {n} is {sets[n].duplicated().sum()}, they were dropped \\033[0;30;0m\")\n",
    "    dropping_duplicates(sets[n])"
   ]
  },
  {
   "cell_type": "code",
   "execution_count": 6,
   "id": "e8326bfa",
   "metadata": {
    "execution": {
     "iopub.execute_input": "2023-04-01T14:36:33.118861Z",
     "iopub.status.busy": "2023-04-01T14:36:33.118451Z",
     "iopub.status.idle": "2023-04-01T14:36:35.050260Z",
     "shell.execute_reply": "2023-04-01T14:36:35.048970Z"
    },
    "papermill": {
     "duration": 1.943071,
     "end_time": "2023-04-01T14:36:35.053366",
     "exception": false,
     "start_time": "2023-04-01T14:36:33.110295",
     "status": "completed"
    },
    "tags": []
   },
   "outputs": [],
   "source": [
    "from imblearn.over_sampling import SMOTE\n",
    "from sklearn.model_selection import train_test_split\n",
    "from sklearn.model_selection import cross_val_score\n",
    "from sklearn.model_selection import StratifiedKFold\n",
    "from sklearn.model_selection import RepeatedStratifiedKFold\n",
    "from sklearn.model_selection import RepeatedKFold\n",
    "from sklearn.model_selection import GroupKFold\n",
    "from sklearn.model_selection import KFold\n",
    "from sklearn.impute import SimpleImputer\n",
    "from sklearn.preprocessing import OneHotEncoder\n",
    "from sklearn.preprocessing import StandardScaler\n",
    "from sklearn.utils import shuffle"
   ]
  },
  {
   "cell_type": "code",
   "execution_count": 7,
   "id": "d1168295",
   "metadata": {
    "execution": {
     "iopub.execute_input": "2023-04-01T14:36:35.069925Z",
     "iopub.status.busy": "2023-04-01T14:36:35.069514Z",
     "iopub.status.idle": "2023-04-01T14:36:35.076637Z",
     "shell.execute_reply": "2023-04-01T14:36:35.074991Z"
    },
    "papermill": {
     "duration": 0.018593,
     "end_time": "2023-04-01T14:36:35.079512",
     "exception": false,
     "start_time": "2023-04-01T14:36:35.060919",
     "status": "completed"
    },
    "tags": []
   },
   "outputs": [],
   "source": [
    "########################\n",
    "### General Settings ###\n",
    "########################\n",
    "\n",
    "gpu_switch = 'ON'\n",
    "\n",
    "###############################\n",
    "### RepeatedStratifiedKFold ###\n",
    "###############################\n",
    "\n",
    "n_splits = 5\n",
    "n_repeats =10\n",
    "sm=SMOTE(sampling_strategy='minority')\n",
    "#cv = RepeatedStratifiedKFold(n_splits=n_splits, n_repeats = n_repeats, random_state=2023)\n",
    "cv = RepeatedKFold(n_splits=n_splits, n_repeats = n_repeats, random_state=2023)\n",
    "#cv = GroupKFold(n_splits=n_splits)\n",
    "\n",
    "########################\n",
    "### Define Weights   ###\n",
    "########################\n",
    "\n",
    "# Understand where and why the weights are used\n",
    "weights = {0: 0.5009553158705701, 1: 262.19354838709677}"
   ]
  },
  {
   "cell_type": "markdown",
   "id": "b5d281f5",
   "metadata": {
    "papermill": {
     "duration": 0.006219,
     "end_time": "2023-04-01T14:36:35.092328",
     "exception": false,
     "start_time": "2023-04-01T14:36:35.086109",
     "status": "completed"
    },
    "tags": []
   },
   "source": [
    "#### Define lists for feature engineering"
   ]
  },
  {
   "cell_type": "code",
   "execution_count": 8,
   "id": "d8927f09",
   "metadata": {
    "execution": {
     "iopub.execute_input": "2023-04-01T14:36:35.107594Z",
     "iopub.status.busy": "2023-04-01T14:36:35.107181Z",
     "iopub.status.idle": "2023-04-01T14:36:35.113215Z",
     "shell.execute_reply": "2023-04-01T14:36:35.111690Z"
    },
    "papermill": {
     "duration": 0.01682,
     "end_time": "2023-04-01T14:36:35.115751",
     "exception": false,
     "start_time": "2023-04-01T14:36:35.098931",
     "status": "completed"
    },
    "tags": []
   },
   "outputs": [],
   "source": [
    "num_cols = ['squareMeters','numberOfRooms','floors','cityPartRange','numPrevOwners',\n",
    "            'made','basement','attic','garage','hasGuestRoom','cityCode'\n",
    "            ]\n",
    "cat_cols = ['hasYard','hasPool','isNewBuilt','hasStormProtector','hasStorageRoom',]\n",
    "drop_col = []"
   ]
  },
  {
   "cell_type": "markdown",
   "id": "a17291b7",
   "metadata": {
    "papermill": {
     "duration": 0.006333,
     "end_time": "2023-04-01T14:36:35.128724",
     "exception": false,
     "start_time": "2023-04-01T14:36:35.122391",
     "status": "completed"
    },
    "tags": []
   },
   "source": [
    "#### Drop list from the test, train and original data set"
   ]
  },
  {
   "cell_type": "code",
   "execution_count": 9,
   "id": "ce90ed44",
   "metadata": {
    "execution": {
     "iopub.execute_input": "2023-04-01T14:36:35.144502Z",
     "iopub.status.busy": "2023-04-01T14:36:35.144073Z",
     "iopub.status.idle": "2023-04-01T14:36:35.158538Z",
     "shell.execute_reply": "2023-04-01T14:36:35.157033Z"
    },
    "papermill": {
     "duration": 0.026049,
     "end_time": "2023-04-01T14:36:35.161485",
     "exception": false,
     "start_time": "2023-04-01T14:36:35.135436",
     "status": "completed"
    },
    "tags": []
   },
   "outputs": [],
   "source": [
    "#Drop the features in the list that have been define above\n",
    "train.drop(drop_col,axis=1,inplace=True)\n",
    "test.drop(drop_col,axis=1,inplace=True)\n",
    "original.drop(drop_col,axis=1,inplace=True)"
   ]
  },
  {
   "cell_type": "code",
   "execution_count": 10,
   "id": "12ef5568",
   "metadata": {
    "execution": {
     "iopub.execute_input": "2023-04-01T14:36:35.177427Z",
     "iopub.status.busy": "2023-04-01T14:36:35.176969Z",
     "iopub.status.idle": "2023-04-01T14:36:35.311481Z",
     "shell.execute_reply": "2023-04-01T14:36:35.309743Z"
    },
    "papermill": {
     "duration": 0.146805,
     "end_time": "2023-04-01T14:36:35.315053",
     "exception": false,
     "start_time": "2023-04-01T14:36:35.168248",
     "status": "completed"
    },
    "tags": []
   },
   "outputs": [],
   "source": [
    "#Version 1\n",
    "num_imp = SimpleImputer(strategy='mean')\n",
    "cat_imp = SimpleImputer(strategy='most_frequent')\n",
    "ohe = OneHotEncoder(handle_unknown='ignore',sparse = False,drop=\"first\")\n",
    "\n",
    "train[num_cols] = pd.DataFrame(num_imp.fit_transform(train[num_cols]),columns=num_cols)\n",
    "train[cat_cols] = pd.DataFrame(cat_imp.fit_transform(train[cat_cols]),columns=cat_cols)\n",
    "train_temp=pd.DataFrame(ohe.fit_transform(train[cat_cols]),columns=ohe.get_feature_names_out())\n",
    "train=pd.concat([train.drop(cat_cols,axis=1),train_temp],axis=1) \n",
    "\n",
    "original[num_cols] = pd.DataFrame(num_imp.transform(original[num_cols]),columns=num_cols)\n",
    "original[cat_cols] = pd.DataFrame(cat_imp.transform(original[cat_cols]),columns=cat_cols)\n",
    "original_temp=pd.DataFrame(ohe.transform(original[cat_cols]),columns=ohe.get_feature_names_out())\n",
    "original=pd.concat([original.drop(cat_cols,axis=1),original_temp],axis=1)    \n",
    "\n",
    "test[num_cols] = pd.DataFrame(num_imp.transform(test[num_cols]),columns=num_cols)\n",
    "test[cat_cols] = pd.DataFrame(cat_imp.transform(test[cat_cols]),columns=cat_cols)\n",
    "test_temp=pd.DataFrame(ohe.transform(test[cat_cols]),columns=ohe.get_feature_names_out())\n",
    "test=pd.concat([test.drop(cat_cols,axis=1),test_temp],axis=1) "
   ]
  },
  {
   "cell_type": "code",
   "execution_count": 11,
   "id": "7dd87b4e",
   "metadata": {
    "execution": {
     "iopub.execute_input": "2023-04-01T14:36:35.330480Z",
     "iopub.status.busy": "2023-04-01T14:36:35.330042Z",
     "iopub.status.idle": "2023-04-01T14:36:35.335504Z",
     "shell.execute_reply": "2023-04-01T14:36:35.334172Z"
    },
    "papermill": {
     "duration": 0.016546,
     "end_time": "2023-04-01T14:36:35.338316",
     "exception": false,
     "start_time": "2023-04-01T14:36:35.321770",
     "status": "completed"
    },
    "tags": []
   },
   "outputs": [],
   "source": [
    "#Add improved version with Sklearn pipeline"
   ]
  },
  {
   "cell_type": "code",
   "execution_count": 12,
   "id": "375e969b",
   "metadata": {
    "execution": {
     "iopub.execute_input": "2023-04-01T14:36:35.354645Z",
     "iopub.status.busy": "2023-04-01T14:36:35.354215Z",
     "iopub.status.idle": "2023-04-01T14:36:35.364258Z",
     "shell.execute_reply": "2023-04-01T14:36:35.362884Z"
    },
    "papermill": {
     "duration": 0.021672,
     "end_time": "2023-04-01T14:36:35.367467",
     "exception": false,
     "start_time": "2023-04-01T14:36:35.345795",
     "status": "completed"
    },
    "tags": []
   },
   "outputs": [],
   "source": [
    "#Combine train and priginbal data after the adversarial cross-validation\n",
    "train=pd.concat([train,original],ignore_index=True)"
   ]
  },
  {
   "cell_type": "code",
   "execution_count": 13,
   "id": "352dc490",
   "metadata": {
    "execution": {
     "iopub.execute_input": "2023-04-01T14:36:35.383457Z",
     "iopub.status.busy": "2023-04-01T14:36:35.382654Z",
     "iopub.status.idle": "2023-04-01T14:36:35.403480Z",
     "shell.execute_reply": "2023-04-01T14:36:35.402180Z"
    },
    "papermill": {
     "duration": 0.032102,
     "end_time": "2023-04-01T14:36:35.406247",
     "exception": false,
     "start_time": "2023-04-01T14:36:35.374145",
     "status": "completed"
    },
    "tags": []
   },
   "outputs": [],
   "source": [
    "#Drop the adversarial column\n",
    "train=train.drop('adv_val',axis=1)\n",
    "test=test.drop('adv_val',axis=1)\n",
    "original=original.drop('adv_val',axis=1)"
   ]
  },
  {
   "cell_type": "markdown",
   "id": "31975600",
   "metadata": {
    "papermill": {
     "duration": 0.006406,
     "end_time": "2023-04-01T14:36:35.419329",
     "exception": false,
     "start_time": "2023-04-01T14:36:35.412923",
     "status": "completed"
    },
    "tags": []
   },
   "source": [
    "#### Define the features and target labels"
   ]
  },
  {
   "cell_type": "code",
   "execution_count": 14,
   "id": "68179ac4",
   "metadata": {
    "execution": {
     "iopub.execute_input": "2023-04-01T14:36:35.435036Z",
     "iopub.status.busy": "2023-04-01T14:36:35.434197Z",
     "iopub.status.idle": "2023-04-01T14:36:35.454676Z",
     "shell.execute_reply": "2023-04-01T14:36:35.453572Z"
    },
    "papermill": {
     "duration": 0.031553,
     "end_time": "2023-04-01T14:36:35.457415",
     "exception": false,
     "start_time": "2023-04-01T14:36:35.425862",
     "status": "completed"
    },
    "tags": []
   },
   "outputs": [],
   "source": [
    "# Drop the target from the dataframe to create the features\n",
    "X = train.drop([target],axis=1)\n",
    "#Create a series with the targets\n",
    "y = train[target]\n",
    "#Shuffle the data\n",
    "X,y=shuffle(X,y,random_state=2023)\n",
    "#Reset the index for the feature dataframe and the target labels\n",
    "X = X.reset_index(drop=True)\n",
    "y = y.reset_index(drop=True)"
   ]
  },
  {
   "cell_type": "code",
   "execution_count": 15,
   "id": "0d11e4b1",
   "metadata": {
    "execution": {
     "iopub.execute_input": "2023-04-01T14:36:35.472782Z",
     "iopub.status.busy": "2023-04-01T14:36:35.472300Z",
     "iopub.status.idle": "2023-04-01T14:36:35.488813Z",
     "shell.execute_reply": "2023-04-01T14:36:35.487319Z"
    },
    "papermill": {
     "duration": 0.02756,
     "end_time": "2023-04-01T14:36:35.491727",
     "exception": false,
     "start_time": "2023-04-01T14:36:35.464167",
     "status": "completed"
    },
    "tags": []
   },
   "outputs": [],
   "source": [
    "###########################\n",
    "### additional dropping ###\n",
    "###########################\n",
    "\n",
    "#Drop outliers by row/sample/id\n",
    "indexies =X[X['squareMeters']>99999].index\n",
    "X=X.drop(indexies).reset_index(drop=True) #square meters\n",
    "y=y.drop(indexies).reset_index(drop=True) #square meters"
   ]
  },
  {
   "cell_type": "code",
   "execution_count": 16,
   "id": "f7ddae24",
   "metadata": {
    "execution": {
     "iopub.execute_input": "2023-04-01T14:36:35.507629Z",
     "iopub.status.busy": "2023-04-01T14:36:35.506892Z",
     "iopub.status.idle": "2023-04-01T14:36:35.521050Z",
     "shell.execute_reply": "2023-04-01T14:36:35.519131Z"
    },
    "papermill": {
     "duration": 0.024691,
     "end_time": "2023-04-01T14:36:35.523321",
     "exception": true,
     "start_time": "2023-04-01T14:36:35.498630",
     "status": "failed"
    },
    "tags": []
   },
   "outputs": [
    {
     "name": "stderr",
     "output_type": "stream",
     "text": [
      "UsageError: Line magic function `%%time` not found.\n"
     ]
    }
   ],
   "source": [
    "#Function to remove outliers\n",
    "%%time\n",
    "def remove_outliers(df, selected_columns, multiplier=1.5):\n",
    "    \"\"\"\n",
    "    Remove outliers from a pandas DataFrame using the IQR method and count the total number of outliers in each row.\n",
    "\n",
    "    Parameters:\n",
    "    df (pandas.DataFrame): The input DataFrame.\n",
    "    multiplier (float): The IQR multiplier to determine the outlier threshold (default: 1.5).\n",
    "\n",
    "    Returns:\n",
    "    pandas.DataFrame: A DataFrame with outliers removed and a new variable for the total number of outliers per row.\n",
    "    \"\"\"\n",
    "    outlier_count = pd.Series(0, index=df.index)\n",
    "\n",
    "    for column in selected_columns:\n",
    "        if df[column].dtype.kind in 'bifc':\n",
    "            Q1 = df[column].quantile(0.25)\n",
    "            Q3 = df[column].quantile(0.75)\n",
    "            IQR = Q3 - Q1\n",
    "\n",
    "            lower_bound = Q1 - multiplier * IQR\n",
    "            upper_bound = Q3 + multiplier * IQR\n",
    "\n",
    "            column_outliers = (df[column] < lower_bound) | (df[column] > upper_bound)\n",
    "            outlier_count += column_outliers\n",
    "\n",
    "    df['Outlier_Count'] = outlier_count\n",
    "    return df.reset_index(drop=True)"
   ]
  },
  {
   "cell_type": "code",
   "execution_count": null,
   "id": "aeb99510",
   "metadata": {
    "execution": {
     "iopub.execute_input": "2023-03-30T17:03:44.710141Z",
     "iopub.status.busy": "2023-03-30T17:03:44.709706Z",
     "iopub.status.idle": "2023-03-30T17:03:44.828462Z",
     "shell.execute_reply": "2023-03-30T17:03:44.827190Z",
     "shell.execute_reply.started": "2023-03-30T17:03:44.710104Z"
    },
    "papermill": {
     "duration": null,
     "end_time": null,
     "exception": null,
     "start_time": null,
     "status": "pending"
    },
    "tags": []
   },
   "outputs": [],
   "source": [
    "X['floors']=X['floors'].apply(lambda x: x if x<1000 else train['floors'].mean())\n",
    "X['made']=X['made'].apply(lambda x: x if x<2022 else train['made'].mean() )\n",
    "X['basement']=X['basement'].apply(lambda x: x if x<=10000 else train['basement'].mean() )\n",
    "test['basement']=test['basement'].apply(lambda x: x if x<=10000 else train['basement'].mean() )\n",
    "X['attic']=X['attic'].apply(lambda x: x if x<=10000 else train['attic'].mean() )\n",
    "test['attic']=test['attic'].apply(lambda x: x if x<=10000 else train['attic'].mean() )\n",
    "X['garage']=X['garage'].apply(lambda x: x if x<=1000 else train['garage'].mean() )\n",
    "X['cityCode']=X['cityCode'].apply(lambda x: x if x<=100000 else int(train['cityCode'].mean()) )\n",
    "test['cityCode']=test['cityCode'].apply(lambda x: x if x<=100000 else int(train['cityCode'].mean()) )\n",
    "X['points']=X['hasYard_1']+X['hasPool_1']+X['isNewBuilt_1']+X['hasStormProtector_1']+X['hasStorageRoom_1']\n",
    "X.drop(['hasYard_1','hasPool_1','isNewBuilt_1','hasStormProtector_1','hasStorageRoom_1'],axis=1,inplace=True)\n",
    "test['points']=test['hasYard_1']+test['hasPool_1']+test['isNewBuilt_1']+test['hasStormProtector_1']+test['hasStorageRoom_1']\n",
    "test.drop(['hasYard_1','hasPool_1','isNewBuilt_1','hasStormProtector_1','hasStorageRoom_1'],axis=1,inplace=True)"
   ]
  },
  {
   "cell_type": "code",
   "execution_count": null,
   "id": "86ed60ee",
   "metadata": {
    "papermill": {
     "duration": null,
     "end_time": null,
     "exception": null,
     "start_time": null,
     "status": "pending"
    },
    "tags": []
   },
   "outputs": [],
   "source": [
    "X=X.reset_index(drop=True)\n",
    "y=y.reset_index(drop=True)"
   ]
  },
  {
   "cell_type": "code",
   "execution_count": null,
   "id": "a97349d7",
   "metadata": {
    "execution": {
     "iopub.execute_input": "2023-03-30T17:07:14.322760Z",
     "iopub.status.busy": "2023-03-30T17:07:14.322174Z",
     "iopub.status.idle": "2023-03-30T17:07:14.331345Z",
     "shell.execute_reply": "2023-03-30T17:07:14.329715Z",
     "shell.execute_reply.started": "2023-03-30T17:07:14.322719Z"
    },
    "papermill": {
     "duration": null,
     "end_time": null,
     "exception": null,
     "start_time": null,
     "status": "pending"
    },
    "tags": []
   },
   "outputs": [],
   "source": [
    "def StaSca_transform(X,test):\n",
    "    StaSca = StandardScaler()\n",
    "    X[num_cols] = pd.DataFrame(data = StaSca.fit_transform(X[num_cols]),columns = X[num_cols].columns)\n",
    "    test[num_cols] = pd.DataFrame(data = StaSca.transform(test[num_cols]),columns = test[num_cols].columns)"
   ]
  },
  {
   "cell_type": "code",
   "execution_count": null,
   "id": "816e9f79",
   "metadata": {
    "execution": {
     "iopub.execute_input": "2023-03-30T19:19:22.607719Z",
     "iopub.status.busy": "2023-03-30T19:19:22.606998Z",
     "iopub.status.idle": "2023-03-30T19:19:22.618758Z",
     "shell.execute_reply": "2023-03-30T19:19:22.617371Z",
     "shell.execute_reply.started": "2023-03-30T19:19:22.607615Z"
    },
    "papermill": {
     "duration": null,
     "end_time": null,
     "exception": null,
     "start_time": null,
     "status": "pending"
    },
    "tags": []
   },
   "outputs": [],
   "source": [
    "def Box_transform(X,test):\n",
    "    box_cols = ['fixed acidity','volatile acidity','residual sugar',\n",
    "                 'chlorides','free sulfur dioxide','total sulfur dioxide',\n",
    "                 'sulphates','alcohol']\n",
    "\n",
    "    for column in box_cols: \n",
    "        X_temp,fitted_lambda = stats.boxcox(X[column]) \n",
    "        X[column]=X_temp \n",
    "        test_temp = stats.boxcox(test[column],fitted_lambda) \n",
    "        test[column]=test_temp"
   ]
  },
  {
   "cell_type": "code",
   "execution_count": null,
   "id": "77914a6f",
   "metadata": {
    "papermill": {
     "duration": null,
     "end_time": null,
     "exception": null,
     "start_time": null,
     "status": "pending"
    },
    "tags": []
   },
   "outputs": [],
   "source": [
    "def perm_imp(model,data,target):\n",
    "    X = data.to_numpy().copy()\n",
    "    y = target.to_numpy().copy()\n",
    "    permute = PermutationImportance(model,random_state=2023,n_iter =2,cv=10,scoring='neg_root_mean_squared_error').fit(X, y)\n",
    "    eli5.show_weights(permute, feature_names = data.columns.tolist(),top=50)\n",
    "    values = dict(zip(list(data.columns),list(permute.feature_importances_)))\n",
    "    sorted_dict = {}\n",
    "    sorted_keys = sorted(values, key=values.get)\n",
    "    for w in sorted_keys:\n",
    "        sorted_dict[w] = np.round(values[w],3)\n",
    "    return sorted_dict"
   ]
  }
 ],
 "metadata": {
  "kernelspec": {
   "display_name": "Python 3",
   "language": "python",
   "name": "python3"
  },
  "language_info": {
   "codemirror_mode": {
    "name": "ipython",
    "version": 3
   },
   "file_extension": ".py",
   "mimetype": "text/x-python",
   "name": "python",
   "nbconvert_exporter": "python",
   "pygments_lexer": "ipython3",
   "version": "3.7.12"
  },
  "papermill": {
   "default_parameters": {},
   "duration": 14.803874,
   "end_time": "2023-04-01T14:36:36.354198",
   "environment_variables": {},
   "exception": true,
   "input_path": "__notebook__.ipynb",
   "output_path": "__notebook__.ipynb",
   "parameters": {},
   "start_time": "2023-04-01T14:36:21.550324",
   "version": "2.4.0"
  }
 },
 "nbformat": 4,
 "nbformat_minor": 5
}
