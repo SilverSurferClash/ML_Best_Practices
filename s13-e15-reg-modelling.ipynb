{
 "cells": [
  {
   "cell_type": "code",
   "execution_count": 1,
   "id": "8a2241cb",
   "metadata": {
    "execution": {
     "iopub.execute_input": "2023-05-18T14:42:32.660170Z",
     "iopub.status.busy": "2023-05-18T14:42:32.659669Z",
     "iopub.status.idle": "2023-05-18T14:43:06.945792Z",
     "shell.execute_reply": "2023-05-18T14:43:06.944669Z"
    },
    "papermill": {
     "duration": 34.303963,
     "end_time": "2023-05-18T14:43:06.949062",
     "exception": false,
     "start_time": "2023-05-18T14:42:32.645099",
     "status": "completed"
    },
    "tags": []
   },
   "outputs": [
    {
     "name": "stderr",
     "output_type": "stream",
     "text": [
      "/opt/conda/lib/python3.10/site-packages/scipy/__init__.py:146: UserWarning: A NumPy version >=1.16.5 and <1.23.0 is required for this version of SciPy (detected version 1.23.5\n",
      "  warnings.warn(f\"A NumPy version >={np_minversion} and <{np_maxversion}\"\n"
     ]
    }
   ],
   "source": [
    "###### Basic packages\n",
    "import os\n",
    "from pathlib import Path\n",
    "import numpy as np\n",
    "import pandas as pd\n",
    "import matplotlib.pyplot as plt\n",
    "import seaborn as sns\n",
    "\n",
    "#Validation Strategy\n",
    "from sklearn.model_selection import RepeatedStratifiedKFold, StratifiedKFold, train_test_split, KFold\n",
    "\n",
    "#Encoding\n",
    "import category_encoders as ce\n",
    "\n",
    "#Imputation\n",
    "from sklearn.impute import SimpleImputer\n",
    "\n",
    "from sklearn.preprocessing import LabelEncoder, StandardScaler, MinMaxScaler\n",
    "\n",
    "\n",
    "#Metrics\n",
    "from sklearn.metrics import roc_auc_score, roc_curve, log_loss, mean_squared_error\n",
    "\n",
    "#Pipeline\n",
    "from sklearn.pipeline import make_pipeline, Pipeline\n",
    "from sklearn.compose import ColumnTransformer\n",
    "\n",
    "from sklearn.feature_selection import SelectFromModel\n",
    "from sklearn.decomposition import PCA, NMF\n",
    "from sklearn.manifold import TSNE\n",
    "from umap import UMAP\n",
    "from scipy.cluster.hierarchy import dendrogram, ward\n",
    "\n",
    "import warnings\n",
    "from sklearn.exceptions import DataConversionWarning\n",
    "warnings.filterwarnings(action='ignore', category=DataConversionWarning)\n",
    "warnings.filterwarnings(action='ignore', category=DataConversionWarning)\n",
    "\n",
    "sns.set_theme(style = 'white', palette = 'viridis')\n",
    "pal = sns.color_palette('viridis')\n",
    "\n",
    "pd.set_option('display.max_rows', 100)"
   ]
  },
  {
   "cell_type": "code",
   "execution_count": 2,
   "id": "c177306b",
   "metadata": {
    "execution": {
     "iopub.execute_input": "2023-05-18T14:43:06.977708Z",
     "iopub.status.busy": "2023-05-18T14:43:06.976447Z",
     "iopub.status.idle": "2023-05-18T14:43:08.789967Z",
     "shell.execute_reply": "2023-05-18T14:43:08.788626Z"
    },
    "papermill": {
     "duration": 1.831183,
     "end_time": "2023-05-18T14:43:08.792974",
     "exception": false,
     "start_time": "2023-05-18T14:43:06.961791",
     "status": "completed"
    },
    "tags": []
   },
   "outputs": [],
   "source": [
    "#Regression Models\n",
    "\n",
    "import xgboost as xgb\n",
    "import lightgbm as lgb\n",
    "import xgboost as xgb\n",
    "import lightgbm as lgb\n",
    "from sklearn.linear_model import LinearRegression, Ridge, Lasso, ElasticNet, SGDRegressor, LassoCV\n",
    "from sklearn.linear_model import PassiveAggressiveRegressor, ARDRegression, RidgeCV, ElasticNetCV\n",
    "from sklearn.linear_model import TheilSenRegressor, RANSACRegressor, HuberRegressor\n",
    "from sklearn.neural_network import MLPRegressor\n",
    "from sklearn.svm import SVR, LinearSVR\n",
    "from sklearn.neighbors import KNeighborsRegressor\n",
    "from sklearn.gaussian_process import GaussianProcessRegressor\n",
    "from sklearn.tree import DecisionTreeRegressor\n",
    "from sklearn.ensemble import RandomForestRegressor, AdaBoostRegressor, ExtraTreesRegressor, HistGradientBoostingRegressor\n",
    "from sklearn.ensemble import BaggingRegressor, GradientBoostingRegressor, VotingRegressor, StackingRegressor\n",
    "\n",
    "from sklearn.cross_decomposition import PLSRegression\n",
    "from catboost import CatBoost, CatBoostRegressor, CatBoostClassifier\n",
    "from catboost import Pool"
   ]
  },
  {
   "cell_type": "code",
   "execution_count": 3,
   "id": "abeb2220",
   "metadata": {
    "execution": {
     "iopub.execute_input": "2023-05-18T14:43:08.819584Z",
     "iopub.status.busy": "2023-05-18T14:43:08.819008Z",
     "iopub.status.idle": "2023-05-18T14:43:08.825530Z",
     "shell.execute_reply": "2023-05-18T14:43:08.824284Z"
    },
    "papermill": {
     "duration": 0.022851,
     "end_time": "2023-05-18T14:43:08.828019",
     "exception": false,
     "start_time": "2023-05-18T14:43:08.805168",
     "status": "completed"
    },
    "tags": []
   },
   "outputs": [],
   "source": [
    "# File path and files\n",
    "\n",
    "#File Path\n",
    "data_dir = \"/kaggle/input/playground-series-s3e15\"\n",
    "train_file = \"data.csv\"\n",
    "#test_file = \"test.csv\"\n",
    "orig_file = \"/kaggle/input/predicting-heat-flux/Data_CHF_Zhao_2020_ATE.csv\"\n",
    "submission_file = \"sample_submission.csv\"\n",
    "\n",
    "target = \"target\""
   ]
  },
  {
   "cell_type": "code",
   "execution_count": 4,
   "id": "458069c8",
   "metadata": {
    "execution": {
     "iopub.execute_input": "2023-05-18T14:43:08.855234Z",
     "iopub.status.busy": "2023-05-18T14:43:08.854684Z",
     "iopub.status.idle": "2023-05-18T14:43:08.860532Z",
     "shell.execute_reply": "2023-05-18T14:43:08.859049Z"
    },
    "papermill": {
     "duration": 0.023031,
     "end_time": "2023-05-18T14:43:08.863183",
     "exception": false,
     "start_time": "2023-05-18T14:43:08.840152",
     "status": "completed"
    },
    "tags": []
   },
   "outputs": [],
   "source": [
    "# test_data = Path(data_dir)/test_file\n",
    "# train_data = Path(data_dir)/train_file\n",
    "# submission_data = Path(data_dir)/submission_file"
   ]
  },
  {
   "cell_type": "code",
   "execution_count": 5,
   "id": "da568718",
   "metadata": {
    "execution": {
     "iopub.execute_input": "2023-05-18T14:43:08.889640Z",
     "iopub.status.busy": "2023-05-18T14:43:08.889155Z",
     "iopub.status.idle": "2023-05-18T14:43:08.894402Z",
     "shell.execute_reply": "2023-05-18T14:43:08.893299Z"
    },
    "papermill": {
     "duration": 0.021318,
     "end_time": "2023-05-18T14:43:08.896891",
     "exception": false,
     "start_time": "2023-05-18T14:43:08.875573",
     "status": "completed"
    },
    "tags": []
   },
   "outputs": [],
   "source": [
    "#train = pd.read_csv(\"/kaggle/input/playground-series-s3e15/data.csv\")\n",
    "# test = pd.read_csv(test_data)\n",
    "# submission_df = pd.read_csv(submission_data)"
   ]
  },
  {
   "cell_type": "code",
   "execution_count": 6,
   "id": "b62218ce",
   "metadata": {
    "execution": {
     "iopub.execute_input": "2023-05-18T14:43:08.924760Z",
     "iopub.status.busy": "2023-05-18T14:43:08.923684Z",
     "iopub.status.idle": "2023-05-18T14:43:08.931917Z",
     "shell.execute_reply": "2023-05-18T14:43:08.930633Z"
    },
    "papermill": {
     "duration": 0.025626,
     "end_time": "2023-05-18T14:43:08.934645",
     "exception": false,
     "start_time": "2023-05-18T14:43:08.909019",
     "status": "completed"
    },
    "tags": []
   },
   "outputs": [],
   "source": [
    "def get_data(data_dir = data_dir,train_file = train_file,  submission_file = submission_file):\n",
    "    #test_data = Path(data_dir)/test_file\n",
    "    train_data = Path(data_dir)/train_file\n",
    "    orig_data = Path(orig_file)\n",
    "    submission_data = Path(data_dir)/submission_file\n",
    "    train = pd.read_csv(train_data)\n",
    "   # test = pd.read_csv(test_data)\n",
    "    orig_train = pd.read_csv(orig_data)\n",
    "    submission_df = pd.read_csv(submission_data)\n",
    "    return train,submission_df,orig_train\n",
    "    "
   ]
  },
  {
   "cell_type": "code",
   "execution_count": 7,
   "id": "28651ec5",
   "metadata": {
    "execution": {
     "iopub.execute_input": "2023-05-18T14:43:08.961599Z",
     "iopub.status.busy": "2023-05-18T14:43:08.961137Z",
     "iopub.status.idle": "2023-05-18T14:43:09.093583Z",
     "shell.execute_reply": "2023-05-18T14:43:09.092284Z"
    },
    "papermill": {
     "duration": 0.149979,
     "end_time": "2023-05-18T14:43:09.096802",
     "exception": false,
     "start_time": "2023-05-18T14:43:08.946823",
     "status": "completed"
    },
    "tags": []
   },
   "outputs": [],
   "source": [
    "train, submission_df, orig_train = get_data()"
   ]
  },
  {
   "cell_type": "code",
   "execution_count": 8,
   "id": "e98e5769",
   "metadata": {
    "execution": {
     "iopub.execute_input": "2023-05-18T14:43:09.123794Z",
     "iopub.status.busy": "2023-05-18T14:43:09.123341Z",
     "iopub.status.idle": "2023-05-18T14:43:09.185635Z",
     "shell.execute_reply": "2023-05-18T14:43:09.184460Z"
    },
    "papermill": {
     "duration": 0.079262,
     "end_time": "2023-05-18T14:43:09.188797",
     "exception": false,
     "start_time": "2023-05-18T14:43:09.109535",
     "status": "completed"
    },
    "tags": []
   },
   "outputs": [
    {
     "name": "stdout",
     "output_type": "stream",
     "text": [
      "<class 'pandas.core.frame.DataFrame'>\n",
      "RangeIndex: 31644 entries, 0 to 31643\n",
      "Data columns (total 10 columns):\n",
      " #   Column               Non-Null Count  Dtype  \n",
      "---  ------               --------------  -----  \n",
      " 0   id                   31644 non-null  int64  \n",
      " 1   author               26620 non-null  object \n",
      " 2   geometry             26144 non-null  object \n",
      " 3   pressure [MPa]       27192 non-null  float64\n",
      " 4   mass_flux [kg/m2-s]  26853 non-null  float64\n",
      " 5   x_e_out [-]          21229 non-null  float64\n",
      " 6   D_e [mm]             26156 non-null  float64\n",
      " 7   D_h [mm]             27055 non-null  float64\n",
      " 8   length [mm]          26885 non-null  float64\n",
      " 9   chf_exp [MW/m2]      31644 non-null  float64\n",
      "dtypes: float64(7), int64(1), object(2)\n",
      "memory usage: 2.4+ MB\n"
     ]
    }
   ],
   "source": [
    "train.info()"
   ]
  },
  {
   "cell_type": "code",
   "execution_count": 9,
   "id": "4ea349a2",
   "metadata": {
    "execution": {
     "iopub.execute_input": "2023-05-18T14:43:09.216263Z",
     "iopub.status.busy": "2023-05-18T14:43:09.215069Z",
     "iopub.status.idle": "2023-05-18T14:43:09.223854Z",
     "shell.execute_reply": "2023-05-18T14:43:09.222161Z"
    },
    "papermill": {
     "duration": 0.02593,
     "end_time": "2023-05-18T14:43:09.227014",
     "exception": false,
     "start_time": "2023-05-18T14:43:09.201084",
     "status": "completed"
    },
    "tags": []
   },
   "outputs": [],
   "source": [
    "def create_EDA_summary (df = None):\n",
    "    train_import_table = pd.DataFrame()\n",
    "    train_import_table[\"dtype\"] = df.apply(lambda x: x.dtype)\n",
    "    train_import_table[\"NROW\"] = df.shape[0]\n",
    "    train_import_table[\"Unique_values\"] = [ len(df[col].unique()) for col in df.columns]\n",
    "    train_import_table[\"Percent_missing\"] = (df.isnull().sum()/df.shape[0])*100\n",
    "    \n",
    "    return train_import_table"
   ]
  },
  {
   "cell_type": "code",
   "execution_count": 10,
   "id": "43501a59",
   "metadata": {
    "execution": {
     "iopub.execute_input": "2023-05-18T14:43:09.253269Z",
     "iopub.status.busy": "2023-05-18T14:43:09.252829Z",
     "iopub.status.idle": "2023-05-18T14:43:09.318155Z",
     "shell.execute_reply": "2023-05-18T14:43:09.316249Z"
    },
    "papermill": {
     "duration": 0.081972,
     "end_time": "2023-05-18T14:43:09.321099",
     "exception": false,
     "start_time": "2023-05-18T14:43:09.239127",
     "status": "completed"
    },
    "tags": []
   },
   "outputs": [
    {
     "data": {
      "text/html": [
       "<div>\n",
       "<style scoped>\n",
       "    .dataframe tbody tr th:only-of-type {\n",
       "        vertical-align: middle;\n",
       "    }\n",
       "\n",
       "    .dataframe tbody tr th {\n",
       "        vertical-align: top;\n",
       "    }\n",
       "\n",
       "    .dataframe thead th {\n",
       "        text-align: right;\n",
       "    }\n",
       "</style>\n",
       "<table border=\"1\" class=\"dataframe\">\n",
       "  <thead>\n",
       "    <tr style=\"text-align: right;\">\n",
       "      <th></th>\n",
       "      <th>dtype</th>\n",
       "      <th>NROW</th>\n",
       "      <th>Unique_values</th>\n",
       "      <th>Percent_missing</th>\n",
       "    </tr>\n",
       "  </thead>\n",
       "  <tbody>\n",
       "    <tr>\n",
       "      <th>id</th>\n",
       "      <td>int64</td>\n",
       "      <td>31644</td>\n",
       "      <td>31644</td>\n",
       "      <td>0.000000</td>\n",
       "    </tr>\n",
       "    <tr>\n",
       "      <th>author</th>\n",
       "      <td>object</td>\n",
       "      <td>31644</td>\n",
       "      <td>11</td>\n",
       "      <td>15.876627</td>\n",
       "    </tr>\n",
       "    <tr>\n",
       "      <th>geometry</th>\n",
       "      <td>object</td>\n",
       "      <td>31644</td>\n",
       "      <td>4</td>\n",
       "      <td>17.380862</td>\n",
       "    </tr>\n",
       "    <tr>\n",
       "      <th>pressure [MPa]</th>\n",
       "      <td>float64</td>\n",
       "      <td>31644</td>\n",
       "      <td>145</td>\n",
       "      <td>14.069018</td>\n",
       "    </tr>\n",
       "    <tr>\n",
       "      <th>mass_flux [kg/m2-s]</th>\n",
       "      <td>float64</td>\n",
       "      <td>31644</td>\n",
       "      <td>734</td>\n",
       "      <td>15.140311</td>\n",
       "    </tr>\n",
       "    <tr>\n",
       "      <th>x_e_out [-]</th>\n",
       "      <td>float64</td>\n",
       "      <td>31644</td>\n",
       "      <td>1683</td>\n",
       "      <td>32.913032</td>\n",
       "    </tr>\n",
       "    <tr>\n",
       "      <th>D_e [mm]</th>\n",
       "      <td>float64</td>\n",
       "      <td>31644</td>\n",
       "      <td>44</td>\n",
       "      <td>17.342940</td>\n",
       "    </tr>\n",
       "    <tr>\n",
       "      <th>D_h [mm]</th>\n",
       "      <td>float64</td>\n",
       "      <td>31644</td>\n",
       "      <td>50</td>\n",
       "      <td>14.501959</td>\n",
       "    </tr>\n",
       "    <tr>\n",
       "      <th>length [mm]</th>\n",
       "      <td>float64</td>\n",
       "      <td>31644</td>\n",
       "      <td>71</td>\n",
       "      <td>15.039186</td>\n",
       "    </tr>\n",
       "    <tr>\n",
       "      <th>chf_exp [MW/m2]</th>\n",
       "      <td>float64</td>\n",
       "      <td>31644</td>\n",
       "      <td>109</td>\n",
       "      <td>0.000000</td>\n",
       "    </tr>\n",
       "  </tbody>\n",
       "</table>\n",
       "</div>"
      ],
      "text/plain": [
       "                       dtype   NROW  Unique_values  Percent_missing\n",
       "id                     int64  31644          31644         0.000000\n",
       "author                object  31644             11        15.876627\n",
       "geometry              object  31644              4        17.380862\n",
       "pressure [MPa]       float64  31644            145        14.069018\n",
       "mass_flux [kg/m2-s]  float64  31644            734        15.140311\n",
       "x_e_out [-]          float64  31644           1683        32.913032\n",
       "D_e [mm]             float64  31644             44        17.342940\n",
       "D_h [mm]             float64  31644             50        14.501959\n",
       "length [mm]          float64  31644             71        15.039186\n",
       "chf_exp [MW/m2]      float64  31644            109         0.000000"
      ]
     },
     "execution_count": 10,
     "metadata": {},
     "output_type": "execute_result"
    }
   ],
   "source": [
    "create_EDA_summary(df = train)"
   ]
  },
  {
   "cell_type": "code",
   "execution_count": 11,
   "id": "dd47538f",
   "metadata": {
    "execution": {
     "iopub.execute_input": "2023-05-18T14:43:09.349731Z",
     "iopub.status.busy": "2023-05-18T14:43:09.349000Z",
     "iopub.status.idle": "2023-05-18T14:43:09.369118Z",
     "shell.execute_reply": "2023-05-18T14:43:09.367901Z"
    },
    "papermill": {
     "duration": 0.03733,
     "end_time": "2023-05-18T14:43:09.371904",
     "exception": false,
     "start_time": "2023-05-18T14:43:09.334574",
     "status": "completed"
    },
    "tags": []
   },
   "outputs": [
    {
     "data": {
      "text/html": [
       "<div>\n",
       "<style scoped>\n",
       "    .dataframe tbody tr th:only-of-type {\n",
       "        vertical-align: middle;\n",
       "    }\n",
       "\n",
       "    .dataframe tbody tr th {\n",
       "        vertical-align: top;\n",
       "    }\n",
       "\n",
       "    .dataframe thead th {\n",
       "        text-align: right;\n",
       "    }\n",
       "</style>\n",
       "<table border=\"1\" class=\"dataframe\">\n",
       "  <thead>\n",
       "    <tr style=\"text-align: right;\">\n",
       "      <th></th>\n",
       "      <th>id</th>\n",
       "      <th>author</th>\n",
       "      <th>geometry</th>\n",
       "      <th>pressure [MPa]</th>\n",
       "      <th>mass_flux [kg/m2-s]</th>\n",
       "      <th>x_e_out [-]</th>\n",
       "      <th>D_e [mm]</th>\n",
       "      <th>D_h [mm]</th>\n",
       "      <th>length [mm]</th>\n",
       "      <th>chf_exp [MW/m2]</th>\n",
       "    </tr>\n",
       "  </thead>\n",
       "  <tbody>\n",
       "    <tr>\n",
       "      <th>0</th>\n",
       "      <td>0</td>\n",
       "      <td>Thompson</td>\n",
       "      <td>tube</td>\n",
       "      <td>7.00</td>\n",
       "      <td>3770.0</td>\n",
       "      <td>0.1754</td>\n",
       "      <td>NaN</td>\n",
       "      <td>10.8</td>\n",
       "      <td>432.0</td>\n",
       "      <td>3.6</td>\n",
       "    </tr>\n",
       "    <tr>\n",
       "      <th>1</th>\n",
       "      <td>1</td>\n",
       "      <td>Thompson</td>\n",
       "      <td>tube</td>\n",
       "      <td>NaN</td>\n",
       "      <td>6049.0</td>\n",
       "      <td>-0.0416</td>\n",
       "      <td>10.3</td>\n",
       "      <td>10.3</td>\n",
       "      <td>762.0</td>\n",
       "      <td>6.2</td>\n",
       "    </tr>\n",
       "    <tr>\n",
       "      <th>2</th>\n",
       "      <td>2</td>\n",
       "      <td>Thompson</td>\n",
       "      <td>NaN</td>\n",
       "      <td>13.79</td>\n",
       "      <td>2034.0</td>\n",
       "      <td>0.0335</td>\n",
       "      <td>7.7</td>\n",
       "      <td>7.7</td>\n",
       "      <td>457.0</td>\n",
       "      <td>2.5</td>\n",
       "    </tr>\n",
       "    <tr>\n",
       "      <th>3</th>\n",
       "      <td>3</td>\n",
       "      <td>Beus</td>\n",
       "      <td>annulus</td>\n",
       "      <td>13.79</td>\n",
       "      <td>3679.0</td>\n",
       "      <td>-0.0279</td>\n",
       "      <td>5.6</td>\n",
       "      <td>15.2</td>\n",
       "      <td>2134.0</td>\n",
       "      <td>3.0</td>\n",
       "    </tr>\n",
       "    <tr>\n",
       "      <th>4</th>\n",
       "      <td>4</td>\n",
       "      <td>NaN</td>\n",
       "      <td>tube</td>\n",
       "      <td>13.79</td>\n",
       "      <td>686.0</td>\n",
       "      <td>NaN</td>\n",
       "      <td>11.1</td>\n",
       "      <td>11.1</td>\n",
       "      <td>457.0</td>\n",
       "      <td>2.8</td>\n",
       "    </tr>\n",
       "  </tbody>\n",
       "</table>\n",
       "</div>"
      ],
      "text/plain": [
       "   id    author geometry  pressure [MPa]  mass_flux [kg/m2-s]  x_e_out [-]  \\\n",
       "0   0  Thompson     tube            7.00               3770.0       0.1754   \n",
       "1   1  Thompson     tube             NaN               6049.0      -0.0416   \n",
       "2   2  Thompson      NaN           13.79               2034.0       0.0335   \n",
       "3   3      Beus  annulus           13.79               3679.0      -0.0279   \n",
       "4   4       NaN     tube           13.79                686.0          NaN   \n",
       "\n",
       "   D_e [mm]  D_h [mm]  length [mm]  chf_exp [MW/m2]  \n",
       "0       NaN      10.8        432.0              3.6  \n",
       "1      10.3      10.3        762.0              6.2  \n",
       "2       7.7       7.7        457.0              2.5  \n",
       "3       5.6      15.2       2134.0              3.0  \n",
       "4      11.1      11.1        457.0              2.8  "
      ]
     },
     "execution_count": 11,
     "metadata": {},
     "output_type": "execute_result"
    }
   ],
   "source": [
    "train.head()"
   ]
  },
  {
   "cell_type": "code",
   "execution_count": 12,
   "id": "2f7db964",
   "metadata": {
    "execution": {
     "iopub.execute_input": "2023-05-18T14:43:09.400476Z",
     "iopub.status.busy": "2023-05-18T14:43:09.400056Z",
     "iopub.status.idle": "2023-05-18T14:43:09.406589Z",
     "shell.execute_reply": "2023-05-18T14:43:09.405365Z"
    },
    "papermill": {
     "duration": 0.023991,
     "end_time": "2023-05-18T14:43:09.409492",
     "exception": false,
     "start_time": "2023-05-18T14:43:09.385501",
     "status": "completed"
    },
    "tags": []
   },
   "outputs": [],
   "source": [
    "train.rename(columns = {'x_e_out [-]':'target'}, inplace = True)"
   ]
  },
  {
   "cell_type": "code",
   "execution_count": 13,
   "id": "61521873",
   "metadata": {
    "execution": {
     "iopub.execute_input": "2023-05-18T14:43:09.437945Z",
     "iopub.status.busy": "2023-05-18T14:43:09.437487Z",
     "iopub.status.idle": "2023-05-18T14:43:09.503328Z",
     "shell.execute_reply": "2023-05-18T14:43:09.501783Z"
    },
    "papermill": {
     "duration": 0.083661,
     "end_time": "2023-05-18T14:43:09.506629",
     "exception": false,
     "start_time": "2023-05-18T14:43:09.422968",
     "status": "completed"
    },
    "tags": []
   },
   "outputs": [
    {
     "data": {
      "text/html": [
       "<div>\n",
       "<style scoped>\n",
       "    .dataframe tbody tr th:only-of-type {\n",
       "        vertical-align: middle;\n",
       "    }\n",
       "\n",
       "    .dataframe tbody tr th {\n",
       "        vertical-align: top;\n",
       "    }\n",
       "\n",
       "    .dataframe thead th {\n",
       "        text-align: right;\n",
       "    }\n",
       "</style>\n",
       "<table border=\"1\" class=\"dataframe\">\n",
       "  <thead>\n",
       "    <tr style=\"text-align: right;\">\n",
       "      <th></th>\n",
       "      <th>count</th>\n",
       "      <th>mean</th>\n",
       "      <th>std</th>\n",
       "      <th>min</th>\n",
       "      <th>25%</th>\n",
       "      <th>50%</th>\n",
       "      <th>75%</th>\n",
       "      <th>max</th>\n",
       "    </tr>\n",
       "  </thead>\n",
       "  <tbody>\n",
       "    <tr>\n",
       "      <th>id</th>\n",
       "      <td>31644.0</td>\n",
       "      <td>15821.500000</td>\n",
       "      <td>9134.980296</td>\n",
       "      <td>0.0000</td>\n",
       "      <td>7910.7500</td>\n",
       "      <td>15821.5000</td>\n",
       "      <td>23732.2500</td>\n",
       "      <td>31643.000</td>\n",
       "    </tr>\n",
       "    <tr>\n",
       "      <th>pressure [MPa]</th>\n",
       "      <td>27192.0</td>\n",
       "      <td>10.640747</td>\n",
       "      <td>4.333683</td>\n",
       "      <td>0.1000</td>\n",
       "      <td>6.8900</td>\n",
       "      <td>11.0700</td>\n",
       "      <td>13.7900</td>\n",
       "      <td>20.680</td>\n",
       "    </tr>\n",
       "    <tr>\n",
       "      <th>mass_flux [kg/m2-s]</th>\n",
       "      <td>26853.0</td>\n",
       "      <td>3068.011023</td>\n",
       "      <td>1777.032080</td>\n",
       "      <td>0.0000</td>\n",
       "      <td>1519.0000</td>\n",
       "      <td>2731.0000</td>\n",
       "      <td>4069.0000</td>\n",
       "      <td>7975.000</td>\n",
       "    </tr>\n",
       "    <tr>\n",
       "      <th>target</th>\n",
       "      <td>21229.0</td>\n",
       "      <td>-0.000453</td>\n",
       "      <td>0.100911</td>\n",
       "      <td>-0.8667</td>\n",
       "      <td>-0.0466</td>\n",
       "      <td>0.0038</td>\n",
       "      <td>0.0648</td>\n",
       "      <td>0.232</td>\n",
       "    </tr>\n",
       "    <tr>\n",
       "      <th>D_e [mm]</th>\n",
       "      <td>26156.0</td>\n",
       "      <td>8.629255</td>\n",
       "      <td>5.185692</td>\n",
       "      <td>1.0000</td>\n",
       "      <td>5.0000</td>\n",
       "      <td>7.8000</td>\n",
       "      <td>10.8000</td>\n",
       "      <td>37.500</td>\n",
       "    </tr>\n",
       "    <tr>\n",
       "      <th>D_h [mm]</th>\n",
       "      <td>27055.0</td>\n",
       "      <td>14.174330</td>\n",
       "      <td>19.838489</td>\n",
       "      <td>1.0000</td>\n",
       "      <td>5.6000</td>\n",
       "      <td>10.0000</td>\n",
       "      <td>11.5000</td>\n",
       "      <td>120.000</td>\n",
       "    </tr>\n",
       "    <tr>\n",
       "      <th>length [mm]</th>\n",
       "      <td>26885.0</td>\n",
       "      <td>832.987391</td>\n",
       "      <td>672.299239</td>\n",
       "      <td>10.0000</td>\n",
       "      <td>318.0000</td>\n",
       "      <td>610.0000</td>\n",
       "      <td>914.0000</td>\n",
       "      <td>3048.000</td>\n",
       "    </tr>\n",
       "    <tr>\n",
       "      <th>chf_exp [MW/m2]</th>\n",
       "      <td>31644.0</td>\n",
       "      <td>3.796985</td>\n",
       "      <td>1.983991</td>\n",
       "      <td>0.8000</td>\n",
       "      <td>2.4000</td>\n",
       "      <td>3.4000</td>\n",
       "      <td>4.6000</td>\n",
       "      <td>19.300</td>\n",
       "    </tr>\n",
       "  </tbody>\n",
       "</table>\n",
       "</div>"
      ],
      "text/plain": [
       "                       count          mean          std      min        25%  \\\n",
       "id                   31644.0  15821.500000  9134.980296   0.0000  7910.7500   \n",
       "pressure [MPa]       27192.0     10.640747     4.333683   0.1000     6.8900   \n",
       "mass_flux [kg/m2-s]  26853.0   3068.011023  1777.032080   0.0000  1519.0000   \n",
       "target               21229.0     -0.000453     0.100911  -0.8667    -0.0466   \n",
       "D_e [mm]             26156.0      8.629255     5.185692   1.0000     5.0000   \n",
       "D_h [mm]             27055.0     14.174330    19.838489   1.0000     5.6000   \n",
       "length [mm]          26885.0    832.987391   672.299239  10.0000   318.0000   \n",
       "chf_exp [MW/m2]      31644.0      3.796985     1.983991   0.8000     2.4000   \n",
       "\n",
       "                            50%         75%        max  \n",
       "id                   15821.5000  23732.2500  31643.000  \n",
       "pressure [MPa]          11.0700     13.7900     20.680  \n",
       "mass_flux [kg/m2-s]   2731.0000   4069.0000   7975.000  \n",
       "target                   0.0038      0.0648      0.232  \n",
       "D_e [mm]                 7.8000     10.8000     37.500  \n",
       "D_h [mm]                10.0000     11.5000    120.000  \n",
       "length [mm]            610.0000    914.0000   3048.000  \n",
       "chf_exp [MW/m2]          3.4000      4.6000     19.300  "
      ]
     },
     "execution_count": 13,
     "metadata": {},
     "output_type": "execute_result"
    }
   ],
   "source": [
    "train.describe().T"
   ]
  },
  {
   "cell_type": "code",
   "execution_count": 14,
   "id": "fd64e6af",
   "metadata": {
    "execution": {
     "iopub.execute_input": "2023-05-18T14:43:09.535800Z",
     "iopub.status.busy": "2023-05-18T14:43:09.535322Z",
     "iopub.status.idle": "2023-05-18T14:43:09.549433Z",
     "shell.execute_reply": "2023-05-18T14:43:09.547938Z"
    },
    "papermill": {
     "duration": 0.031995,
     "end_time": "2023-05-18T14:43:09.552484",
     "exception": false,
     "start_time": "2023-05-18T14:43:09.520489",
     "status": "completed"
    },
    "tags": []
   },
   "outputs": [],
   "source": [
    "#Create the test set to be predicted - Consists of all the missing values in the target variable\n",
    "train[\"Train/Test\"] = np.where(train[\"target\"].isnull() == True, \"Test\", \"Train\")"
   ]
  },
  {
   "cell_type": "code",
   "execution_count": 15,
   "id": "404801ff",
   "metadata": {
    "execution": {
     "iopub.execute_input": "2023-05-18T14:43:09.581073Z",
     "iopub.status.busy": "2023-05-18T14:43:09.580603Z",
     "iopub.status.idle": "2023-05-18T14:43:09.598940Z",
     "shell.execute_reply": "2023-05-18T14:43:09.597528Z"
    },
    "papermill": {
     "duration": 0.036469,
     "end_time": "2023-05-18T14:43:09.601960",
     "exception": false,
     "start_time": "2023-05-18T14:43:09.565491",
     "status": "completed"
    },
    "tags": []
   },
   "outputs": [
    {
     "data": {
      "text/plain": [
       "Train    0.67087\n",
       "Test     0.32913\n",
       "Name: Train/Test, dtype: float64"
      ]
     },
     "execution_count": 15,
     "metadata": {},
     "output_type": "execute_result"
    }
   ],
   "source": [
    "train[\"Train/Test\"].value_counts(normalize=True)"
   ]
  },
  {
   "cell_type": "code",
   "execution_count": 16,
   "id": "daaa2a69",
   "metadata": {
    "execution": {
     "iopub.execute_input": "2023-05-18T14:43:09.630679Z",
     "iopub.status.busy": "2023-05-18T14:43:09.630217Z",
     "iopub.status.idle": "2023-05-18T14:43:09.661404Z",
     "shell.execute_reply": "2023-05-18T14:43:09.660020Z"
    },
    "papermill": {
     "duration": 0.049089,
     "end_time": "2023-05-18T14:43:09.664231",
     "exception": false,
     "start_time": "2023-05-18T14:43:09.615142",
     "status": "completed"
    },
    "tags": []
   },
   "outputs": [],
   "source": [
    "test = train[train[\"Train/Test\"] == \"Test\"]\n",
    "train = train[train[\"Train/Test\"] == \"Train\"]"
   ]
  },
  {
   "cell_type": "code",
   "execution_count": 17,
   "id": "6aa3044f",
   "metadata": {
    "execution": {
     "iopub.execute_input": "2023-05-18T14:43:09.692377Z",
     "iopub.status.busy": "2023-05-18T14:43:09.691968Z",
     "iopub.status.idle": "2023-05-18T14:43:09.700279Z",
     "shell.execute_reply": "2023-05-18T14:43:09.698789Z"
    },
    "papermill": {
     "duration": 0.025518,
     "end_time": "2023-05-18T14:43:09.702893",
     "exception": false,
     "start_time": "2023-05-18T14:43:09.677375",
     "status": "completed"
    },
    "tags": []
   },
   "outputs": [
    {
     "data": {
      "text/plain": [
       "(21229, 11)"
      ]
     },
     "execution_count": 17,
     "metadata": {},
     "output_type": "execute_result"
    }
   ],
   "source": [
    "train.shape\n"
   ]
  },
  {
   "cell_type": "code",
   "execution_count": 18,
   "id": "ec34edbf",
   "metadata": {
    "execution": {
     "iopub.execute_input": "2023-05-18T14:43:09.732589Z",
     "iopub.status.busy": "2023-05-18T14:43:09.731877Z",
     "iopub.status.idle": "2023-05-18T14:43:09.755644Z",
     "shell.execute_reply": "2023-05-18T14:43:09.754127Z"
    },
    "papermill": {
     "duration": 0.041784,
     "end_time": "2023-05-18T14:43:09.758507",
     "exception": false,
     "start_time": "2023-05-18T14:43:09.716723",
     "status": "completed"
    },
    "tags": []
   },
   "outputs": [
    {
     "data": {
      "text/html": [
       "<div>\n",
       "<style scoped>\n",
       "    .dataframe tbody tr th:only-of-type {\n",
       "        vertical-align: middle;\n",
       "    }\n",
       "\n",
       "    .dataframe tbody tr th {\n",
       "        vertical-align: top;\n",
       "    }\n",
       "\n",
       "    .dataframe thead th {\n",
       "        text-align: right;\n",
       "    }\n",
       "</style>\n",
       "<table border=\"1\" class=\"dataframe\">\n",
       "  <thead>\n",
       "    <tr style=\"text-align: right;\">\n",
       "      <th></th>\n",
       "      <th>author</th>\n",
       "      <th>geometry</th>\n",
       "      <th>pressure [MPa]</th>\n",
       "      <th>mass_flux [kg/m2-s]</th>\n",
       "      <th>target</th>\n",
       "      <th>D_e [mm]</th>\n",
       "      <th>D_h [mm]</th>\n",
       "      <th>length [mm]</th>\n",
       "      <th>chf_exp [MW/m2]</th>\n",
       "      <th>Train/Test</th>\n",
       "    </tr>\n",
       "    <tr>\n",
       "      <th>id</th>\n",
       "      <th></th>\n",
       "      <th></th>\n",
       "      <th></th>\n",
       "      <th></th>\n",
       "      <th></th>\n",
       "      <th></th>\n",
       "      <th></th>\n",
       "      <th></th>\n",
       "      <th></th>\n",
       "      <th></th>\n",
       "    </tr>\n",
       "  </thead>\n",
       "  <tbody>\n",
       "    <tr>\n",
       "      <th>0</th>\n",
       "      <td>Thompson</td>\n",
       "      <td>tube</td>\n",
       "      <td>7.00</td>\n",
       "      <td>3770.0</td>\n",
       "      <td>0.1754</td>\n",
       "      <td>NaN</td>\n",
       "      <td>10.8</td>\n",
       "      <td>432.0</td>\n",
       "      <td>3.6</td>\n",
       "      <td>Train</td>\n",
       "    </tr>\n",
       "    <tr>\n",
       "      <th>1</th>\n",
       "      <td>Thompson</td>\n",
       "      <td>tube</td>\n",
       "      <td>NaN</td>\n",
       "      <td>6049.0</td>\n",
       "      <td>-0.0416</td>\n",
       "      <td>10.3</td>\n",
       "      <td>10.3</td>\n",
       "      <td>762.0</td>\n",
       "      <td>6.2</td>\n",
       "      <td>Train</td>\n",
       "    </tr>\n",
       "    <tr>\n",
       "      <th>2</th>\n",
       "      <td>Thompson</td>\n",
       "      <td>NaN</td>\n",
       "      <td>13.79</td>\n",
       "      <td>2034.0</td>\n",
       "      <td>0.0335</td>\n",
       "      <td>7.7</td>\n",
       "      <td>7.7</td>\n",
       "      <td>457.0</td>\n",
       "      <td>2.5</td>\n",
       "      <td>Train</td>\n",
       "    </tr>\n",
       "  </tbody>\n",
       "</table>\n",
       "</div>"
      ],
      "text/plain": [
       "      author geometry  pressure [MPa]  mass_flux [kg/m2-s]  target  D_e [mm]  \\\n",
       "id                                                                             \n",
       "0   Thompson     tube            7.00               3770.0  0.1754       NaN   \n",
       "1   Thompson     tube             NaN               6049.0 -0.0416      10.3   \n",
       "2   Thompson      NaN           13.79               2034.0  0.0335       7.7   \n",
       "\n",
       "    D_h [mm]  length [mm]  chf_exp [MW/m2] Train/Test  \n",
       "id                                                     \n",
       "0       10.8        432.0              3.6      Train  \n",
       "1       10.3        762.0              6.2      Train  \n",
       "2        7.7        457.0              2.5      Train  "
      ]
     },
     "execution_count": 18,
     "metadata": {},
     "output_type": "execute_result"
    }
   ],
   "source": [
    "#Building a basic first model\n",
    "\n",
    "#Mean of the target variable\n",
    "\n",
    "train = train.set_index(\"id\")\n",
    "train.head(3)"
   ]
  },
  {
   "cell_type": "code",
   "execution_count": 19,
   "id": "34342e20",
   "metadata": {
    "execution": {
     "iopub.execute_input": "2023-05-18T14:43:09.788296Z",
     "iopub.status.busy": "2023-05-18T14:43:09.787414Z",
     "iopub.status.idle": "2023-05-18T14:43:09.793263Z",
     "shell.execute_reply": "2023-05-18T14:43:09.792055Z"
    },
    "papermill": {
     "duration": 0.023721,
     "end_time": "2023-05-18T14:43:09.795959",
     "exception": false,
     "start_time": "2023-05-18T14:43:09.772238",
     "status": "completed"
    },
    "tags": []
   },
   "outputs": [],
   "source": [
    "#Start with defining the initial imputation strategy for each feature"
   ]
  },
  {
   "cell_type": "code",
   "execution_count": 20,
   "id": "2e56379a",
   "metadata": {
    "execution": {
     "iopub.execute_input": "2023-05-18T14:43:09.825223Z",
     "iopub.status.busy": "2023-05-18T14:43:09.824716Z",
     "iopub.status.idle": "2023-05-18T14:43:09.838717Z",
     "shell.execute_reply": "2023-05-18T14:43:09.837263Z"
    },
    "papermill": {
     "duration": 0.031927,
     "end_time": "2023-05-18T14:43:09.841479",
     "exception": false,
     "start_time": "2023-05-18T14:43:09.809552",
     "status": "completed"
    },
    "tags": []
   },
   "outputs": [
    {
     "data": {
      "text/plain": [
       "Thompson        11621\n",
       "Janssen          1846\n",
       "Weatherhead      1377\n",
       "Beus             1087\n",
       "Peskov            729\n",
       "Williams          567\n",
       "Richenderfer      371\n",
       "Mortimore         130\n",
       "Kossolapov         70\n",
       "Inasaka            28\n",
       "Name: author, dtype: int64"
      ]
     },
     "execution_count": 20,
     "metadata": {},
     "output_type": "execute_result"
    }
   ],
   "source": [
    "train[\"author\"].value_counts()\n",
    "#use most frequent for author"
   ]
  },
  {
   "cell_type": "code",
   "execution_count": 21,
   "id": "3fb06504",
   "metadata": {
    "execution": {
     "iopub.execute_input": "2023-05-18T14:43:09.872080Z",
     "iopub.status.busy": "2023-05-18T14:43:09.871580Z",
     "iopub.status.idle": "2023-05-18T14:43:09.884886Z",
     "shell.execute_reply": "2023-05-18T14:43:09.883306Z"
    },
    "papermill": {
     "duration": 0.031902,
     "end_time": "2023-05-18T14:43:09.887468",
     "exception": false,
     "start_time": "2023-05-18T14:43:09.855566",
     "status": "completed"
    },
    "tags": []
   },
   "outputs": [
    {
     "data": {
      "text/plain": [
       "tube       14121\n",
       "annulus     2971\n",
       "plate        424\n",
       "Name: geometry, dtype: int64"
      ]
     },
     "execution_count": 21,
     "metadata": {},
     "output_type": "execute_result"
    }
   ],
   "source": [
    "train[\"geometry\"].value_counts()\n",
    "#Use most frequent for geometry"
   ]
  },
  {
   "cell_type": "code",
   "execution_count": 22,
   "id": "5bb9de08",
   "metadata": {
    "execution": {
     "iopub.execute_input": "2023-05-18T14:43:09.918990Z",
     "iopub.status.busy": "2023-05-18T14:43:09.918530Z",
     "iopub.status.idle": "2023-05-18T14:43:09.927799Z",
     "shell.execute_reply": "2023-05-18T14:43:09.926442Z"
    },
    "papermill": {
     "duration": 0.028056,
     "end_time": "2023-05-18T14:43:09.930552",
     "exception": false,
     "start_time": "2023-05-18T14:43:09.902496",
     "status": "completed"
    },
    "tags": []
   },
   "outputs": [
    {
     "data": {
      "text/plain": [
       "['author',\n",
       " 'geometry',\n",
       " 'pressure [MPa]',\n",
       " 'mass_flux [kg/m2-s]',\n",
       " 'target',\n",
       " 'D_e [mm]',\n",
       " 'D_h [mm]',\n",
       " 'length [mm]',\n",
       " 'chf_exp [MW/m2]',\n",
       " 'Train/Test']"
      ]
     },
     "execution_count": 22,
     "metadata": {},
     "output_type": "execute_result"
    }
   ],
   "source": [
    "train.columns.to_list()"
   ]
  },
  {
   "cell_type": "code",
   "execution_count": null,
   "id": "7142be42",
   "metadata": {
    "papermill": {
     "duration": 0.014811,
     "end_time": "2023-05-18T14:43:09.960465",
     "exception": false,
     "start_time": "2023-05-18T14:43:09.945654",
     "status": "completed"
    },
    "tags": []
   },
   "outputs": [],
   "source": []
  },
  {
   "cell_type": "code",
   "execution_count": 23,
   "id": "cea104df",
   "metadata": {
    "execution": {
     "iopub.execute_input": "2023-05-18T14:43:09.992821Z",
     "iopub.status.busy": "2023-05-18T14:43:09.992348Z",
     "iopub.status.idle": "2023-05-18T14:43:09.998755Z",
     "shell.execute_reply": "2023-05-18T14:43:09.997336Z"
    },
    "papermill": {
     "duration": 0.025972,
     "end_time": "2023-05-18T14:43:10.001745",
     "exception": false,
     "start_time": "2023-05-18T14:43:09.975773",
     "status": "completed"
    },
    "tags": []
   },
   "outputs": [],
   "source": [
    "#List for encoding\n",
    "\n",
    "most_freq = [\"author\", 'geometry']\n",
    "\n",
    "num_features = [\n",
    " 'pressure [MPa]',\n",
    " 'mass_flux [kg/m2-s]',\n",
    " 'D_e [mm]',\n",
    " 'D_h [mm]',\n",
    " 'length [mm]',\n",
    " 'chf_exp [MW/m2]']"
   ]
  },
  {
   "cell_type": "code",
   "execution_count": 24,
   "id": "e425f723",
   "metadata": {
    "execution": {
     "iopub.execute_input": "2023-05-18T14:43:10.033682Z",
     "iopub.status.busy": "2023-05-18T14:43:10.033232Z",
     "iopub.status.idle": "2023-05-18T14:43:10.040942Z",
     "shell.execute_reply": "2023-05-18T14:43:10.039527Z"
    },
    "papermill": {
     "duration": 0.026695,
     "end_time": "2023-05-18T14:43:10.043593",
     "exception": false,
     "start_time": "2023-05-18T14:43:10.016898",
     "status": "completed"
    },
    "tags": []
   },
   "outputs": [],
   "source": [
    "# Define Encoders\n",
    "\n",
    "encoders  = [ce.OneHotEncoder(),\n",
    "                     ce.CatBoostEncoder(drop_invariant = True, return_df = True),\n",
    "                     ce.OrdinalEncoder(drop_invariant = True),\n",
    "                     ce.TargetEncoder(drop_invariant = True),\n",
    "                     ce.WOEEncoder(verbose=0, cols=None, drop_invariant=False, return_df=True, \n",
    "                              handle_unknown='value', handle_missing='value', \n",
    "                              random_state=None, randomized=False, sigma=0.05, regularization=1.0)]"
   ]
  },
  {
   "cell_type": "code",
   "execution_count": 25,
   "id": "fa54766d",
   "metadata": {
    "execution": {
     "iopub.execute_input": "2023-05-18T14:43:10.075316Z",
     "iopub.status.busy": "2023-05-18T14:43:10.074861Z",
     "iopub.status.idle": "2023-05-18T14:43:10.082750Z",
     "shell.execute_reply": "2023-05-18T14:43:10.081083Z"
    },
    "papermill": {
     "duration": 0.027055,
     "end_time": "2023-05-18T14:43:10.085545",
     "exception": false,
     "start_time": "2023-05-18T14:43:10.058490",
     "status": "completed"
    },
    "tags": []
   },
   "outputs": [],
   "source": [
    "#Feature engineering steps for cross-validation\n",
    "most_freq_pipe = Pipeline([('most_freq', SimpleImputer(strategy = \"most_frequent\")), (\"one_hot\",ce.OneHotEncoder() )])\n",
    "\n",
    "num_mean_imputation =  Pipeline([('mean', SimpleImputer(strategy = \"mean\"))])                        \n",
    "                           \n",
    "                           \n",
    "#Preprocessing pipeline\n",
    "preprocessor = ColumnTransformer([('most_freq', most_freq_pipe, most_freq), ('mean_impute', num_mean_imputation, num_features)])"
   ]
  },
  {
   "cell_type": "code",
   "execution_count": 26,
   "id": "1dbbe836",
   "metadata": {
    "execution": {
     "iopub.execute_input": "2023-05-18T14:43:10.117920Z",
     "iopub.status.busy": "2023-05-18T14:43:10.117422Z",
     "iopub.status.idle": "2023-05-18T14:43:10.129383Z",
     "shell.execute_reply": "2023-05-18T14:43:10.127908Z"
    },
    "papermill": {
     "duration": 0.032238,
     "end_time": "2023-05-18T14:43:10.132543",
     "exception": false,
     "start_time": "2023-05-18T14:43:10.100305",
     "status": "completed"
    },
    "tags": []
   },
   "outputs": [],
   "source": [
    "#Define the model\n",
    "#Define models\n",
    "\n",
    "models = {\n",
    "            \"xgb\": xgb.XGBRegressor(),\n",
    "            #\"xgb_exact\": xgb.XGBRegressor(**xgb_exact_params),\n",
    "            #\"xgb_approx\": xgb.XGBRegressor(**xgb_approx_params),\n",
    "            \"lgb\": lgb.LGBMRegressor(),\n",
    "            #\"lgb2\": lgb.LGBMRegressor(**lgb2_params),\n",
    "            #\"lgb3\": lgb.LGBMRegressor(**lgb3_params),\n",
    "            \"cat\": CatBoostRegressor(),\n",
    "            #\"cat2\": CatBoostRegressor(**cb2_params),\n",
    "           # \"cat3\": CatBoostRegressor(**cb3_params),\n",
    "            #\"cat_sym\": CatBoostRegressor(**cb_sym_params),\n",
    "            #\"cat_loss\": CatBoostRegressor(**cb_loss_params),\n",
    "            #\"Ridge\": RidgeCV(),\n",
    "            #\"Lasso\": LassoCV(),\n",
    "            #\"RandomForestRegressor\": RandomForestRegressor(n_estimators=200, random_state=self.random_state, n_jobs=-1),\n",
    "            #\"PLSRegression\": PLSRegression(n_components=10, max_iter=2000),\n",
    "            #\"PassiveAggressiveRegressor\": PassiveAggressiveRegressor(max_iter=3000, tol=1e-3, n_iter_no_change=30, random_state=self.random_state),\n",
    "            #\"GradientBoostingRegressor\": GradientBoostingRegressor(n_estimators=2000, learning_rate=0.05, loss=\"absolute_error\", random_state=self.random_state),\n",
    "           # \"HistGradientBoostingRegressor\": HistGradientBoostingRegressor(max_iter=self.n_estimators, learning_rate=0.01, loss=\"absolute_error\", n_iter_no_change=300,random_state=self.random_state),\n",
    "            #\"ARDRegression\": ARDRegression(n_iter=1000),\n",
    "           # \"HuberRegressor\": HuberRegressor(max_iter=3000),\n",
    "            #\"KNeighborsRegressor\": KNeighborsRegressor(n_neighbors=5, n_jobs=-1)\n",
    "        }\n"
   ]
  },
  {
   "cell_type": "code",
   "execution_count": 27,
   "id": "e9bb2c9f",
   "metadata": {
    "execution": {
     "iopub.execute_input": "2023-05-18T14:43:10.164676Z",
     "iopub.status.busy": "2023-05-18T14:43:10.164257Z",
     "iopub.status.idle": "2023-05-18T14:43:10.171126Z",
     "shell.execute_reply": "2023-05-18T14:43:10.169365Z"
    },
    "papermill": {
     "duration": 0.026323,
     "end_time": "2023-05-18T14:43:10.174083",
     "exception": false,
     "start_time": "2023-05-18T14:43:10.147760",
     "status": "completed"
    },
    "tags": []
   },
   "outputs": [],
   "source": [
    "#Define the cross-vlidation strategy\n",
    "#Cross validation strategy\n",
    "seed = 42\n",
    "splits = 3\n",
    "#cv = RepeatedStratifiedKFold(n_splits = splits, n_repeats = 5, random_state = seed)\n",
    "cv = KFold(n_splits = splits, random_state = seed, shuffle = True)\n"
   ]
  },
  {
   "cell_type": "code",
   "execution_count": 28,
   "id": "0a9b68d0",
   "metadata": {
    "execution": {
     "iopub.execute_input": "2023-05-18T14:43:10.207037Z",
     "iopub.status.busy": "2023-05-18T14:43:10.206603Z",
     "iopub.status.idle": "2023-05-18T14:43:10.214595Z",
     "shell.execute_reply": "2023-05-18T14:43:10.213587Z"
    },
    "papermill": {
     "duration": 0.025996,
     "end_time": "2023-05-18T14:43:10.217142",
     "exception": false,
     "start_time": "2023-05-18T14:43:10.191146",
     "status": "completed"
    },
    "tags": []
   },
   "outputs": [],
   "source": [
    "#Create the feature matrix and the target\n",
    "train_y = train[target].values\n",
    "train_X = train.drop([\"target\", \"Train/Test\"], axis = 1)"
   ]
  },
  {
   "cell_type": "code",
   "execution_count": 29,
   "id": "40a175c5",
   "metadata": {
    "execution": {
     "iopub.execute_input": "2023-05-18T14:43:10.247766Z",
     "iopub.status.busy": "2023-05-18T14:43:10.247277Z",
     "iopub.status.idle": "2023-05-18T14:43:10.274625Z",
     "shell.execute_reply": "2023-05-18T14:43:10.273559Z"
    },
    "papermill": {
     "duration": 0.046127,
     "end_time": "2023-05-18T14:43:10.277178",
     "exception": false,
     "start_time": "2023-05-18T14:43:10.231051",
     "status": "completed"
    },
    "tags": []
   },
   "outputs": [
    {
     "data": {
      "text/html": [
       "<div>\n",
       "<style scoped>\n",
       "    .dataframe tbody tr th:only-of-type {\n",
       "        vertical-align: middle;\n",
       "    }\n",
       "\n",
       "    .dataframe tbody tr th {\n",
       "        vertical-align: top;\n",
       "    }\n",
       "\n",
       "    .dataframe thead th {\n",
       "        text-align: right;\n",
       "    }\n",
       "</style>\n",
       "<table border=\"1\" class=\"dataframe\">\n",
       "  <thead>\n",
       "    <tr style=\"text-align: right;\">\n",
       "      <th></th>\n",
       "      <th>author</th>\n",
       "      <th>geometry</th>\n",
       "      <th>pressure [MPa]</th>\n",
       "      <th>mass_flux [kg/m2-s]</th>\n",
       "      <th>D_e [mm]</th>\n",
       "      <th>D_h [mm]</th>\n",
       "      <th>length [mm]</th>\n",
       "      <th>chf_exp [MW/m2]</th>\n",
       "    </tr>\n",
       "    <tr>\n",
       "      <th>id</th>\n",
       "      <th></th>\n",
       "      <th></th>\n",
       "      <th></th>\n",
       "      <th></th>\n",
       "      <th></th>\n",
       "      <th></th>\n",
       "      <th></th>\n",
       "      <th></th>\n",
       "    </tr>\n",
       "  </thead>\n",
       "  <tbody>\n",
       "    <tr>\n",
       "      <th>0</th>\n",
       "      <td>Thompson</td>\n",
       "      <td>tube</td>\n",
       "      <td>7.00</td>\n",
       "      <td>3770.0</td>\n",
       "      <td>NaN</td>\n",
       "      <td>10.8</td>\n",
       "      <td>432.0</td>\n",
       "      <td>3.6</td>\n",
       "    </tr>\n",
       "    <tr>\n",
       "      <th>1</th>\n",
       "      <td>Thompson</td>\n",
       "      <td>tube</td>\n",
       "      <td>NaN</td>\n",
       "      <td>6049.0</td>\n",
       "      <td>10.3</td>\n",
       "      <td>10.3</td>\n",
       "      <td>762.0</td>\n",
       "      <td>6.2</td>\n",
       "    </tr>\n",
       "    <tr>\n",
       "      <th>2</th>\n",
       "      <td>Thompson</td>\n",
       "      <td>NaN</td>\n",
       "      <td>13.79</td>\n",
       "      <td>2034.0</td>\n",
       "      <td>7.7</td>\n",
       "      <td>7.7</td>\n",
       "      <td>457.0</td>\n",
       "      <td>2.5</td>\n",
       "    </tr>\n",
       "    <tr>\n",
       "      <th>3</th>\n",
       "      <td>Beus</td>\n",
       "      <td>annulus</td>\n",
       "      <td>13.79</td>\n",
       "      <td>3679.0</td>\n",
       "      <td>5.6</td>\n",
       "      <td>15.2</td>\n",
       "      <td>2134.0</td>\n",
       "      <td>3.0</td>\n",
       "    </tr>\n",
       "    <tr>\n",
       "      <th>5</th>\n",
       "      <td>NaN</td>\n",
       "      <td>NaN</td>\n",
       "      <td>17.24</td>\n",
       "      <td>3648.0</td>\n",
       "      <td>NaN</td>\n",
       "      <td>1.9</td>\n",
       "      <td>696.0</td>\n",
       "      <td>3.6</td>\n",
       "    </tr>\n",
       "    <tr>\n",
       "      <th>...</th>\n",
       "      <td>...</td>\n",
       "      <td>...</td>\n",
       "      <td>...</td>\n",
       "      <td>...</td>\n",
       "      <td>...</td>\n",
       "      <td>...</td>\n",
       "      <td>...</td>\n",
       "      <td>...</td>\n",
       "    </tr>\n",
       "    <tr>\n",
       "      <th>31636</th>\n",
       "      <td>NaN</td>\n",
       "      <td>NaN</td>\n",
       "      <td>12.07</td>\n",
       "      <td>NaN</td>\n",
       "      <td>NaN</td>\n",
       "      <td>1.9</td>\n",
       "      <td>152.0</td>\n",
       "      <td>5.4</td>\n",
       "    </tr>\n",
       "    <tr>\n",
       "      <th>31638</th>\n",
       "      <td>Thompson</td>\n",
       "      <td>tube</td>\n",
       "      <td>NaN</td>\n",
       "      <td>3648.0</td>\n",
       "      <td>4.7</td>\n",
       "      <td>4.7</td>\n",
       "      <td>318.0</td>\n",
       "      <td>9.0</td>\n",
       "    </tr>\n",
       "    <tr>\n",
       "      <th>31639</th>\n",
       "      <td>Thompson</td>\n",
       "      <td>NaN</td>\n",
       "      <td>NaN</td>\n",
       "      <td>1736.0</td>\n",
       "      <td>NaN</td>\n",
       "      <td>7.8</td>\n",
       "      <td>591.0</td>\n",
       "      <td>2.3</td>\n",
       "    </tr>\n",
       "    <tr>\n",
       "      <th>31641</th>\n",
       "      <td>Thompson</td>\n",
       "      <td>NaN</td>\n",
       "      <td>18.27</td>\n",
       "      <td>658.0</td>\n",
       "      <td>3.0</td>\n",
       "      <td>3.0</td>\n",
       "      <td>150.0</td>\n",
       "      <td>2.3</td>\n",
       "    </tr>\n",
       "    <tr>\n",
       "      <th>31643</th>\n",
       "      <td>NaN</td>\n",
       "      <td>tube</td>\n",
       "      <td>6.89</td>\n",
       "      <td>7568.0</td>\n",
       "      <td>12.8</td>\n",
       "      <td>12.8</td>\n",
       "      <td>1930.0</td>\n",
       "      <td>3.3</td>\n",
       "    </tr>\n",
       "  </tbody>\n",
       "</table>\n",
       "<p>21229 rows × 8 columns</p>\n",
       "</div>"
      ],
      "text/plain": [
       "         author geometry  pressure [MPa]  mass_flux [kg/m2-s]  D_e [mm]  \\\n",
       "id                                                                        \n",
       "0      Thompson     tube            7.00               3770.0       NaN   \n",
       "1      Thompson     tube             NaN               6049.0      10.3   \n",
       "2      Thompson      NaN           13.79               2034.0       7.7   \n",
       "3          Beus  annulus           13.79               3679.0       5.6   \n",
       "5           NaN      NaN           17.24               3648.0       NaN   \n",
       "...         ...      ...             ...                  ...       ...   \n",
       "31636       NaN      NaN           12.07                  NaN       NaN   \n",
       "31638  Thompson     tube             NaN               3648.0       4.7   \n",
       "31639  Thompson      NaN             NaN               1736.0       NaN   \n",
       "31641  Thompson      NaN           18.27                658.0       3.0   \n",
       "31643       NaN     tube            6.89               7568.0      12.8   \n",
       "\n",
       "       D_h [mm]  length [mm]  chf_exp [MW/m2]  \n",
       "id                                             \n",
       "0          10.8        432.0              3.6  \n",
       "1          10.3        762.0              6.2  \n",
       "2           7.7        457.0              2.5  \n",
       "3          15.2       2134.0              3.0  \n",
       "5           1.9        696.0              3.6  \n",
       "...         ...          ...              ...  \n",
       "31636       1.9        152.0              5.4  \n",
       "31638       4.7        318.0              9.0  \n",
       "31639       7.8        591.0              2.3  \n",
       "31641       3.0        150.0              2.3  \n",
       "31643      12.8       1930.0              3.3  \n",
       "\n",
       "[21229 rows x 8 columns]"
      ]
     },
     "execution_count": 29,
     "metadata": {},
     "output_type": "execute_result"
    }
   ],
   "source": [
    "train_X "
   ]
  },
  {
   "cell_type": "code",
   "execution_count": 30,
   "id": "24bbd604",
   "metadata": {
    "execution": {
     "iopub.execute_input": "2023-05-18T14:43:10.309729Z",
     "iopub.status.busy": "2023-05-18T14:43:10.309283Z",
     "iopub.status.idle": "2023-05-18T14:43:10.317159Z",
     "shell.execute_reply": "2023-05-18T14:43:10.315439Z"
    },
    "papermill": {
     "duration": 0.027479,
     "end_time": "2023-05-18T14:43:10.319833",
     "exception": false,
     "start_time": "2023-05-18T14:43:10.292354",
     "status": "completed"
    },
    "tags": []
   },
   "outputs": [
    {
     "data": {
      "text/plain": [
       "numpy.ndarray"
      ]
     },
     "execution_count": 30,
     "metadata": {},
     "output_type": "execute_result"
    }
   ],
   "source": [
    "type(train_y)"
   ]
  },
  {
   "cell_type": "code",
   "execution_count": 31,
   "id": "4a7c6985",
   "metadata": {
    "execution": {
     "iopub.execute_input": "2023-05-18T14:43:10.351552Z",
     "iopub.status.busy": "2023-05-18T14:43:10.351068Z",
     "iopub.status.idle": "2023-05-18T14:43:10.360261Z",
     "shell.execute_reply": "2023-05-18T14:43:10.358927Z"
    },
    "papermill": {
     "duration": 0.028255,
     "end_time": "2023-05-18T14:43:10.362832",
     "exception": false,
     "start_time": "2023-05-18T14:43:10.334577",
     "status": "completed"
    },
    "tags": []
   },
   "outputs": [
    {
     "data": {
      "text/plain": [
       "((21229,), (21229, 8))"
      ]
     },
     "execution_count": 31,
     "metadata": {},
     "output_type": "execute_result"
    }
   ],
   "source": [
    "train_y.shape, train_X.shape"
   ]
  },
  {
   "cell_type": "code",
   "execution_count": 32,
   "id": "a96d8f48",
   "metadata": {
    "execution": {
     "iopub.execute_input": "2023-05-18T14:43:10.394385Z",
     "iopub.status.busy": "2023-05-18T14:43:10.393959Z",
     "iopub.status.idle": "2023-05-18T14:43:10.414570Z",
     "shell.execute_reply": "2023-05-18T14:43:10.413427Z"
    },
    "papermill": {
     "duration": 0.040092,
     "end_time": "2023-05-18T14:43:10.417626",
     "exception": false,
     "start_time": "2023-05-18T14:43:10.377534",
     "status": "completed"
    },
    "tags": []
   },
   "outputs": [
    {
     "data": {
      "text/html": [
       "<div>\n",
       "<style scoped>\n",
       "    .dataframe tbody tr th:only-of-type {\n",
       "        vertical-align: middle;\n",
       "    }\n",
       "\n",
       "    .dataframe tbody tr th {\n",
       "        vertical-align: top;\n",
       "    }\n",
       "\n",
       "    .dataframe thead th {\n",
       "        text-align: right;\n",
       "    }\n",
       "</style>\n",
       "<table border=\"1\" class=\"dataframe\">\n",
       "  <thead>\n",
       "    <tr style=\"text-align: right;\">\n",
       "      <th></th>\n",
       "      <th>author</th>\n",
       "      <th>geometry</th>\n",
       "      <th>pressure [MPa]</th>\n",
       "      <th>mass_flux [kg/m2-s]</th>\n",
       "      <th>D_e [mm]</th>\n",
       "      <th>D_h [mm]</th>\n",
       "      <th>length [mm]</th>\n",
       "      <th>chf_exp [MW/m2]</th>\n",
       "    </tr>\n",
       "    <tr>\n",
       "      <th>id</th>\n",
       "      <th></th>\n",
       "      <th></th>\n",
       "      <th></th>\n",
       "      <th></th>\n",
       "      <th></th>\n",
       "      <th></th>\n",
       "      <th></th>\n",
       "      <th></th>\n",
       "    </tr>\n",
       "  </thead>\n",
       "  <tbody>\n",
       "    <tr>\n",
       "      <th>0</th>\n",
       "      <td>Thompson</td>\n",
       "      <td>tube</td>\n",
       "      <td>7.00</td>\n",
       "      <td>3770.0</td>\n",
       "      <td>NaN</td>\n",
       "      <td>10.8</td>\n",
       "      <td>432.0</td>\n",
       "      <td>3.6</td>\n",
       "    </tr>\n",
       "    <tr>\n",
       "      <th>1</th>\n",
       "      <td>Thompson</td>\n",
       "      <td>tube</td>\n",
       "      <td>NaN</td>\n",
       "      <td>6049.0</td>\n",
       "      <td>10.3</td>\n",
       "      <td>10.3</td>\n",
       "      <td>762.0</td>\n",
       "      <td>6.2</td>\n",
       "    </tr>\n",
       "    <tr>\n",
       "      <th>2</th>\n",
       "      <td>Thompson</td>\n",
       "      <td>NaN</td>\n",
       "      <td>13.79</td>\n",
       "      <td>2034.0</td>\n",
       "      <td>7.7</td>\n",
       "      <td>7.7</td>\n",
       "      <td>457.0</td>\n",
       "      <td>2.5</td>\n",
       "    </tr>\n",
       "    <tr>\n",
       "      <th>3</th>\n",
       "      <td>Beus</td>\n",
       "      <td>annulus</td>\n",
       "      <td>13.79</td>\n",
       "      <td>3679.0</td>\n",
       "      <td>5.6</td>\n",
       "      <td>15.2</td>\n",
       "      <td>2134.0</td>\n",
       "      <td>3.0</td>\n",
       "    </tr>\n",
       "    <tr>\n",
       "      <th>5</th>\n",
       "      <td>NaN</td>\n",
       "      <td>NaN</td>\n",
       "      <td>17.24</td>\n",
       "      <td>3648.0</td>\n",
       "      <td>NaN</td>\n",
       "      <td>1.9</td>\n",
       "      <td>696.0</td>\n",
       "      <td>3.6</td>\n",
       "    </tr>\n",
       "  </tbody>\n",
       "</table>\n",
       "</div>"
      ],
      "text/plain": [
       "      author geometry  pressure [MPa]  mass_flux [kg/m2-s]  D_e [mm]  \\\n",
       "id                                                                     \n",
       "0   Thompson     tube            7.00               3770.0       NaN   \n",
       "1   Thompson     tube             NaN               6049.0      10.3   \n",
       "2   Thompson      NaN           13.79               2034.0       7.7   \n",
       "3       Beus  annulus           13.79               3679.0       5.6   \n",
       "5        NaN      NaN           17.24               3648.0       NaN   \n",
       "\n",
       "    D_h [mm]  length [mm]  chf_exp [MW/m2]  \n",
       "id                                          \n",
       "0       10.8        432.0              3.6  \n",
       "1       10.3        762.0              6.2  \n",
       "2        7.7        457.0              2.5  \n",
       "3       15.2       2134.0              3.0  \n",
       "5        1.9        696.0              3.6  "
      ]
     },
     "execution_count": 32,
     "metadata": {},
     "output_type": "execute_result"
    }
   ],
   "source": [
    "train_X.head()"
   ]
  },
  {
   "cell_type": "code",
   "execution_count": 33,
   "id": "f170e8b2",
   "metadata": {
    "execution": {
     "iopub.execute_input": "2023-05-18T14:43:10.451928Z",
     "iopub.status.busy": "2023-05-18T14:43:10.451402Z",
     "iopub.status.idle": "2023-05-18T14:43:10.464551Z",
     "shell.execute_reply": "2023-05-18T14:43:10.462678Z"
    },
    "papermill": {
     "duration": 0.03374,
     "end_time": "2023-05-18T14:43:10.467393",
     "exception": false,
     "start_time": "2023-05-18T14:43:10.433653",
     "status": "completed"
    },
    "tags": []
   },
   "outputs": [],
   "source": [
    "#Cross-validation training loop\n",
    "\n",
    "def cross_val_pipe(model, train_X = train_X, train_y = train_y, cv = cv, label = ''):\n",
    "    \n",
    "    \n",
    "    #initiate prediction arrays and score lists\n",
    "    train_predictions = np.zeros(train.shape[0])\n",
    "    val_predictions = np.zeros(train.shape[0]) # Validation predictions are stored in a matrix with length of the number of trainijng samples and # of preds\n",
    "    train_score,val_score = [],[]\n",
    "    \n",
    "    pipe = make_pipeline(preprocessor, model)\n",
    "    \n",
    "    #training model, predicting prognosis probability, and evaluating log loss\n",
    "    for fold, (train_idx, val_idx) in enumerate(cv.split(train_X)):\n",
    "                \n",
    "        pipe.fit(train_X.iloc[train_idx], train_y[train_idx])\n",
    "        \n",
    "        train_pred_ = pipe.predict(train_X.iloc[train_idx])\n",
    "        val_pred_ = pipe.predict(train_X.iloc[val_idx])\n",
    "                  \n",
    "        train_predictions[train_idx] += train_pred_\n",
    "        val_predictions[val_idx] += val_pred_\n",
    "        \n",
    "        train_score_ = mean_squared_error(train_y[train_idx], train_pred_, squared = False)\n",
    "        val_score_ = mean_squared_error(train_y[val_idx], val_pred_, squared = False)\n",
    "        train_score.append(train_score_)\n",
    "        val_score.append(val_score_)\n",
    "    \n",
    "    print(f\"The cross-validation score for {label} is {np.mean(val_score)}\")\n",
    "    return train_predictions, val_predictions, train_score, val_score"
   ]
  },
  {
   "cell_type": "code",
   "execution_count": 34,
   "id": "79df47dc",
   "metadata": {
    "execution": {
     "iopub.execute_input": "2023-05-18T14:43:10.501412Z",
     "iopub.status.busy": "2023-05-18T14:43:10.500923Z",
     "iopub.status.idle": "2023-05-18T14:43:10.507128Z",
     "shell.execute_reply": "2023-05-18T14:43:10.505820Z"
    },
    "papermill": {
     "duration": 0.025852,
     "end_time": "2023-05-18T14:43:10.509475",
     "exception": false,
     "start_time": "2023-05-18T14:43:10.483623",
     "status": "completed"
    },
    "tags": []
   },
   "outputs": [],
   "source": [
    "model = xgb.XGBRegressor()"
   ]
  },
  {
   "cell_type": "code",
   "execution_count": 35,
   "id": "0ff63d28",
   "metadata": {
    "execution": {
     "iopub.execute_input": "2023-05-18T14:43:10.543060Z",
     "iopub.status.busy": "2023-05-18T14:43:10.542558Z",
     "iopub.status.idle": "2023-05-18T14:43:14.036523Z",
     "shell.execute_reply": "2023-05-18T14:43:14.035558Z"
    },
    "papermill": {
     "duration": 3.514639,
     "end_time": "2023-05-18T14:43:14.039923",
     "exception": false,
     "start_time": "2023-05-18T14:43:10.525284",
     "status": "completed"
    },
    "tags": []
   },
   "outputs": [
    {
     "name": "stdout",
     "output_type": "stream",
     "text": [
      "The cross-validation score for  is 0.07695888148728279\n"
     ]
    }
   ],
   "source": [
    "train_predictions, val_predictions, train_score, val_score = cross_val_pipe(model = model)"
   ]
  },
  {
   "cell_type": "code",
   "execution_count": null,
   "id": "0842e603",
   "metadata": {
    "papermill": {
     "duration": 0.014852,
     "end_time": "2023-05-18T14:43:14.071629",
     "exception": false,
     "start_time": "2023-05-18T14:43:14.056777",
     "status": "completed"
    },
    "tags": []
   },
   "outputs": [],
   "source": []
  },
  {
   "cell_type": "code",
   "execution_count": null,
   "id": "1549748f",
   "metadata": {
    "papermill": {
     "duration": 0.014717,
     "end_time": "2023-05-18T14:43:14.101617",
     "exception": false,
     "start_time": "2023-05-18T14:43:14.086900",
     "status": "completed"
    },
    "tags": []
   },
   "outputs": [],
   "source": []
  }
 ],
 "metadata": {
  "kernelspec": {
   "display_name": "Python 3",
   "language": "python",
   "name": "python3"
  },
  "language_info": {
   "codemirror_mode": {
    "name": "ipython",
    "version": 3
   },
   "file_extension": ".py",
   "mimetype": "text/x-python",
   "name": "python",
   "nbconvert_exporter": "python",
   "pygments_lexer": "ipython3",
   "version": "3.10.10"
  },
  "papermill": {
   "default_parameters": {},
   "duration": 58.871354,
   "end_time": "2023-05-18T14:43:17.193509",
   "environment_variables": {},
   "exception": null,
   "input_path": "__notebook__.ipynb",
   "output_path": "__notebook__.ipynb",
   "parameters": {},
   "start_time": "2023-05-18T14:42:18.322155",
   "version": "2.4.0"
  }
 },
 "nbformat": 4,
 "nbformat_minor": 5
}
