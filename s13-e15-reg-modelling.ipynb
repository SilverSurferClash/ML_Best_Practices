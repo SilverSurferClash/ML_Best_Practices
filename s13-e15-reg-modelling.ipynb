{
 "cells": [
  {
   "cell_type": "code",
   "execution_count": 1,
   "id": "8a721e91",
   "metadata": {
    "execution": {
     "iopub.execute_input": "2023-05-18T10:54:29.667915Z",
     "iopub.status.busy": "2023-05-18T10:54:29.666606Z",
     "iopub.status.idle": "2023-05-18T10:54:56.021582Z",
     "shell.execute_reply": "2023-05-18T10:54:56.020330Z"
    },
    "papermill": {
     "duration": 26.366723,
     "end_time": "2023-05-18T10:54:56.024293",
     "exception": false,
     "start_time": "2023-05-18T10:54:29.657570",
     "status": "completed"
    },
    "tags": []
   },
   "outputs": [
    {
     "name": "stderr",
     "output_type": "stream",
     "text": [
      "/opt/conda/lib/python3.10/site-packages/scipy/__init__.py:146: UserWarning: A NumPy version >=1.16.5 and <1.23.0 is required for this version of SciPy (detected version 1.23.5\n",
      "  warnings.warn(f\"A NumPy version >={np_minversion} and <{np_maxversion}\"\n"
     ]
    }
   ],
   "source": [
    "###### Basic packages\n",
    "import os\n",
    "from pathlib import Path\n",
    "import numpy as np\n",
    "import pandas as pd\n",
    "import matplotlib.pyplot as plt\n",
    "import seaborn as sns\n",
    "\n",
    "from sklearn.model_selection import RepeatedStratifiedKFold, StratifiedKFold, train_test_split\n",
    "from sklearn.discriminant_analysis import LinearDiscriminantAnalysis, QuadraticDiscriminantAnalysis\n",
    "\n",
    "from sklearn.linear_model import LogisticRegression\n",
    "from sklearn.metrics import roc_auc_score, roc_curve, log_loss\n",
    "from sklearn.preprocessing import LabelEncoder, StandardScaler, MinMaxScaler\n",
    "from sklearn.pipeline import make_pipeline, Pipeline\n",
    "from sklearn.feature_selection import SelectFromModel\n",
    "from sklearn.decomposition import PCA, NMF\n",
    "from sklearn.manifold import TSNE\n",
    "from umap import UMAP\n",
    "from scipy.cluster.hierarchy import dendrogram, ward\n",
    "\n",
    "import warnings\n",
    "from sklearn.exceptions import DataConversionWarning\n",
    "warnings.filterwarnings(action='ignore', category=DataConversionWarning)\n",
    "warnings.filterwarnings(action='ignore', category=DataConversionWarning)\n",
    "\n",
    "sns.set_theme(style = 'white', palette = 'viridis')\n",
    "pal = sns.color_palette('viridis')\n",
    "\n",
    "pd.set_option('display.max_rows', 100)"
   ]
  },
  {
   "cell_type": "code",
   "execution_count": 2,
   "id": "f3e5ae9f",
   "metadata": {
    "execution": {
     "iopub.execute_input": "2023-05-18T10:54:56.037996Z",
     "iopub.status.busy": "2023-05-18T10:54:56.037243Z",
     "iopub.status.idle": "2023-05-18T10:54:56.043021Z",
     "shell.execute_reply": "2023-05-18T10:54:56.042077Z"
    },
    "papermill": {
     "duration": 0.01524,
     "end_time": "2023-05-18T10:54:56.045373",
     "exception": false,
     "start_time": "2023-05-18T10:54:56.030133",
     "status": "completed"
    },
    "tags": []
   },
   "outputs": [],
   "source": [
    "# File path and files\n",
    "\n",
    "#File Path\n",
    "data_dir = \"/kaggle/input/playground-series-s3e15\"\n",
    "train_file = \"data.csv\"\n",
    "#test_file = \"test.csv\"\n",
    "orig_file = \"/kaggle/input/predicting-heat-flux/Data_CHF_Zhao_2020_ATE.csv\"\n",
    "submission_file = \"sample_submission.csv\"\n",
    "\n",
    "#target = \"x_e_out [-]\""
   ]
  },
  {
   "cell_type": "code",
   "execution_count": 3,
   "id": "a755650a",
   "metadata": {
    "execution": {
     "iopub.execute_input": "2023-05-18T10:54:56.058417Z",
     "iopub.status.busy": "2023-05-18T10:54:56.058023Z",
     "iopub.status.idle": "2023-05-18T10:54:56.062877Z",
     "shell.execute_reply": "2023-05-18T10:54:56.061769Z"
    },
    "papermill": {
     "duration": 0.014673,
     "end_time": "2023-05-18T10:54:56.065538",
     "exception": false,
     "start_time": "2023-05-18T10:54:56.050865",
     "status": "completed"
    },
    "tags": []
   },
   "outputs": [],
   "source": [
    "# test_data = Path(data_dir)/test_file\n",
    "# train_data = Path(data_dir)/train_file\n",
    "# submission_data = Path(data_dir)/submission_file"
   ]
  },
  {
   "cell_type": "code",
   "execution_count": 4,
   "id": "24e1606f",
   "metadata": {
    "execution": {
     "iopub.execute_input": "2023-05-18T10:54:56.078395Z",
     "iopub.status.busy": "2023-05-18T10:54:56.077991Z",
     "iopub.status.idle": "2023-05-18T10:54:56.082877Z",
     "shell.execute_reply": "2023-05-18T10:54:56.081788Z"
    },
    "papermill": {
     "duration": 0.013998,
     "end_time": "2023-05-18T10:54:56.085135",
     "exception": false,
     "start_time": "2023-05-18T10:54:56.071137",
     "status": "completed"
    },
    "tags": []
   },
   "outputs": [],
   "source": [
    "#train = pd.read_csv(\"/kaggle/input/playground-series-s3e15/data.csv\")\n",
    "# test = pd.read_csv(test_data)\n",
    "# submission_df = pd.read_csv(submission_data)"
   ]
  },
  {
   "cell_type": "code",
   "execution_count": 5,
   "id": "86f6b7b0",
   "metadata": {
    "execution": {
     "iopub.execute_input": "2023-05-18T10:54:56.098164Z",
     "iopub.status.busy": "2023-05-18T10:54:56.097773Z",
     "iopub.status.idle": "2023-05-18T10:54:56.104082Z",
     "shell.execute_reply": "2023-05-18T10:54:56.103006Z"
    },
    "papermill": {
     "duration": 0.015261,
     "end_time": "2023-05-18T10:54:56.106095",
     "exception": false,
     "start_time": "2023-05-18T10:54:56.090834",
     "status": "completed"
    },
    "tags": []
   },
   "outputs": [],
   "source": [
    "def get_data(data_dir = data_dir,train_file = train_file,  submission_file = submission_file):\n",
    "    #test_data = Path(data_dir)/test_file\n",
    "    train_data = Path(data_dir)/train_file\n",
    "    orig_data = Path(orig_file)\n",
    "    submission_data = Path(data_dir)/submission_file\n",
    "    train = pd.read_csv(train_data)\n",
    "   # test = pd.read_csv(test_data)\n",
    "    orig_train = pd.read_csv(orig_data)\n",
    "    submission_df = pd.read_csv(submission_data)\n",
    "    return train,submission_df,orig_train\n",
    "    "
   ]
  },
  {
   "cell_type": "code",
   "execution_count": 6,
   "id": "80ca369a",
   "metadata": {
    "execution": {
     "iopub.execute_input": "2023-05-18T10:54:56.119164Z",
     "iopub.status.busy": "2023-05-18T10:54:56.118789Z",
     "iopub.status.idle": "2023-05-18T10:54:56.223495Z",
     "shell.execute_reply": "2023-05-18T10:54:56.222230Z"
    },
    "papermill": {
     "duration": 0.116941,
     "end_time": "2023-05-18T10:54:56.228575",
     "exception": false,
     "start_time": "2023-05-18T10:54:56.111634",
     "status": "completed"
    },
    "tags": []
   },
   "outputs": [],
   "source": [
    "train, submission_df, orig_train = get_data()"
   ]
  },
  {
   "cell_type": "code",
   "execution_count": 7,
   "id": "690b1dbc",
   "metadata": {
    "execution": {
     "iopub.execute_input": "2023-05-18T10:54:56.246995Z",
     "iopub.status.busy": "2023-05-18T10:54:56.246331Z",
     "iopub.status.idle": "2023-05-18T10:54:56.290857Z",
     "shell.execute_reply": "2023-05-18T10:54:56.289584Z"
    },
    "papermill": {
     "duration": 0.056752,
     "end_time": "2023-05-18T10:54:56.293751",
     "exception": false,
     "start_time": "2023-05-18T10:54:56.236999",
     "status": "completed"
    },
    "tags": []
   },
   "outputs": [
    {
     "name": "stdout",
     "output_type": "stream",
     "text": [
      "<class 'pandas.core.frame.DataFrame'>\n",
      "RangeIndex: 31644 entries, 0 to 31643\n",
      "Data columns (total 10 columns):\n",
      " #   Column               Non-Null Count  Dtype  \n",
      "---  ------               --------------  -----  \n",
      " 0   id                   31644 non-null  int64  \n",
      " 1   author               26620 non-null  object \n",
      " 2   geometry             26144 non-null  object \n",
      " 3   pressure [MPa]       27192 non-null  float64\n",
      " 4   mass_flux [kg/m2-s]  26853 non-null  float64\n",
      " 5   x_e_out [-]          21229 non-null  float64\n",
      " 6   D_e [mm]             26156 non-null  float64\n",
      " 7   D_h [mm]             27055 non-null  float64\n",
      " 8   length [mm]          26885 non-null  float64\n",
      " 9   chf_exp [MW/m2]      31644 non-null  float64\n",
      "dtypes: float64(7), int64(1), object(2)\n",
      "memory usage: 2.4+ MB\n"
     ]
    }
   ],
   "source": [
    "train.info()"
   ]
  },
  {
   "cell_type": "code",
   "execution_count": 8,
   "id": "f6714f67",
   "metadata": {
    "execution": {
     "iopub.execute_input": "2023-05-18T10:54:56.308414Z",
     "iopub.status.busy": "2023-05-18T10:54:56.307073Z",
     "iopub.status.idle": "2023-05-18T10:54:56.314185Z",
     "shell.execute_reply": "2023-05-18T10:54:56.313348Z"
    },
    "papermill": {
     "duration": 0.016489,
     "end_time": "2023-05-18T10:54:56.316424",
     "exception": false,
     "start_time": "2023-05-18T10:54:56.299935",
     "status": "completed"
    },
    "tags": []
   },
   "outputs": [],
   "source": [
    "def create_EDA_summary (df = None):\n",
    "    train_import_table = pd.DataFrame()\n",
    "    train_import_table[\"dtype\"] = df.apply(lambda x: x.dtype)\n",
    "    train_import_table[\"NROW\"] = df.shape[0]\n",
    "    train_import_table[\"Unique_values\"] = [ len(df[col].unique()) for col in df.columns]\n",
    "    train_import_table[\"Percent_missing\"] = (df.isnull().sum()/df.shape[0])*100\n",
    "    \n",
    "    return train_import_table"
   ]
  },
  {
   "cell_type": "code",
   "execution_count": 9,
   "id": "66a2cfc5",
   "metadata": {
    "execution": {
     "iopub.execute_input": "2023-05-18T10:54:56.329845Z",
     "iopub.status.busy": "2023-05-18T10:54:56.328804Z",
     "iopub.status.idle": "2023-05-18T10:54:56.383735Z",
     "shell.execute_reply": "2023-05-18T10:54:56.382588Z"
    },
    "papermill": {
     "duration": 0.064631,
     "end_time": "2023-05-18T10:54:56.386664",
     "exception": false,
     "start_time": "2023-05-18T10:54:56.322033",
     "status": "completed"
    },
    "tags": []
   },
   "outputs": [
    {
     "data": {
      "text/html": [
       "<div>\n",
       "<style scoped>\n",
       "    .dataframe tbody tr th:only-of-type {\n",
       "        vertical-align: middle;\n",
       "    }\n",
       "\n",
       "    .dataframe tbody tr th {\n",
       "        vertical-align: top;\n",
       "    }\n",
       "\n",
       "    .dataframe thead th {\n",
       "        text-align: right;\n",
       "    }\n",
       "</style>\n",
       "<table border=\"1\" class=\"dataframe\">\n",
       "  <thead>\n",
       "    <tr style=\"text-align: right;\">\n",
       "      <th></th>\n",
       "      <th>dtype</th>\n",
       "      <th>NROW</th>\n",
       "      <th>Unique_values</th>\n",
       "      <th>Percent_missing</th>\n",
       "    </tr>\n",
       "  </thead>\n",
       "  <tbody>\n",
       "    <tr>\n",
       "      <th>id</th>\n",
       "      <td>int64</td>\n",
       "      <td>31644</td>\n",
       "      <td>31644</td>\n",
       "      <td>0.000000</td>\n",
       "    </tr>\n",
       "    <tr>\n",
       "      <th>author</th>\n",
       "      <td>object</td>\n",
       "      <td>31644</td>\n",
       "      <td>11</td>\n",
       "      <td>15.876627</td>\n",
       "    </tr>\n",
       "    <tr>\n",
       "      <th>geometry</th>\n",
       "      <td>object</td>\n",
       "      <td>31644</td>\n",
       "      <td>4</td>\n",
       "      <td>17.380862</td>\n",
       "    </tr>\n",
       "    <tr>\n",
       "      <th>pressure [MPa]</th>\n",
       "      <td>float64</td>\n",
       "      <td>31644</td>\n",
       "      <td>145</td>\n",
       "      <td>14.069018</td>\n",
       "    </tr>\n",
       "    <tr>\n",
       "      <th>mass_flux [kg/m2-s]</th>\n",
       "      <td>float64</td>\n",
       "      <td>31644</td>\n",
       "      <td>734</td>\n",
       "      <td>15.140311</td>\n",
       "    </tr>\n",
       "    <tr>\n",
       "      <th>x_e_out [-]</th>\n",
       "      <td>float64</td>\n",
       "      <td>31644</td>\n",
       "      <td>1683</td>\n",
       "      <td>32.913032</td>\n",
       "    </tr>\n",
       "    <tr>\n",
       "      <th>D_e [mm]</th>\n",
       "      <td>float64</td>\n",
       "      <td>31644</td>\n",
       "      <td>44</td>\n",
       "      <td>17.342940</td>\n",
       "    </tr>\n",
       "    <tr>\n",
       "      <th>D_h [mm]</th>\n",
       "      <td>float64</td>\n",
       "      <td>31644</td>\n",
       "      <td>50</td>\n",
       "      <td>14.501959</td>\n",
       "    </tr>\n",
       "    <tr>\n",
       "      <th>length [mm]</th>\n",
       "      <td>float64</td>\n",
       "      <td>31644</td>\n",
       "      <td>71</td>\n",
       "      <td>15.039186</td>\n",
       "    </tr>\n",
       "    <tr>\n",
       "      <th>chf_exp [MW/m2]</th>\n",
       "      <td>float64</td>\n",
       "      <td>31644</td>\n",
       "      <td>109</td>\n",
       "      <td>0.000000</td>\n",
       "    </tr>\n",
       "  </tbody>\n",
       "</table>\n",
       "</div>"
      ],
      "text/plain": [
       "                       dtype   NROW  Unique_values  Percent_missing\n",
       "id                     int64  31644          31644         0.000000\n",
       "author                object  31644             11        15.876627\n",
       "geometry              object  31644              4        17.380862\n",
       "pressure [MPa]       float64  31644            145        14.069018\n",
       "mass_flux [kg/m2-s]  float64  31644            734        15.140311\n",
       "x_e_out [-]          float64  31644           1683        32.913032\n",
       "D_e [mm]             float64  31644             44        17.342940\n",
       "D_h [mm]             float64  31644             50        14.501959\n",
       "length [mm]          float64  31644             71        15.039186\n",
       "chf_exp [MW/m2]      float64  31644            109         0.000000"
      ]
     },
     "execution_count": 9,
     "metadata": {},
     "output_type": "execute_result"
    }
   ],
   "source": [
    "create_EDA_summary(df = train)"
   ]
  },
  {
   "cell_type": "code",
   "execution_count": 10,
   "id": "797c845a",
   "metadata": {
    "execution": {
     "iopub.execute_input": "2023-05-18T10:54:56.400609Z",
     "iopub.status.busy": "2023-05-18T10:54:56.400180Z",
     "iopub.status.idle": "2023-05-18T10:54:56.419901Z",
     "shell.execute_reply": "2023-05-18T10:54:56.418674Z"
    },
    "papermill": {
     "duration": 0.030008,
     "end_time": "2023-05-18T10:54:56.423033",
     "exception": false,
     "start_time": "2023-05-18T10:54:56.393025",
     "status": "completed"
    },
    "tags": []
   },
   "outputs": [
    {
     "data": {
      "text/html": [
       "<div>\n",
       "<style scoped>\n",
       "    .dataframe tbody tr th:only-of-type {\n",
       "        vertical-align: middle;\n",
       "    }\n",
       "\n",
       "    .dataframe tbody tr th {\n",
       "        vertical-align: top;\n",
       "    }\n",
       "\n",
       "    .dataframe thead th {\n",
       "        text-align: right;\n",
       "    }\n",
       "</style>\n",
       "<table border=\"1\" class=\"dataframe\">\n",
       "  <thead>\n",
       "    <tr style=\"text-align: right;\">\n",
       "      <th></th>\n",
       "      <th>id</th>\n",
       "      <th>author</th>\n",
       "      <th>geometry</th>\n",
       "      <th>pressure [MPa]</th>\n",
       "      <th>mass_flux [kg/m2-s]</th>\n",
       "      <th>x_e_out [-]</th>\n",
       "      <th>D_e [mm]</th>\n",
       "      <th>D_h [mm]</th>\n",
       "      <th>length [mm]</th>\n",
       "      <th>chf_exp [MW/m2]</th>\n",
       "    </tr>\n",
       "  </thead>\n",
       "  <tbody>\n",
       "    <tr>\n",
       "      <th>0</th>\n",
       "      <td>0</td>\n",
       "      <td>Thompson</td>\n",
       "      <td>tube</td>\n",
       "      <td>7.00</td>\n",
       "      <td>3770.0</td>\n",
       "      <td>0.1754</td>\n",
       "      <td>NaN</td>\n",
       "      <td>10.8</td>\n",
       "      <td>432.0</td>\n",
       "      <td>3.6</td>\n",
       "    </tr>\n",
       "    <tr>\n",
       "      <th>1</th>\n",
       "      <td>1</td>\n",
       "      <td>Thompson</td>\n",
       "      <td>tube</td>\n",
       "      <td>NaN</td>\n",
       "      <td>6049.0</td>\n",
       "      <td>-0.0416</td>\n",
       "      <td>10.3</td>\n",
       "      <td>10.3</td>\n",
       "      <td>762.0</td>\n",
       "      <td>6.2</td>\n",
       "    </tr>\n",
       "    <tr>\n",
       "      <th>2</th>\n",
       "      <td>2</td>\n",
       "      <td>Thompson</td>\n",
       "      <td>NaN</td>\n",
       "      <td>13.79</td>\n",
       "      <td>2034.0</td>\n",
       "      <td>0.0335</td>\n",
       "      <td>7.7</td>\n",
       "      <td>7.7</td>\n",
       "      <td>457.0</td>\n",
       "      <td>2.5</td>\n",
       "    </tr>\n",
       "    <tr>\n",
       "      <th>3</th>\n",
       "      <td>3</td>\n",
       "      <td>Beus</td>\n",
       "      <td>annulus</td>\n",
       "      <td>13.79</td>\n",
       "      <td>3679.0</td>\n",
       "      <td>-0.0279</td>\n",
       "      <td>5.6</td>\n",
       "      <td>15.2</td>\n",
       "      <td>2134.0</td>\n",
       "      <td>3.0</td>\n",
       "    </tr>\n",
       "    <tr>\n",
       "      <th>4</th>\n",
       "      <td>4</td>\n",
       "      <td>NaN</td>\n",
       "      <td>tube</td>\n",
       "      <td>13.79</td>\n",
       "      <td>686.0</td>\n",
       "      <td>NaN</td>\n",
       "      <td>11.1</td>\n",
       "      <td>11.1</td>\n",
       "      <td>457.0</td>\n",
       "      <td>2.8</td>\n",
       "    </tr>\n",
       "  </tbody>\n",
       "</table>\n",
       "</div>"
      ],
      "text/plain": [
       "   id    author geometry  pressure [MPa]  mass_flux [kg/m2-s]  x_e_out [-]  \\\n",
       "0   0  Thompson     tube            7.00               3770.0       0.1754   \n",
       "1   1  Thompson     tube             NaN               6049.0      -0.0416   \n",
       "2   2  Thompson      NaN           13.79               2034.0       0.0335   \n",
       "3   3      Beus  annulus           13.79               3679.0      -0.0279   \n",
       "4   4       NaN     tube           13.79                686.0          NaN   \n",
       "\n",
       "   D_e [mm]  D_h [mm]  length [mm]  chf_exp [MW/m2]  \n",
       "0       NaN      10.8        432.0              3.6  \n",
       "1      10.3      10.3        762.0              6.2  \n",
       "2       7.7       7.7        457.0              2.5  \n",
       "3       5.6      15.2       2134.0              3.0  \n",
       "4      11.1      11.1        457.0              2.8  "
      ]
     },
     "execution_count": 10,
     "metadata": {},
     "output_type": "execute_result"
    }
   ],
   "source": [
    "train.head()"
   ]
  },
  {
   "cell_type": "code",
   "execution_count": 11,
   "id": "c8546bc5",
   "metadata": {
    "execution": {
     "iopub.execute_input": "2023-05-18T10:54:56.437445Z",
     "iopub.status.busy": "2023-05-18T10:54:56.437034Z",
     "iopub.status.idle": "2023-05-18T10:54:56.442642Z",
     "shell.execute_reply": "2023-05-18T10:54:56.441460Z"
    },
    "papermill": {
     "duration": 0.015618,
     "end_time": "2023-05-18T10:54:56.444777",
     "exception": false,
     "start_time": "2023-05-18T10:54:56.429159",
     "status": "completed"
    },
    "tags": []
   },
   "outputs": [],
   "source": [
    "train.rename(columns = {'x_e_out [-]':'target'}, inplace = True)"
   ]
  },
  {
   "cell_type": "code",
   "execution_count": 12,
   "id": "4976ba44",
   "metadata": {
    "execution": {
     "iopub.execute_input": "2023-05-18T10:54:56.459402Z",
     "iopub.status.busy": "2023-05-18T10:54:56.458716Z",
     "iopub.status.idle": "2023-05-18T10:54:56.512512Z",
     "shell.execute_reply": "2023-05-18T10:54:56.511329Z"
    },
    "papermill": {
     "duration": 0.064853,
     "end_time": "2023-05-18T10:54:56.515729",
     "exception": false,
     "start_time": "2023-05-18T10:54:56.450876",
     "status": "completed"
    },
    "tags": []
   },
   "outputs": [
    {
     "data": {
      "text/html": [
       "<div>\n",
       "<style scoped>\n",
       "    .dataframe tbody tr th:only-of-type {\n",
       "        vertical-align: middle;\n",
       "    }\n",
       "\n",
       "    .dataframe tbody tr th {\n",
       "        vertical-align: top;\n",
       "    }\n",
       "\n",
       "    .dataframe thead th {\n",
       "        text-align: right;\n",
       "    }\n",
       "</style>\n",
       "<table border=\"1\" class=\"dataframe\">\n",
       "  <thead>\n",
       "    <tr style=\"text-align: right;\">\n",
       "      <th></th>\n",
       "      <th>count</th>\n",
       "      <th>mean</th>\n",
       "      <th>std</th>\n",
       "      <th>min</th>\n",
       "      <th>25%</th>\n",
       "      <th>50%</th>\n",
       "      <th>75%</th>\n",
       "      <th>max</th>\n",
       "    </tr>\n",
       "  </thead>\n",
       "  <tbody>\n",
       "    <tr>\n",
       "      <th>id</th>\n",
       "      <td>31644.0</td>\n",
       "      <td>15821.500000</td>\n",
       "      <td>9134.980296</td>\n",
       "      <td>0.0000</td>\n",
       "      <td>7910.7500</td>\n",
       "      <td>15821.5000</td>\n",
       "      <td>23732.2500</td>\n",
       "      <td>31643.000</td>\n",
       "    </tr>\n",
       "    <tr>\n",
       "      <th>pressure [MPa]</th>\n",
       "      <td>27192.0</td>\n",
       "      <td>10.640747</td>\n",
       "      <td>4.333683</td>\n",
       "      <td>0.1000</td>\n",
       "      <td>6.8900</td>\n",
       "      <td>11.0700</td>\n",
       "      <td>13.7900</td>\n",
       "      <td>20.680</td>\n",
       "    </tr>\n",
       "    <tr>\n",
       "      <th>mass_flux [kg/m2-s]</th>\n",
       "      <td>26853.0</td>\n",
       "      <td>3068.011023</td>\n",
       "      <td>1777.032080</td>\n",
       "      <td>0.0000</td>\n",
       "      <td>1519.0000</td>\n",
       "      <td>2731.0000</td>\n",
       "      <td>4069.0000</td>\n",
       "      <td>7975.000</td>\n",
       "    </tr>\n",
       "    <tr>\n",
       "      <th>target</th>\n",
       "      <td>21229.0</td>\n",
       "      <td>-0.000453</td>\n",
       "      <td>0.100911</td>\n",
       "      <td>-0.8667</td>\n",
       "      <td>-0.0466</td>\n",
       "      <td>0.0038</td>\n",
       "      <td>0.0648</td>\n",
       "      <td>0.232</td>\n",
       "    </tr>\n",
       "    <tr>\n",
       "      <th>D_e [mm]</th>\n",
       "      <td>26156.0</td>\n",
       "      <td>8.629255</td>\n",
       "      <td>5.185692</td>\n",
       "      <td>1.0000</td>\n",
       "      <td>5.0000</td>\n",
       "      <td>7.8000</td>\n",
       "      <td>10.8000</td>\n",
       "      <td>37.500</td>\n",
       "    </tr>\n",
       "    <tr>\n",
       "      <th>D_h [mm]</th>\n",
       "      <td>27055.0</td>\n",
       "      <td>14.174330</td>\n",
       "      <td>19.838489</td>\n",
       "      <td>1.0000</td>\n",
       "      <td>5.6000</td>\n",
       "      <td>10.0000</td>\n",
       "      <td>11.5000</td>\n",
       "      <td>120.000</td>\n",
       "    </tr>\n",
       "    <tr>\n",
       "      <th>length [mm]</th>\n",
       "      <td>26885.0</td>\n",
       "      <td>832.987391</td>\n",
       "      <td>672.299239</td>\n",
       "      <td>10.0000</td>\n",
       "      <td>318.0000</td>\n",
       "      <td>610.0000</td>\n",
       "      <td>914.0000</td>\n",
       "      <td>3048.000</td>\n",
       "    </tr>\n",
       "    <tr>\n",
       "      <th>chf_exp [MW/m2]</th>\n",
       "      <td>31644.0</td>\n",
       "      <td>3.796985</td>\n",
       "      <td>1.983991</td>\n",
       "      <td>0.8000</td>\n",
       "      <td>2.4000</td>\n",
       "      <td>3.4000</td>\n",
       "      <td>4.6000</td>\n",
       "      <td>19.300</td>\n",
       "    </tr>\n",
       "  </tbody>\n",
       "</table>\n",
       "</div>"
      ],
      "text/plain": [
       "                       count          mean          std      min        25%  \\\n",
       "id                   31644.0  15821.500000  9134.980296   0.0000  7910.7500   \n",
       "pressure [MPa]       27192.0     10.640747     4.333683   0.1000     6.8900   \n",
       "mass_flux [kg/m2-s]  26853.0   3068.011023  1777.032080   0.0000  1519.0000   \n",
       "target               21229.0     -0.000453     0.100911  -0.8667    -0.0466   \n",
       "D_e [mm]             26156.0      8.629255     5.185692   1.0000     5.0000   \n",
       "D_h [mm]             27055.0     14.174330    19.838489   1.0000     5.6000   \n",
       "length [mm]          26885.0    832.987391   672.299239  10.0000   318.0000   \n",
       "chf_exp [MW/m2]      31644.0      3.796985     1.983991   0.8000     2.4000   \n",
       "\n",
       "                            50%         75%        max  \n",
       "id                   15821.5000  23732.2500  31643.000  \n",
       "pressure [MPa]          11.0700     13.7900     20.680  \n",
       "mass_flux [kg/m2-s]   2731.0000   4069.0000   7975.000  \n",
       "target                   0.0038      0.0648      0.232  \n",
       "D_e [mm]                 7.8000     10.8000     37.500  \n",
       "D_h [mm]                10.0000     11.5000    120.000  \n",
       "length [mm]            610.0000    914.0000   3048.000  \n",
       "chf_exp [MW/m2]          3.4000      4.6000     19.300  "
      ]
     },
     "execution_count": 12,
     "metadata": {},
     "output_type": "execute_result"
    }
   ],
   "source": [
    "train.describe().T"
   ]
  },
  {
   "cell_type": "code",
   "execution_count": 13,
   "id": "fd5bd369",
   "metadata": {
    "execution": {
     "iopub.execute_input": "2023-05-18T10:54:56.533715Z",
     "iopub.status.busy": "2023-05-18T10:54:56.533217Z",
     "iopub.status.idle": "2023-05-18T10:54:56.545203Z",
     "shell.execute_reply": "2023-05-18T10:54:56.544237Z"
    },
    "papermill": {
     "duration": 0.023145,
     "end_time": "2023-05-18T10:54:56.547662",
     "exception": false,
     "start_time": "2023-05-18T10:54:56.524517",
     "status": "completed"
    },
    "tags": []
   },
   "outputs": [],
   "source": [
    "#Create the test set to be predicted - Consists of all the missing values in the target variable\n",
    "train[\"Train/Test\"] = np.where(train[\"target\"].isnull() == True, \"Test\", \"Train\")"
   ]
  },
  {
   "cell_type": "code",
   "execution_count": 14,
   "id": "b9467bc4",
   "metadata": {
    "execution": {
     "iopub.execute_input": "2023-05-18T10:54:56.562860Z",
     "iopub.status.busy": "2023-05-18T10:54:56.562456Z",
     "iopub.status.idle": "2023-05-18T10:54:56.582101Z",
     "shell.execute_reply": "2023-05-18T10:54:56.580936Z"
    },
    "papermill": {
     "duration": 0.030549,
     "end_time": "2023-05-18T10:54:56.584900",
     "exception": false,
     "start_time": "2023-05-18T10:54:56.554351",
     "status": "completed"
    },
    "tags": []
   },
   "outputs": [
    {
     "data": {
      "text/plain": [
       "Train    0.67087\n",
       "Test     0.32913\n",
       "Name: Train/Test, dtype: float64"
      ]
     },
     "execution_count": 14,
     "metadata": {},
     "output_type": "execute_result"
    }
   ],
   "source": [
    "train[\"Train/Test\"].value_counts(normalize=True)"
   ]
  },
  {
   "cell_type": "code",
   "execution_count": 15,
   "id": "b5d91abe",
   "metadata": {
    "execution": {
     "iopub.execute_input": "2023-05-18T10:54:56.601408Z",
     "iopub.status.busy": "2023-05-18T10:54:56.600766Z",
     "iopub.status.idle": "2023-05-18T10:54:56.620713Z",
     "shell.execute_reply": "2023-05-18T10:54:56.619582Z"
    },
    "papermill": {
     "duration": 0.032017,
     "end_time": "2023-05-18T10:54:56.623572",
     "exception": false,
     "start_time": "2023-05-18T10:54:56.591555",
     "status": "completed"
    },
    "tags": []
   },
   "outputs": [],
   "source": [
    "test = train[train[\"Train/Test\"] == \"Test\"]\n",
    "train = train[train[\"Train/Test\"] == \"Train\"]"
   ]
  },
  {
   "cell_type": "code",
   "execution_count": 16,
   "id": "22fa5aeb",
   "metadata": {
    "execution": {
     "iopub.execute_input": "2023-05-18T10:54:56.644492Z",
     "iopub.status.busy": "2023-05-18T10:54:56.644083Z",
     "iopub.status.idle": "2023-05-18T10:54:56.650375Z",
     "shell.execute_reply": "2023-05-18T10:54:56.649329Z"
    },
    "papermill": {
     "duration": 0.019144,
     "end_time": "2023-05-18T10:54:56.652571",
     "exception": false,
     "start_time": "2023-05-18T10:54:56.633427",
     "status": "completed"
    },
    "tags": []
   },
   "outputs": [
    {
     "data": {
      "text/plain": [
       "(21229, 11)"
      ]
     },
     "execution_count": 16,
     "metadata": {},
     "output_type": "execute_result"
    }
   ],
   "source": [
    "train.shape\n"
   ]
  },
  {
   "cell_type": "code",
   "execution_count": 17,
   "id": "7ed5f59a",
   "metadata": {
    "execution": {
     "iopub.execute_input": "2023-05-18T10:54:56.667505Z",
     "iopub.status.busy": "2023-05-18T10:54:56.667126Z",
     "iopub.status.idle": "2023-05-18T10:54:56.685685Z",
     "shell.execute_reply": "2023-05-18T10:54:56.684660Z"
    },
    "papermill": {
     "duration": 0.028516,
     "end_time": "2023-05-18T10:54:56.687865",
     "exception": false,
     "start_time": "2023-05-18T10:54:56.659349",
     "status": "completed"
    },
    "tags": []
   },
   "outputs": [
    {
     "data": {
      "text/html": [
       "<div>\n",
       "<style scoped>\n",
       "    .dataframe tbody tr th:only-of-type {\n",
       "        vertical-align: middle;\n",
       "    }\n",
       "\n",
       "    .dataframe tbody tr th {\n",
       "        vertical-align: top;\n",
       "    }\n",
       "\n",
       "    .dataframe thead th {\n",
       "        text-align: right;\n",
       "    }\n",
       "</style>\n",
       "<table border=\"1\" class=\"dataframe\">\n",
       "  <thead>\n",
       "    <tr style=\"text-align: right;\">\n",
       "      <th></th>\n",
       "      <th>author</th>\n",
       "      <th>geometry</th>\n",
       "      <th>pressure [MPa]</th>\n",
       "      <th>mass_flux [kg/m2-s]</th>\n",
       "      <th>target</th>\n",
       "      <th>D_e [mm]</th>\n",
       "      <th>D_h [mm]</th>\n",
       "      <th>length [mm]</th>\n",
       "      <th>chf_exp [MW/m2]</th>\n",
       "      <th>Train/Test</th>\n",
       "    </tr>\n",
       "    <tr>\n",
       "      <th>id</th>\n",
       "      <th></th>\n",
       "      <th></th>\n",
       "      <th></th>\n",
       "      <th></th>\n",
       "      <th></th>\n",
       "      <th></th>\n",
       "      <th></th>\n",
       "      <th></th>\n",
       "      <th></th>\n",
       "      <th></th>\n",
       "    </tr>\n",
       "  </thead>\n",
       "  <tbody>\n",
       "    <tr>\n",
       "      <th>0</th>\n",
       "      <td>Thompson</td>\n",
       "      <td>tube</td>\n",
       "      <td>7.00</td>\n",
       "      <td>3770.0</td>\n",
       "      <td>0.1754</td>\n",
       "      <td>NaN</td>\n",
       "      <td>10.8</td>\n",
       "      <td>432.0</td>\n",
       "      <td>3.6</td>\n",
       "      <td>Train</td>\n",
       "    </tr>\n",
       "    <tr>\n",
       "      <th>1</th>\n",
       "      <td>Thompson</td>\n",
       "      <td>tube</td>\n",
       "      <td>NaN</td>\n",
       "      <td>6049.0</td>\n",
       "      <td>-0.0416</td>\n",
       "      <td>10.3</td>\n",
       "      <td>10.3</td>\n",
       "      <td>762.0</td>\n",
       "      <td>6.2</td>\n",
       "      <td>Train</td>\n",
       "    </tr>\n",
       "    <tr>\n",
       "      <th>2</th>\n",
       "      <td>Thompson</td>\n",
       "      <td>NaN</td>\n",
       "      <td>13.79</td>\n",
       "      <td>2034.0</td>\n",
       "      <td>0.0335</td>\n",
       "      <td>7.7</td>\n",
       "      <td>7.7</td>\n",
       "      <td>457.0</td>\n",
       "      <td>2.5</td>\n",
       "      <td>Train</td>\n",
       "    </tr>\n",
       "  </tbody>\n",
       "</table>\n",
       "</div>"
      ],
      "text/plain": [
       "      author geometry  pressure [MPa]  mass_flux [kg/m2-s]  target  D_e [mm]  \\\n",
       "id                                                                             \n",
       "0   Thompson     tube            7.00               3770.0  0.1754       NaN   \n",
       "1   Thompson     tube             NaN               6049.0 -0.0416      10.3   \n",
       "2   Thompson      NaN           13.79               2034.0  0.0335       7.7   \n",
       "\n",
       "    D_h [mm]  length [mm]  chf_exp [MW/m2] Train/Test  \n",
       "id                                                     \n",
       "0       10.8        432.0              3.6      Train  \n",
       "1       10.3        762.0              6.2      Train  \n",
       "2        7.7        457.0              2.5      Train  "
      ]
     },
     "execution_count": 17,
     "metadata": {},
     "output_type": "execute_result"
    }
   ],
   "source": [
    "#Building a basic first model\n",
    "\n",
    "#Mean of the target variable\n",
    "\n",
    "train = train.set_index(\"id\")\n",
    "train.head(3)"
   ]
  },
  {
   "cell_type": "code",
   "execution_count": 18,
   "id": "4b86c089",
   "metadata": {
    "execution": {
     "iopub.execute_input": "2023-05-18T10:54:56.703423Z",
     "iopub.status.busy": "2023-05-18T10:54:56.702683Z",
     "iopub.status.idle": "2023-05-18T10:54:56.707045Z",
     "shell.execute_reply": "2023-05-18T10:54:56.706341Z"
    },
    "papermill": {
     "duration": 0.014486,
     "end_time": "2023-05-18T10:54:56.709100",
     "exception": false,
     "start_time": "2023-05-18T10:54:56.694614",
     "status": "completed"
    },
    "tags": []
   },
   "outputs": [],
   "source": [
    "#Start with defining the initial imputation strategy for each feature"
   ]
  },
  {
   "cell_type": "code",
   "execution_count": 19,
   "id": "23137729",
   "metadata": {
    "execution": {
     "iopub.execute_input": "2023-05-18T10:54:56.724896Z",
     "iopub.status.busy": "2023-05-18T10:54:56.724137Z",
     "iopub.status.idle": "2023-05-18T10:54:56.733572Z",
     "shell.execute_reply": "2023-05-18T10:54:56.732549Z"
    },
    "papermill": {
     "duration": 0.019575,
     "end_time": "2023-05-18T10:54:56.735696",
     "exception": false,
     "start_time": "2023-05-18T10:54:56.716121",
     "status": "completed"
    },
    "tags": []
   },
   "outputs": [
    {
     "data": {
      "text/plain": [
       "Thompson        11621\n",
       "Janssen          1846\n",
       "Weatherhead      1377\n",
       "Beus             1087\n",
       "Peskov            729\n",
       "Williams          567\n",
       "Richenderfer      371\n",
       "Mortimore         130\n",
       "Kossolapov         70\n",
       "Inasaka            28\n",
       "Name: author, dtype: int64"
      ]
     },
     "execution_count": 19,
     "metadata": {},
     "output_type": "execute_result"
    }
   ],
   "source": [
    "train[\"author\"].value_counts()\n",
    "#use most frequent for author"
   ]
  },
  {
   "cell_type": "code",
   "execution_count": 20,
   "id": "a812a696",
   "metadata": {
    "execution": {
     "iopub.execute_input": "2023-05-18T10:54:56.752728Z",
     "iopub.status.busy": "2023-05-18T10:54:56.751767Z",
     "iopub.status.idle": "2023-05-18T10:54:56.762524Z",
     "shell.execute_reply": "2023-05-18T10:54:56.761361Z"
    },
    "papermill": {
     "duration": 0.022211,
     "end_time": "2023-05-18T10:54:56.764937",
     "exception": false,
     "start_time": "2023-05-18T10:54:56.742726",
     "status": "completed"
    },
    "tags": []
   },
   "outputs": [
    {
     "data": {
      "text/plain": [
       "tube       14121\n",
       "annulus     2971\n",
       "plate        424\n",
       "Name: geometry, dtype: int64"
      ]
     },
     "execution_count": 20,
     "metadata": {},
     "output_type": "execute_result"
    }
   ],
   "source": [
    "train[\"geometry\"].value_counts()\n",
    "#Use most frequent for geometry"
   ]
  },
  {
   "cell_type": "code",
   "execution_count": 21,
   "id": "e6a8d177",
   "metadata": {
    "execution": {
     "iopub.execute_input": "2023-05-18T10:54:56.781129Z",
     "iopub.status.busy": "2023-05-18T10:54:56.780376Z",
     "iopub.status.idle": "2023-05-18T10:54:56.787139Z",
     "shell.execute_reply": "2023-05-18T10:54:56.786331Z"
    },
    "papermill": {
     "duration": 0.017353,
     "end_time": "2023-05-18T10:54:56.789260",
     "exception": false,
     "start_time": "2023-05-18T10:54:56.771907",
     "status": "completed"
    },
    "tags": []
   },
   "outputs": [
    {
     "data": {
      "text/plain": [
       "['author',\n",
       " 'geometry',\n",
       " 'pressure [MPa]',\n",
       " 'mass_flux [kg/m2-s]',\n",
       " 'target',\n",
       " 'D_e [mm]',\n",
       " 'D_h [mm]',\n",
       " 'length [mm]',\n",
       " 'chf_exp [MW/m2]',\n",
       " 'Train/Test']"
      ]
     },
     "execution_count": 21,
     "metadata": {},
     "output_type": "execute_result"
    }
   ],
   "source": [
    "train.columns.to_list()"
   ]
  },
  {
   "cell_type": "code",
   "execution_count": 22,
   "id": "06d7facf",
   "metadata": {
    "execution": {
     "iopub.execute_input": "2023-05-18T10:54:56.806010Z",
     "iopub.status.busy": "2023-05-18T10:54:56.805235Z",
     "iopub.status.idle": "2023-05-18T10:54:56.810281Z",
     "shell.execute_reply": "2023-05-18T10:54:56.809532Z"
    },
    "papermill": {
     "duration": 0.01591,
     "end_time": "2023-05-18T10:54:56.812398",
     "exception": false,
     "start_time": "2023-05-18T10:54:56.796488",
     "status": "completed"
    },
    "tags": []
   },
   "outputs": [],
   "source": [
    "#List for encoding\n",
    "\n",
    "most_freq = [\"author\", 'geometry']\n",
    "\n",
    "num_features = [\n",
    " 'pressure [MPa]',\n",
    " 'mass_flux [kg/m2-s]',\n",
    " 'target',\n",
    " 'D_e [mm]',\n",
    " 'D_h [mm]',\n",
    " 'length [mm]',\n",
    " 'chf_exp [MW/m2]']"
   ]
  },
  {
   "cell_type": "code",
   "execution_count": null,
   "id": "a889729f",
   "metadata": {
    "papermill": {
     "duration": 0.006773,
     "end_time": "2023-05-18T10:54:56.826263",
     "exception": false,
     "start_time": "2023-05-18T10:54:56.819490",
     "status": "completed"
    },
    "tags": []
   },
   "outputs": [],
   "source": []
  }
 ],
 "metadata": {
  "kernelspec": {
   "display_name": "Python 3",
   "language": "python",
   "name": "python3"
  },
  "language_info": {
   "codemirror_mode": {
    "name": "ipython",
    "version": 3
   },
   "file_extension": ".py",
   "mimetype": "text/x-python",
   "name": "python",
   "nbconvert_exporter": "python",
   "pygments_lexer": "ipython3",
   "version": "3.10.10"
  },
  "papermill": {
   "default_parameters": {},
   "duration": 40.55366,
   "end_time": "2023-05-18T10:55:00.169574",
   "environment_variables": {},
   "exception": null,
   "input_path": "__notebook__.ipynb",
   "output_path": "__notebook__.ipynb",
   "parameters": {},
   "start_time": "2023-05-18T10:54:19.615914",
   "version": "2.4.0"
  }
 },
 "nbformat": 4,
 "nbformat_minor": 5
}
