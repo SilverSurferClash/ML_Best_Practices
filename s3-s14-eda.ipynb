{
 "cells": [
  {
   "cell_type": "code",
   "execution_count": 1,
   "id": "a251dec6",
   "metadata": {
    "execution": {
     "iopub.execute_input": "2023-04-20T09:20:02.033859Z",
     "iopub.status.busy": "2023-04-20T09:20:02.033450Z",
     "iopub.status.idle": "2023-04-20T09:20:03.565854Z",
     "shell.execute_reply": "2023-04-20T09:20:03.564178Z"
    },
    "papermill": {
     "duration": 1.541387,
     "end_time": "2023-04-20T09:20:03.569285",
     "exception": false,
     "start_time": "2023-04-20T09:20:02.027898",
     "status": "completed"
    },
    "tags": []
   },
   "outputs": [
    {
     "name": "stdout",
     "output_type": "stream",
     "text": [
      "Cloning into 'bestprac-eda.ipynb'...\r\n",
      "fatal: repository 'https://github.com/SilverSurferClash/ML_Best_Practices/blob/44a78a95cc991957b1fe1762da3d8ffdfdaa6a61/bestprac-eda.ipynb/' not found\r\n"
     ]
    }
   ],
   "source": [
    "!git clone https://github.com/SilverSurferClash/ML_Best_Practices/blob/44a78a95cc991957b1fe1762da3d8ffdfdaa6a61/bestprac-eda.ipynb"
   ]
  },
  {
   "cell_type": "code",
   "execution_count": 2,
   "id": "b7099a87",
   "metadata": {
    "execution": {
     "iopub.execute_input": "2023-04-20T09:20:03.576841Z",
     "iopub.status.busy": "2023-04-20T09:20:03.576393Z",
     "iopub.status.idle": "2023-04-20T09:20:05.515887Z",
     "shell.execute_reply": "2023-04-20T09:20:05.514459Z"
    },
    "papermill": {
     "duration": 1.946967,
     "end_time": "2023-04-20T09:20:05.519163",
     "exception": false,
     "start_time": "2023-04-20T09:20:03.572196",
     "status": "completed"
    },
    "tags": []
   },
   "outputs": [
    {
     "name": "stdout",
     "output_type": "stream",
     "text": [
      "Cloning into 'ML_Best_Practices'...\r\n",
      "remote: Enumerating objects: 52, done.\u001b[K\r\n",
      "remote: Counting objects: 100% (52/52), done.\u001b[K\r\n",
      "remote: Compressing objects: 100% (52/52), done.\u001b[K\r\n",
      "remote: Total 52 (delta 26), reused 0 (delta 0), pack-reused 0\u001b[K\r\n",
      "Receiving objects: 100% (52/52), 2.65 MiB | 13.83 MiB/s, done.\r\n",
      "Resolving deltas: 100% (26/26), done.\r\n"
     ]
    }
   ],
   "source": [
    "!git clone https://github.com/SilverSurferClash/ML_Best_Practices.git"
   ]
  },
  {
   "cell_type": "code",
   "execution_count": 3,
   "id": "d9a76406",
   "metadata": {
    "execution": {
     "iopub.execute_input": "2023-04-20T09:20:05.528895Z",
     "iopub.status.busy": "2023-04-20T09:20:05.528010Z",
     "iopub.status.idle": "2023-04-20T09:20:06.618817Z",
     "shell.execute_reply": "2023-04-20T09:20:06.617247Z"
    },
    "papermill": {
     "duration": 1.099063,
     "end_time": "2023-04-20T09:20:06.621812",
     "exception": false,
     "start_time": "2023-04-20T09:20:05.522749",
     "status": "completed"
    },
    "tags": []
   },
   "outputs": [
    {
     "name": "stdout",
     "output_type": "stream",
     "text": [
      "ML_Best_Practices  __notebook__.ipynb\r\n"
     ]
    }
   ],
   "source": [
    "!ls\n"
   ]
  },
  {
   "cell_type": "code",
   "execution_count": 4,
   "id": "0e27bf00",
   "metadata": {
    "execution": {
     "iopub.execute_input": "2023-04-20T09:20:06.630925Z",
     "iopub.status.busy": "2023-04-20T09:20:06.630504Z",
     "iopub.status.idle": "2023-04-20T09:20:07.718042Z",
     "shell.execute_reply": "2023-04-20T09:20:07.716386Z"
    },
    "papermill": {
     "duration": 1.095646,
     "end_time": "2023-04-20T09:20:07.721052",
     "exception": false,
     "start_time": "2023-04-20T09:20:06.625406",
     "status": "completed"
    },
    "tags": []
   },
   "outputs": [],
   "source": [
    "!cd ML_Best_Practices/"
   ]
  },
  {
   "cell_type": "code",
   "execution_count": 5,
   "id": "49ad4932",
   "metadata": {
    "execution": {
     "iopub.execute_input": "2023-04-20T09:20:07.730286Z",
     "iopub.status.busy": "2023-04-20T09:20:07.729762Z",
     "iopub.status.idle": "2023-04-20T09:20:08.817877Z",
     "shell.execute_reply": "2023-04-20T09:20:08.816286Z"
    },
    "papermill": {
     "duration": 1.096508,
     "end_time": "2023-04-20T09:20:08.821032",
     "exception": false,
     "start_time": "2023-04-20T09:20:07.724524",
     "status": "completed"
    },
    "tags": []
   },
   "outputs": [
    {
     "name": "stdout",
     "output_type": "stream",
     "text": [
      "ML_Best_Practices  __notebook__.ipynb\r\n"
     ]
    }
   ],
   "source": [
    "!ls"
   ]
  },
  {
   "cell_type": "code",
   "execution_count": null,
   "id": "95c8dcb0",
   "metadata": {
    "papermill": {
     "duration": 0.003124,
     "end_time": "2023-04-20T09:20:08.827742",
     "exception": false,
     "start_time": "2023-04-20T09:20:08.824618",
     "status": "completed"
    },
    "tags": []
   },
   "outputs": [],
   "source": []
  }
 ],
 "metadata": {
  "kernelspec": {
   "display_name": "Python 3",
   "language": "python",
   "name": "python3"
  },
  "language_info": {
   "codemirror_mode": {
    "name": "ipython",
    "version": 3
   },
   "file_extension": ".py",
   "mimetype": "text/x-python",
   "name": "python",
   "nbconvert_exporter": "python",
   "pygments_lexer": "ipython3",
   "version": "3.7.12"
  },
  "papermill": {
   "default_parameters": {},
   "duration": 17.839284,
   "end_time": "2023-04-20T09:20:09.555363",
   "environment_variables": {},
   "exception": null,
   "input_path": "__notebook__.ipynb",
   "output_path": "__notebook__.ipynb",
   "parameters": {},
   "start_time": "2023-04-20T09:19:51.716079",
   "version": "2.4.0"
  }
 },
 "nbformat": 4,
 "nbformat_minor": 5
}
