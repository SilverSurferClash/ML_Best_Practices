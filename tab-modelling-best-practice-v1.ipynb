{
 "cells": [
  {
   "cell_type": "code",
   "execution_count": 1,
   "id": "45d0d9fb",
   "metadata": {
    "execution": {
     "iopub.execute_input": "2023-03-30T19:26:32.117386Z",
     "iopub.status.busy": "2023-03-30T19:26:32.116330Z",
     "iopub.status.idle": "2023-03-30T19:26:32.128773Z",
     "shell.execute_reply": "2023-03-30T19:26:32.127561Z"
    },
    "papermill": {
     "duration": 0.025893,
     "end_time": "2023-03-30T19:26:32.131721",
     "exception": false,
     "start_time": "2023-03-30T19:26:32.105828",
     "status": "completed"
    },
    "tags": []
   },
   "outputs": [],
   "source": [
    "\n",
    "\n",
    "#Import data manipulation libaries\n",
    "import numpy as np # linear algebra\n",
    "import pandas as pd # data processing, CSV file I/O (e.g. pd.read_csv)\n",
    "\n"
   ]
  },
  {
   "cell_type": "markdown",
   "id": "9299a4e6",
   "metadata": {
    "papermill": {
     "duration": 0.006825,
     "end_time": "2023-03-30T19:26:32.145887",
     "exception": false,
     "start_time": "2023-03-30T19:26:32.139062",
     "status": "completed"
    },
    "tags": []
   },
   "source": [
    "#### First data loading strategy"
   ]
  },
  {
   "cell_type": "code",
   "execution_count": 2,
   "id": "12908339",
   "metadata": {
    "execution": {
     "iopub.execute_input": "2023-03-30T19:26:32.162842Z",
     "iopub.status.busy": "2023-03-30T19:26:32.162403Z",
     "iopub.status.idle": "2023-03-30T19:26:32.345943Z",
     "shell.execute_reply": "2023-03-30T19:26:32.344621Z"
    },
    "papermill": {
     "duration": 0.195356,
     "end_time": "2023-03-30T19:26:32.348917",
     "exception": false,
     "start_time": "2023-03-30T19:26:32.153561",
     "status": "completed"
    },
    "tags": []
   },
   "outputs": [],
   "source": [
    "train_import = pd.read_csv(\"/kaggle/input/playground-series-s3e6/train.csv\")\n",
    "test_df = pd.read_csv(\"/kaggle/input/playground-series-s3e6/test.csv\")\n",
    "submission = pd.read_csv(\"/kaggle/input/playground-series-s3e6/sample_submission.csv\")"
   ]
  },
  {
   "cell_type": "markdown",
   "id": "a2a94260",
   "metadata": {
    "papermill": {
     "duration": 0.006819,
     "end_time": "2023-03-30T19:26:32.363054",
     "exception": false,
     "start_time": "2023-03-30T19:26:32.356235",
     "status": "completed"
    },
    "tags": []
   },
   "source": [
    "#### Second data loading strategy\n",
    "Loading another training data set\n",
    "Adding a flag for the adversial cross-validation"
   ]
  },
  {
   "cell_type": "code",
   "execution_count": 3,
   "id": "7fb0843c",
   "metadata": {
    "execution": {
     "iopub.execute_input": "2023-03-30T19:26:32.380452Z",
     "iopub.status.busy": "2023-03-30T19:26:32.379983Z",
     "iopub.status.idle": "2023-03-30T19:26:32.523511Z",
     "shell.execute_reply": "2023-03-30T19:26:32.521826Z"
    },
    "papermill": {
     "duration": 0.155954,
     "end_time": "2023-03-30T19:26:32.526857",
     "exception": false,
     "start_time": "2023-03-30T19:26:32.370903",
     "status": "completed"
    },
    "tags": []
   },
   "outputs": [],
   "source": [
    "test = pd.read_csv('/kaggle/input/playground-series-s3e6/test.csv')\n",
    "test.drop(\"id\",axis=1,inplace=True)\n",
    "test['adv_val'] =  0\n",
    "\n",
    "train = pd.read_csv('/kaggle/input/playground-series-s3e6/train.csv')\n",
    "train.drop(\"id\",axis=1,inplace=True)\n",
    "train['adv_val'] =  1\n",
    "\n",
    "original = pd.read_csv('/kaggle/input/paris-housing-price-prediction/ParisHousing.csv')\n",
    "original['adv_val'] =  2\n",
    "\n",
    "sample = pd.read_csv('/kaggle/input/playground-series-s3e6/sample_submission.csv')"
   ]
  },
  {
   "cell_type": "markdown",
   "id": "d68613f9",
   "metadata": {
    "papermill": {
     "duration": 0.007007,
     "end_time": "2023-03-30T19:26:32.541042",
     "exception": false,
     "start_time": "2023-03-30T19:26:32.534035",
     "status": "completed"
    },
    "tags": []
   },
   "source": [
    "#### Feature Engineering"
   ]
  },
  {
   "cell_type": "code",
   "execution_count": 4,
   "id": "4d663e6c",
   "metadata": {
    "execution": {
     "iopub.execute_input": "2023-03-30T19:26:32.557476Z",
     "iopub.status.busy": "2023-03-30T19:26:32.557010Z",
     "iopub.status.idle": "2023-03-30T19:26:32.562714Z",
     "shell.execute_reply": "2023-03-30T19:26:32.561308Z"
    },
    "papermill": {
     "duration": 0.016615,
     "end_time": "2023-03-30T19:26:32.565111",
     "exception": false,
     "start_time": "2023-03-30T19:26:32.548496",
     "status": "completed"
    },
    "tags": []
   },
   "outputs": [],
   "source": [
    "#Define the target label\n",
    "\n",
    "target='price'\n",
    "\n",
    "#Create a dict - Why?\n",
    "sets={'train':train,'test':test,'original':original}"
   ]
  },
  {
   "cell_type": "code",
   "execution_count": 5,
   "id": "e798d932",
   "metadata": {
    "execution": {
     "iopub.execute_input": "2023-03-30T19:26:32.581487Z",
     "iopub.status.busy": "2023-03-30T19:26:32.580689Z",
     "iopub.status.idle": "2023-03-30T19:26:32.641962Z",
     "shell.execute_reply": "2023-03-30T19:26:32.640862Z"
    },
    "papermill": {
     "duration": 0.072476,
     "end_time": "2023-03-30T19:26:32.644636",
     "exception": false,
     "start_time": "2023-03-30T19:26:32.572160",
     "status": "completed"
    },
    "tags": []
   },
   "outputs": [
    {
     "name": "stdout",
     "output_type": "stream",
     "text": [
      "\u001b[0;33;40m A number of duplicated rows in train is 0, they were dropped \u001b[0;30;0m\n",
      "\u001b[0;33;40m A number of duplicated rows in original is 0, they were dropped \u001b[0;30;0m\n"
     ]
    }
   ],
   "source": [
    "#Function to drop rows that are duplicated in the train set and the original deck\n",
    "\n",
    "def dropping_duplicates(data):\n",
    "    data.drop_duplicates(inplace = True)\n",
    "    \n",
    "for n in {'train':train,'original':original}:\n",
    "    print(f\"\\033[0;33;40m A number of duplicated rows in {n} is {sets[n].duplicated().sum()}, they were dropped \\033[0;30;0m\")\n",
    "    dropping_duplicates(sets[n])"
   ]
  },
  {
   "cell_type": "code",
   "execution_count": 6,
   "id": "00ef5452",
   "metadata": {
    "execution": {
     "iopub.execute_input": "2023-03-30T19:26:32.661484Z",
     "iopub.status.busy": "2023-03-30T19:26:32.660686Z",
     "iopub.status.idle": "2023-03-30T19:26:34.482193Z",
     "shell.execute_reply": "2023-03-30T19:26:34.481047Z"
    },
    "papermill": {
     "duration": 1.83351,
     "end_time": "2023-03-30T19:26:34.485281",
     "exception": false,
     "start_time": "2023-03-30T19:26:32.651771",
     "status": "completed"
    },
    "tags": []
   },
   "outputs": [],
   "source": [
    "from imblearn.over_sampling import SMOTE\n",
    "from sklearn.model_selection import train_test_split\n",
    "from sklearn.model_selection import cross_val_score\n",
    "from sklearn.model_selection import StratifiedKFold\n",
    "from sklearn.model_selection import RepeatedStratifiedKFold\n",
    "from sklearn.model_selection import RepeatedKFold\n",
    "from sklearn.model_selection import GroupKFold\n",
    "from sklearn.model_selection import KFold\n",
    "from sklearn.impute import SimpleImputer\n",
    "from sklearn.preprocessing import OneHotEncoder\n",
    "from sklearn.preprocessing import StandardScaler\n",
    "from sklearn.utils import shuffle"
   ]
  },
  {
   "cell_type": "code",
   "execution_count": 7,
   "id": "cbf5873b",
   "metadata": {
    "execution": {
     "iopub.execute_input": "2023-03-30T19:26:34.502189Z",
     "iopub.status.busy": "2023-03-30T19:26:34.501758Z",
     "iopub.status.idle": "2023-03-30T19:26:34.508759Z",
     "shell.execute_reply": "2023-03-30T19:26:34.507459Z"
    },
    "papermill": {
     "duration": 0.018496,
     "end_time": "2023-03-30T19:26:34.511555",
     "exception": false,
     "start_time": "2023-03-30T19:26:34.493059",
     "status": "completed"
    },
    "tags": []
   },
   "outputs": [],
   "source": [
    "########################\n",
    "### General Settings ###\n",
    "########################\n",
    "\n",
    "gpu_switch = 'ON'\n",
    "\n",
    "###############################\n",
    "### RepeatedStratifiedKFold ###\n",
    "###############################\n",
    "\n",
    "n_splits = 5\n",
    "n_repeats =10\n",
    "sm=SMOTE(sampling_strategy='minority')\n",
    "#cv = RepeatedStratifiedKFold(n_splits=n_splits, n_repeats = n_repeats, random_state=2023)\n",
    "cv = RepeatedKFold(n_splits=n_splits, n_repeats = n_repeats, random_state=2023)\n",
    "#cv = GroupKFold(n_splits=n_splits)\n",
    "\n",
    "########################\n",
    "### Define Weights   ###\n",
    "########################\n",
    "\n",
    "# Understand where and why the weights are used\n",
    "weights = {0: 0.5009553158705701, 1: 262.19354838709677}"
   ]
  },
  {
   "cell_type": "markdown",
   "id": "8209b15c",
   "metadata": {
    "papermill": {
     "duration": 0.006847,
     "end_time": "2023-03-30T19:26:34.525641",
     "exception": false,
     "start_time": "2023-03-30T19:26:34.518794",
     "status": "completed"
    },
    "tags": []
   },
   "source": [
    "#### Define lists for feature engineering"
   ]
  },
  {
   "cell_type": "code",
   "execution_count": 8,
   "id": "fc7ebab5",
   "metadata": {
    "execution": {
     "iopub.execute_input": "2023-03-30T19:26:34.541760Z",
     "iopub.status.busy": "2023-03-30T19:26:34.541288Z",
     "iopub.status.idle": "2023-03-30T19:26:34.547899Z",
     "shell.execute_reply": "2023-03-30T19:26:34.546444Z"
    },
    "papermill": {
     "duration": 0.017801,
     "end_time": "2023-03-30T19:26:34.550583",
     "exception": false,
     "start_time": "2023-03-30T19:26:34.532782",
     "status": "completed"
    },
    "tags": []
   },
   "outputs": [],
   "source": [
    "num_cols = ['squareMeters','numberOfRooms','floors','cityPartRange','numPrevOwners',\n",
    "            'made','basement','attic','garage','hasGuestRoom','cityCode'\n",
    "            ]\n",
    "cat_cols = ['hasYard','hasPool','isNewBuilt','hasStormProtector','hasStorageRoom',]\n",
    "drop_col = []"
   ]
  },
  {
   "cell_type": "markdown",
   "id": "8a271e39",
   "metadata": {
    "papermill": {
     "duration": 0.006841,
     "end_time": "2023-03-30T19:26:34.564675",
     "exception": false,
     "start_time": "2023-03-30T19:26:34.557834",
     "status": "completed"
    },
    "tags": []
   },
   "source": [
    "#### Drop list from the test, train and original data set"
   ]
  },
  {
   "cell_type": "code",
   "execution_count": 9,
   "id": "5289bb00",
   "metadata": {
    "execution": {
     "iopub.execute_input": "2023-03-30T19:26:34.580913Z",
     "iopub.status.busy": "2023-03-30T19:26:34.580458Z",
     "iopub.status.idle": "2023-03-30T19:26:34.594266Z",
     "shell.execute_reply": "2023-03-30T19:26:34.593217Z"
    },
    "papermill": {
     "duration": 0.025418,
     "end_time": "2023-03-30T19:26:34.597154",
     "exception": false,
     "start_time": "2023-03-30T19:26:34.571736",
     "status": "completed"
    },
    "tags": []
   },
   "outputs": [],
   "source": [
    "#Drop the features in the list that have been define above\n",
    "train.drop(drop_col,axis=1,inplace=True)\n",
    "test.drop(drop_col,axis=1,inplace=True)\n",
    "original.drop(drop_col,axis=1,inplace=True)"
   ]
  },
  {
   "cell_type": "code",
   "execution_count": 10,
   "id": "4dfaf1bf",
   "metadata": {
    "execution": {
     "iopub.execute_input": "2023-03-30T19:26:34.615210Z",
     "iopub.status.busy": "2023-03-30T19:26:34.614215Z",
     "iopub.status.idle": "2023-03-30T19:26:34.751212Z",
     "shell.execute_reply": "2023-03-30T19:26:34.749945Z"
    },
    "papermill": {
     "duration": 0.149361,
     "end_time": "2023-03-30T19:26:34.753904",
     "exception": false,
     "start_time": "2023-03-30T19:26:34.604543",
     "status": "completed"
    },
    "tags": []
   },
   "outputs": [],
   "source": [
    "#Version 1\n",
    "num_imp = SimpleImputer(strategy='mean')\n",
    "cat_imp = SimpleImputer(strategy='most_frequent')\n",
    "ohe = OneHotEncoder(handle_unknown='ignore',sparse = False,drop=\"first\")\n",
    "\n",
    "train[num_cols] = pd.DataFrame(num_imp.fit_transform(train[num_cols]),columns=num_cols)\n",
    "train[cat_cols] = pd.DataFrame(cat_imp.fit_transform(train[cat_cols]),columns=cat_cols)\n",
    "train_temp=pd.DataFrame(ohe.fit_transform(train[cat_cols]),columns=ohe.get_feature_names_out())\n",
    "train=pd.concat([train.drop(cat_cols,axis=1),train_temp],axis=1) \n",
    "\n",
    "original[num_cols] = pd.DataFrame(num_imp.transform(original[num_cols]),columns=num_cols)\n",
    "original[cat_cols] = pd.DataFrame(cat_imp.transform(original[cat_cols]),columns=cat_cols)\n",
    "original_temp=pd.DataFrame(ohe.transform(original[cat_cols]),columns=ohe.get_feature_names_out())\n",
    "original=pd.concat([original.drop(cat_cols,axis=1),original_temp],axis=1)    \n",
    "\n",
    "test[num_cols] = pd.DataFrame(num_imp.transform(test[num_cols]),columns=num_cols)\n",
    "test[cat_cols] = pd.DataFrame(cat_imp.transform(test[cat_cols]),columns=cat_cols)\n",
    "test_temp=pd.DataFrame(ohe.transform(test[cat_cols]),columns=ohe.get_feature_names_out())\n",
    "test=pd.concat([test.drop(cat_cols,axis=1),test_temp],axis=1) "
   ]
  },
  {
   "cell_type": "code",
   "execution_count": 11,
   "id": "bc98fbab",
   "metadata": {
    "execution": {
     "iopub.execute_input": "2023-03-30T19:26:34.771172Z",
     "iopub.status.busy": "2023-03-30T19:26:34.770721Z",
     "iopub.status.idle": "2023-03-30T19:26:34.775901Z",
     "shell.execute_reply": "2023-03-30T19:26:34.774566Z"
    },
    "papermill": {
     "duration": 0.016909,
     "end_time": "2023-03-30T19:26:34.778667",
     "exception": false,
     "start_time": "2023-03-30T19:26:34.761758",
     "status": "completed"
    },
    "tags": []
   },
   "outputs": [],
   "source": [
    "#Add improved version with Sklearn pipeline"
   ]
  },
  {
   "cell_type": "code",
   "execution_count": 12,
   "id": "f2413e5e",
   "metadata": {
    "execution": {
     "iopub.execute_input": "2023-03-30T19:26:34.795568Z",
     "iopub.status.busy": "2023-03-30T19:26:34.795059Z",
     "iopub.status.idle": "2023-03-30T19:26:34.805533Z",
     "shell.execute_reply": "2023-03-30T19:26:34.804210Z"
    },
    "papermill": {
     "duration": 0.022684,
     "end_time": "2023-03-30T19:26:34.808634",
     "exception": false,
     "start_time": "2023-03-30T19:26:34.785950",
     "status": "completed"
    },
    "tags": []
   },
   "outputs": [],
   "source": [
    "#Combine train and priginbal data after the adversarial cross-validation\n",
    "train=pd.concat([train,original],ignore_index=True)"
   ]
  },
  {
   "cell_type": "code",
   "execution_count": 13,
   "id": "cb08a723",
   "metadata": {
    "execution": {
     "iopub.execute_input": "2023-03-30T19:26:34.825284Z",
     "iopub.status.busy": "2023-03-30T19:26:34.824823Z",
     "iopub.status.idle": "2023-03-30T19:26:34.844385Z",
     "shell.execute_reply": "2023-03-30T19:26:34.842992Z"
    },
    "papermill": {
     "duration": 0.03173,
     "end_time": "2023-03-30T19:26:34.847594",
     "exception": false,
     "start_time": "2023-03-30T19:26:34.815864",
     "status": "completed"
    },
    "tags": []
   },
   "outputs": [],
   "source": [
    "#Drop the adversarial column\n",
    "train=train.drop('adv_val',axis=1)\n",
    "test=test.drop('adv_val',axis=1)\n",
    "original=original.drop('adv_val',axis=1)"
   ]
  },
  {
   "cell_type": "markdown",
   "id": "b0b32821",
   "metadata": {
    "papermill": {
     "duration": 0.006863,
     "end_time": "2023-03-30T19:26:34.861727",
     "exception": false,
     "start_time": "2023-03-30T19:26:34.854864",
     "status": "completed"
    },
    "tags": []
   },
   "source": [
    "#### Define the features and target labels"
   ]
  },
  {
   "cell_type": "code",
   "execution_count": 14,
   "id": "30079556",
   "metadata": {
    "execution": {
     "iopub.execute_input": "2023-03-30T19:26:34.887327Z",
     "iopub.status.busy": "2023-03-30T19:26:34.885928Z",
     "iopub.status.idle": "2023-03-30T19:26:34.912527Z",
     "shell.execute_reply": "2023-03-30T19:26:34.911446Z"
    },
    "papermill": {
     "duration": 0.041476,
     "end_time": "2023-03-30T19:26:34.915123",
     "exception": false,
     "start_time": "2023-03-30T19:26:34.873647",
     "status": "completed"
    },
    "tags": []
   },
   "outputs": [],
   "source": [
    "# Drop the target from the dataframe to create the features\n",
    "X = train.drop([target],axis=1)\n",
    "#Create a series with the targets\n",
    "y = train[target]\n",
    "#Shuffle the data\n",
    "X,y=shuffle(X,y,random_state=2023)\n",
    "#Reset the index for the feature dataframe and the target labels\n",
    "X = X.reset_index(drop=True)\n",
    "y = y.reset_index(drop=True)"
   ]
  },
  {
   "cell_type": "code",
   "execution_count": 15,
   "id": "8b9cefcd",
   "metadata": {
    "execution": {
     "iopub.execute_input": "2023-03-30T19:26:34.931837Z",
     "iopub.status.busy": "2023-03-30T19:26:34.931403Z",
     "iopub.status.idle": "2023-03-30T19:26:34.947420Z",
     "shell.execute_reply": "2023-03-30T19:26:34.946023Z"
    },
    "papermill": {
     "duration": 0.028156,
     "end_time": "2023-03-30T19:26:34.950403",
     "exception": false,
     "start_time": "2023-03-30T19:26:34.922247",
     "status": "completed"
    },
    "tags": []
   },
   "outputs": [],
   "source": [
    "###########################\n",
    "### additional dropping ###\n",
    "###########################\n",
    "\n",
    "#Drop outliers by row/sample/id\n",
    "indexies =X[X['squareMeters']>99999].index\n",
    "X=X.drop(indexies).reset_index(drop=True) #square meters\n",
    "y=y.drop(indexies).reset_index(drop=True) #square meters"
   ]
  },
  {
   "cell_type": "code",
   "execution_count": 16,
   "id": "e82b57d2",
   "metadata": {
    "execution": {
     "iopub.execute_input": "2023-03-30T19:26:34.967622Z",
     "iopub.status.busy": "2023-03-30T19:26:34.966116Z",
     "iopub.status.idle": "2023-03-30T19:26:35.082558Z",
     "shell.execute_reply": "2023-03-30T19:26:35.081419Z"
    },
    "papermill": {
     "duration": 0.127932,
     "end_time": "2023-03-30T19:26:35.085537",
     "exception": false,
     "start_time": "2023-03-30T19:26:34.957605",
     "status": "completed"
    },
    "tags": []
   },
   "outputs": [],
   "source": [
    "X['floors']=X['floors'].apply(lambda x: x if x<1000 else train['floors'].mean())\n",
    "X['made']=X['made'].apply(lambda x: x if x<2022 else train['made'].mean() )\n",
    "X['basement']=X['basement'].apply(lambda x: x if x<=10000 else train['basement'].mean() )\n",
    "test['basement']=test['basement'].apply(lambda x: x if x<=10000 else train['basement'].mean() )\n",
    "X['attic']=X['attic'].apply(lambda x: x if x<=10000 else train['attic'].mean() )\n",
    "test['attic']=test['attic'].apply(lambda x: x if x<=10000 else train['attic'].mean() )\n",
    "X['garage']=X['garage'].apply(lambda x: x if x<=1000 else train['garage'].mean() )\n",
    "X['cityCode']=X['cityCode'].apply(lambda x: x if x<=100000 else int(train['cityCode'].mean()) )\n",
    "test['cityCode']=test['cityCode'].apply(lambda x: x if x<=100000 else int(train['cityCode'].mean()) )\n",
    "X['points']=X['hasYard_1']+X['hasPool_1']+X['isNewBuilt_1']+X['hasStormProtector_1']+X['hasStorageRoom_1']\n",
    "X.drop(['hasYard_1','hasPool_1','isNewBuilt_1','hasStormProtector_1','hasStorageRoom_1'],axis=1,inplace=True)\n",
    "test['points']=test['hasYard_1']+test['hasPool_1']+test['isNewBuilt_1']+test['hasStormProtector_1']+test['hasStorageRoom_1']\n",
    "test.drop(['hasYard_1','hasPool_1','isNewBuilt_1','hasStormProtector_1','hasStorageRoom_1'],axis=1,inplace=True)"
   ]
  },
  {
   "cell_type": "code",
   "execution_count": 17,
   "id": "0172c0df",
   "metadata": {
    "execution": {
     "iopub.execute_input": "2023-03-30T19:26:35.102649Z",
     "iopub.status.busy": "2023-03-30T19:26:35.101294Z",
     "iopub.status.idle": "2023-03-30T19:26:35.108079Z",
     "shell.execute_reply": "2023-03-30T19:26:35.107061Z"
    },
    "papermill": {
     "duration": 0.018258,
     "end_time": "2023-03-30T19:26:35.110985",
     "exception": false,
     "start_time": "2023-03-30T19:26:35.092727",
     "status": "completed"
    },
    "tags": []
   },
   "outputs": [],
   "source": [
    "X=X.reset_index(drop=True)\n",
    "y=y.reset_index(drop=True)"
   ]
  },
  {
   "cell_type": "code",
   "execution_count": 18,
   "id": "f00b5349",
   "metadata": {
    "execution": {
     "iopub.execute_input": "2023-03-30T19:26:35.127652Z",
     "iopub.status.busy": "2023-03-30T19:26:35.127125Z",
     "iopub.status.idle": "2023-03-30T19:26:35.133983Z",
     "shell.execute_reply": "2023-03-30T19:26:35.132627Z"
    },
    "papermill": {
     "duration": 0.018608,
     "end_time": "2023-03-30T19:26:35.136885",
     "exception": false,
     "start_time": "2023-03-30T19:26:35.118277",
     "status": "completed"
    },
    "tags": []
   },
   "outputs": [],
   "source": [
    "def StaSca_transform(X,test):\n",
    "    StaSca = StandardScaler()\n",
    "    X[num_cols] = pd.DataFrame(data = StaSca.fit_transform(X[num_cols]),columns = X[num_cols].columns)\n",
    "    test[num_cols] = pd.DataFrame(data = StaSca.transform(test[num_cols]),columns = test[num_cols].columns)"
   ]
  },
  {
   "cell_type": "code",
   "execution_count": 19,
   "id": "dfeafac3",
   "metadata": {
    "execution": {
     "iopub.execute_input": "2023-03-30T19:26:35.155943Z",
     "iopub.status.busy": "2023-03-30T19:26:35.155311Z",
     "iopub.status.idle": "2023-03-30T19:26:35.165940Z",
     "shell.execute_reply": "2023-03-30T19:26:35.163158Z"
    },
    "papermill": {
     "duration": 0.024272,
     "end_time": "2023-03-30T19:26:35.168809",
     "exception": false,
     "start_time": "2023-03-30T19:26:35.144537",
     "status": "completed"
    },
    "tags": []
   },
   "outputs": [],
   "source": [
    "def Box_transform(X,test):\n",
    "    box_cols = ['fixed acidity','volatile acidity','residual sugar',\n",
    "                 'chlorides','free sulfur dioxide','total sulfur dioxide',\n",
    "                 'sulphates','alcohol']\n",
    "\n",
    "    for column in box_cols: \n",
    "        X_temp,fitted_lambda = stats.boxcox(X[column]) \n",
    "        X[column]=X_temp \n",
    "        test_temp = stats.boxcox(test[column],fitted_lambda) \n",
    "        test[column]=test_temp"
   ]
  },
  {
   "cell_type": "code",
   "execution_count": 20,
   "id": "50c86f26",
   "metadata": {
    "execution": {
     "iopub.execute_input": "2023-03-30T19:26:35.185537Z",
     "iopub.status.busy": "2023-03-30T19:26:35.185031Z",
     "iopub.status.idle": "2023-03-30T19:26:35.193269Z",
     "shell.execute_reply": "2023-03-30T19:26:35.191912Z"
    },
    "papermill": {
     "duration": 0.020061,
     "end_time": "2023-03-30T19:26:35.196179",
     "exception": false,
     "start_time": "2023-03-30T19:26:35.176118",
     "status": "completed"
    },
    "tags": []
   },
   "outputs": [],
   "source": [
    "def perm_imp(model,data,target):\n",
    "    X = data.to_numpy().copy()\n",
    "    y = target.to_numpy().copy()\n",
    "    permute = PermutationImportance(model,random_state=2023,n_iter =2,cv=10,scoring='neg_root_mean_squared_error').fit(X, y)\n",
    "    eli5.show_weights(permute, feature_names = data.columns.tolist(),top=50)\n",
    "    values = dict(zip(list(data.columns),list(permute.feature_importances_)))\n",
    "    sorted_dict = {}\n",
    "    sorted_keys = sorted(values, key=values.get)\n",
    "    for w in sorted_keys:\n",
    "        sorted_dict[w] = np.round(values[w],3)\n",
    "    return sorted_dict"
   ]
  },
  {
   "cell_type": "markdown",
   "id": "4a00ecd2",
   "metadata": {
    "papermill": {
     "duration": 0.006833,
     "end_time": "2023-03-30T19:26:35.210248",
     "exception": false,
     "start_time": "2023-03-30T19:26:35.203415",
     "status": "completed"
    },
    "tags": []
   },
   "source": [
    "# Modelling"
   ]
  },
  {
   "cell_type": "code",
   "execution_count": 21,
   "id": "fb938d22",
   "metadata": {
    "execution": {
     "iopub.execute_input": "2023-03-30T19:26:35.226575Z",
     "iopub.status.busy": "2023-03-30T19:26:35.226084Z",
     "iopub.status.idle": "2023-03-30T19:26:47.831751Z",
     "shell.execute_reply": "2023-03-30T19:26:47.830305Z"
    },
    "papermill": {
     "duration": 12.617336,
     "end_time": "2023-03-30T19:26:47.834672",
     "exception": false,
     "start_time": "2023-03-30T19:26:35.217336",
     "status": "completed"
    },
    "tags": []
   },
   "outputs": [
    {
     "data": {
      "text/html": [
       "<style type='text/css'>\n",
       ".datatable table.frame { margin-bottom: 0; }\n",
       ".datatable table.frame thead { border-bottom: none; }\n",
       ".datatable table.frame tr.coltypes td {  color: #FFFFFF;  line-height: 6px;  padding: 0 0.5em;}\n",
       ".datatable .bool    { background: #DDDD99; }\n",
       ".datatable .object  { background: #565656; }\n",
       ".datatable .int     { background: #5D9E5D; }\n",
       ".datatable .float   { background: #4040CC; }\n",
       ".datatable .str     { background: #CC4040; }\n",
       ".datatable .time    { background: #40CC40; }\n",
       ".datatable .row_index {  background: var(--jp-border-color3);  border-right: 1px solid var(--jp-border-color0);  color: var(--jp-ui-font-color3);  font-size: 9px;}\n",
       ".datatable .frame tbody td { text-align: left; }\n",
       ".datatable .frame tr.coltypes .row_index {  background: var(--jp-border-color0);}\n",
       ".datatable th:nth-child(2) { padding-left: 12px; }\n",
       ".datatable .hellipsis {  color: var(--jp-cell-editor-border-color);}\n",
       ".datatable .vellipsis {  background: var(--jp-layout-color0);  color: var(--jp-cell-editor-border-color);}\n",
       ".datatable .na {  color: var(--jp-cell-editor-border-color);  font-size: 80%;}\n",
       ".datatable .sp {  opacity: 0.25;}\n",
       ".datatable .footer { font-size: 9px; }\n",
       ".datatable .frame_dimensions {  background: var(--jp-border-color3);  border-top: 1px solid var(--jp-border-color0);  color: var(--jp-ui-font-color3);  display: inline-block;  opacity: 0.6;  padding: 1px 10px 1px 5px;}\n",
       "</style>\n"
      ],
      "text/plain": [
       "<IPython.core.display.HTML object>"
      ]
     },
     "metadata": {},
     "output_type": "display_data"
    },
    {
     "name": "stderr",
     "output_type": "stream",
     "text": [
      "/opt/conda/lib/python3.7/site-packages/ipykernel_launcher.py:78: DeprecationWarning: `import kerastuner` is deprecated, please use `import keras_tuner`.\n"
     ]
    }
   ],
   "source": [
    "#Load the necessary packages\n",
    "from sklearn.impute import SimpleImputer\n",
    "from sklearn.preprocessing import OneHotEncoder\n",
    "from sklearn.preprocessing import OrdinalEncoder\n",
    "from sklearn.preprocessing import LabelEncoder\n",
    "from sklearn.metrics import mean_absolute_error\n",
    "import pandas as pd\n",
    "import numpy as np\n",
    "import base64\n",
    "import seaborn as sns\n",
    "import matplotlib.pyplot as plt\n",
    "import os\n",
    "import random\n",
    "import gc\n",
    "\n",
    "from sklearn.impute import SimpleImputer\n",
    "from sklearn.preprocessing import OneHotEncoder\n",
    "from sklearn.preprocessing import StandardScaler\n",
    "from sklearn.utils import shuffle\n",
    "from sklearn.model_selection import train_test_split\n",
    "from mlxtend.preprocessing import minmax_scaling\n",
    "from sklearn.metrics import log_loss\n",
    "from sklearn.metrics import accuracy_score\n",
    "from sklearn.metrics import mean_squared_error\n",
    "from sklearn.metrics import roc_curve\n",
    "from sklearn.metrics import roc_auc_score\n",
    "from imblearn.over_sampling import SMOTE\n",
    "from scipy import stats\n",
    "import optuna\n",
    "import xgboost as xgb\n",
    "from sklearn.ensemble import (RandomForestClassifier, RandomForestRegressor,AdaBoostClassifier, GradientBoostingClassifier, \n",
    "                              ExtraTreesClassifier, VotingClassifier,ExtraTreesRegressor,AdaBoostRegressor,GradientBoostingRegressor)\n",
    "from sklearn.discriminant_analysis import LinearDiscriminantAnalysis\n",
    "from sklearn.svm import SVC\n",
    "from sklearn.linear_model import LogisticRegression\n",
    "from sklearn.linear_model import LinearRegression\n",
    "from sklearn.linear_model import LassoCV\n",
    "from sklearn.neighbors import KNeighborsClassifier\n",
    "from sklearn.neighbors import KNeighborsRegressor\n",
    "from sklearn.tree import DecisionTreeClassifier\n",
    "from sklearn.neural_network import MLPClassifier\n",
    "from sklearn.utils import class_weight\n",
    "from catboost import CatBoostRegressor\n",
    "from catboost import CatBoostClassifier\n",
    "from sklearn.svm import SVR\n",
    "from sklearn import datasets, linear_model\n",
    "import lightgbm as lgb\n",
    "from sklearn.model_selection import cross_val_score\n",
    "from sklearn.model_selection import StratifiedKFold\n",
    "from sklearn.model_selection import RepeatedStratifiedKFold\n",
    "from sklearn.model_selection import RepeatedKFold\n",
    "from sklearn.model_selection import GroupKFold\n",
    "from sklearn.model_selection import KFold\n",
    "from sklearn.cluster import KMeans\n",
    "from sklearn.preprocessing import StandardScaler\n",
    "from scipy.signal import argrelmin\n",
    "from scipy.stats import skew\n",
    "from scipy import stats\n",
    "\n",
    "\n",
    "pd.set_option('display.max_columns', None)   \n",
    "\n",
    "from sklearn.model_selection import train_test_split\n",
    "\n",
    "import eli5\n",
    "from eli5.sklearn import PermutationImportance\n",
    "import time\n",
    "\n",
    "import tensorflow as tf\n",
    "from tensorflow import keras\n",
    "from tensorflow.keras.datasets import fashion_mnist\n",
    "from tensorflow.keras.models import Sequential\n",
    "from tensorflow.keras import layers\n",
    "from tensorflow.keras.layers import Dense,BatchNormalization,Dropout\n",
    "from tensorflow.keras import utils\n",
    "import tensorflow_addons as tfa\n",
    "import keras_tuner\n",
    "from kerastuner.tuners import RandomSearch, Hyperband, BayesianOptimization\n",
    "import pandas as pd\n",
    "from tensorflow import keras\n",
    "from tensorflow.keras import layers\n",
    "from kerastuner.tuners import RandomSearch\n",
    "from kerastuner import HyperParameters, Objective"
   ]
  },
  {
   "cell_type": "code",
   "execution_count": null,
   "id": "72860b8b",
   "metadata": {
    "papermill": {
     "duration": 0.007091,
     "end_time": "2023-03-30T19:26:47.849395",
     "exception": false,
     "start_time": "2023-03-30T19:26:47.842304",
     "status": "completed"
    },
    "tags": []
   },
   "outputs": [],
   "source": []
  }
 ],
 "metadata": {
  "kernelspec": {
   "display_name": "Python 3",
   "language": "python",
   "name": "python3"
  },
  "language_info": {
   "codemirror_mode": {
    "name": "ipython",
    "version": 3
   },
   "file_extension": ".py",
   "mimetype": "text/x-python",
   "name": "python",
   "nbconvert_exporter": "python",
   "pygments_lexer": "ipython3",
   "version": "3.7.12"
  },
  "papermill": {
   "default_parameters": {},
   "duration": 31.421532,
   "end_time": "2023-03-30T19:26:51.171241",
   "environment_variables": {},
   "exception": null,
   "input_path": "__notebook__.ipynb",
   "output_path": "__notebook__.ipynb",
   "parameters": {},
   "start_time": "2023-03-30T19:26:19.749709",
   "version": "2.4.0"
  }
 },
 "nbformat": 4,
 "nbformat_minor": 5
}
