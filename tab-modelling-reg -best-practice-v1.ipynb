{
 "cells": [
  {
   "cell_type": "code",
   "execution_count": 1,
   "id": "d8b6b7b0",
   "metadata": {
    "execution": {
     "iopub.execute_input": "2023-03-30T20:03:53.870060Z",
     "iopub.status.busy": "2023-03-30T20:03:53.869565Z",
     "iopub.status.idle": "2023-03-30T20:03:53.880813Z",
     "shell.execute_reply": "2023-03-30T20:03:53.879934Z"
    },
    "papermill": {
     "duration": 0.023246,
     "end_time": "2023-03-30T20:03:53.882996",
     "exception": false,
     "start_time": "2023-03-30T20:03:53.859750",
     "status": "completed"
    },
    "tags": []
   },
   "outputs": [],
   "source": [
    "\n",
    "\n",
    "#Import data manipulation libaries\n",
    "import numpy as np # linear algebra\n",
    "import pandas as pd # data processing, CSV file I/O (e.g. pd.read_csv)\n",
    "\n"
   ]
  },
  {
   "cell_type": "markdown",
   "id": "3b94c115",
   "metadata": {
    "papermill": {
     "duration": 0.006507,
     "end_time": "2023-03-30T20:03:53.896485",
     "exception": false,
     "start_time": "2023-03-30T20:03:53.889978",
     "status": "completed"
    },
    "tags": []
   },
   "source": [
    "#### First data loading strategy"
   ]
  },
  {
   "cell_type": "code",
   "execution_count": 2,
   "id": "bb0aa727",
   "metadata": {
    "execution": {
     "iopub.execute_input": "2023-03-30T20:03:53.911306Z",
     "iopub.status.busy": "2023-03-30T20:03:53.911013Z",
     "iopub.status.idle": "2023-03-30T20:03:54.013860Z",
     "shell.execute_reply": "2023-03-30T20:03:54.012844Z"
    },
    "papermill": {
     "duration": 0.113337,
     "end_time": "2023-03-30T20:03:54.016612",
     "exception": false,
     "start_time": "2023-03-30T20:03:53.903275",
     "status": "completed"
    },
    "tags": []
   },
   "outputs": [],
   "source": [
    "train_import = pd.read_csv(\"/kaggle/input/playground-series-s3e6/train.csv\")\n",
    "test_df = pd.read_csv(\"/kaggle/input/playground-series-s3e6/test.csv\")\n",
    "submission = pd.read_csv(\"/kaggle/input/playground-series-s3e6/sample_submission.csv\")"
   ]
  },
  {
   "cell_type": "markdown",
   "id": "4ee7125e",
   "metadata": {
    "papermill": {
     "duration": 0.006672,
     "end_time": "2023-03-30T20:03:54.030537",
     "exception": false,
     "start_time": "2023-03-30T20:03:54.023865",
     "status": "completed"
    },
    "tags": []
   },
   "source": [
    "#### Second data loading strategy\n",
    "Loading another training data set\n",
    "Adding a flag for the adversial cross-validation"
   ]
  },
  {
   "cell_type": "code",
   "execution_count": 3,
   "id": "622a3298",
   "metadata": {
    "execution": {
     "iopub.execute_input": "2023-03-30T20:03:54.045425Z",
     "iopub.status.busy": "2023-03-30T20:03:54.045101Z",
     "iopub.status.idle": "2023-03-30T20:03:54.137245Z",
     "shell.execute_reply": "2023-03-30T20:03:54.136214Z"
    },
    "papermill": {
     "duration": 0.10249,
     "end_time": "2023-03-30T20:03:54.139828",
     "exception": false,
     "start_time": "2023-03-30T20:03:54.037338",
     "status": "completed"
    },
    "tags": []
   },
   "outputs": [],
   "source": [
    "test = pd.read_csv('/kaggle/input/playground-series-s3e6/test.csv')\n",
    "test.drop(\"id\",axis=1,inplace=True)\n",
    "test['adv_val'] =  0\n",
    "\n",
    "train = pd.read_csv('/kaggle/input/playground-series-s3e6/train.csv')\n",
    "train.drop(\"id\",axis=1,inplace=True)\n",
    "train['adv_val'] =  1\n",
    "\n",
    "original = pd.read_csv('/kaggle/input/paris-housing-price-prediction/ParisHousing.csv')\n",
    "original['adv_val'] =  2\n",
    "\n",
    "sample = pd.read_csv('/kaggle/input/playground-series-s3e6/sample_submission.csv')"
   ]
  },
  {
   "cell_type": "markdown",
   "id": "cdb70036",
   "metadata": {
    "papermill": {
     "duration": 0.006705,
     "end_time": "2023-03-30T20:03:54.153646",
     "exception": false,
     "start_time": "2023-03-30T20:03:54.146941",
     "status": "completed"
    },
    "tags": []
   },
   "source": [
    "#### Feature Engineering"
   ]
  },
  {
   "cell_type": "code",
   "execution_count": 4,
   "id": "411c46a1",
   "metadata": {
    "execution": {
     "iopub.execute_input": "2023-03-30T20:03:54.169230Z",
     "iopub.status.busy": "2023-03-30T20:03:54.168589Z",
     "iopub.status.idle": "2023-03-30T20:03:54.173816Z",
     "shell.execute_reply": "2023-03-30T20:03:54.172599Z"
    },
    "papermill": {
     "duration": 0.016084,
     "end_time": "2023-03-30T20:03:54.176569",
     "exception": false,
     "start_time": "2023-03-30T20:03:54.160485",
     "status": "completed"
    },
    "tags": []
   },
   "outputs": [],
   "source": [
    "#Define the target label\n",
    "\n",
    "target='price'\n",
    "\n",
    "#Create a dict - Why?\n",
    "sets={'train':train,'test':test,'original':original}"
   ]
  },
  {
   "cell_type": "code",
   "execution_count": 5,
   "id": "4d98aaef",
   "metadata": {
    "execution": {
     "iopub.execute_input": "2023-03-30T20:03:54.193061Z",
     "iopub.status.busy": "2023-03-30T20:03:54.192114Z",
     "iopub.status.idle": "2023-03-30T20:03:54.237879Z",
     "shell.execute_reply": "2023-03-30T20:03:54.236709Z"
    },
    "papermill": {
     "duration": 0.057641,
     "end_time": "2023-03-30T20:03:54.241886",
     "exception": false,
     "start_time": "2023-03-30T20:03:54.184245",
     "status": "completed"
    },
    "tags": []
   },
   "outputs": [
    {
     "name": "stdout",
     "output_type": "stream",
     "text": [
      "\u001b[0;33;40m A number of duplicated rows in train is 0, they were dropped \u001b[0;30;0m\n",
      "\u001b[0;33;40m A number of duplicated rows in original is 0, they were dropped \u001b[0;30;0m\n"
     ]
    }
   ],
   "source": [
    "#Function to drop rows that are duplicated in the train set and the original deck\n",
    "\n",
    "def dropping_duplicates(data):\n",
    "    data.drop_duplicates(inplace = True)\n",
    "    \n",
    "for n in {'train':train,'original':original}:\n",
    "    print(f\"\\033[0;33;40m A number of duplicated rows in {n} is {sets[n].duplicated().sum()}, they were dropped \\033[0;30;0m\")\n",
    "    dropping_duplicates(sets[n])"
   ]
  },
  {
   "cell_type": "code",
   "execution_count": 6,
   "id": "28eb0272",
   "metadata": {
    "execution": {
     "iopub.execute_input": "2023-03-30T20:03:54.257792Z",
     "iopub.status.busy": "2023-03-30T20:03:54.257468Z",
     "iopub.status.idle": "2023-03-30T20:03:55.600452Z",
     "shell.execute_reply": "2023-03-30T20:03:55.599449Z"
    },
    "papermill": {
     "duration": 1.353396,
     "end_time": "2023-03-30T20:03:55.603073",
     "exception": false,
     "start_time": "2023-03-30T20:03:54.249677",
     "status": "completed"
    },
    "tags": []
   },
   "outputs": [],
   "source": [
    "from imblearn.over_sampling import SMOTE\n",
    "from sklearn.model_selection import train_test_split\n",
    "from sklearn.model_selection import cross_val_score\n",
    "from sklearn.model_selection import StratifiedKFold\n",
    "from sklearn.model_selection import RepeatedStratifiedKFold\n",
    "from sklearn.model_selection import RepeatedKFold\n",
    "from sklearn.model_selection import GroupKFold\n",
    "from sklearn.model_selection import KFold\n",
    "from sklearn.impute import SimpleImputer\n",
    "from sklearn.preprocessing import OneHotEncoder\n",
    "from sklearn.preprocessing import StandardScaler\n",
    "from sklearn.utils import shuffle"
   ]
  },
  {
   "cell_type": "code",
   "execution_count": 7,
   "id": "686ffdb0",
   "metadata": {
    "execution": {
     "iopub.execute_input": "2023-03-30T20:03:55.619413Z",
     "iopub.status.busy": "2023-03-30T20:03:55.618542Z",
     "iopub.status.idle": "2023-03-30T20:03:55.625644Z",
     "shell.execute_reply": "2023-03-30T20:03:55.624700Z"
    },
    "papermill": {
     "duration": 0.017573,
     "end_time": "2023-03-30T20:03:55.627856",
     "exception": false,
     "start_time": "2023-03-30T20:03:55.610283",
     "status": "completed"
    },
    "tags": []
   },
   "outputs": [],
   "source": [
    "########################\n",
    "### General Settings ###\n",
    "########################\n",
    "\n",
    "gpu_switch = 'ON'\n",
    "\n",
    "###############################\n",
    "### RepeatedStratifiedKFold ###\n",
    "###############################\n",
    "\n",
    "n_splits = 5\n",
    "n_repeats =10\n",
    "sm=SMOTE(sampling_strategy='minority')\n",
    "#cv = RepeatedStratifiedKFold(n_splits=n_splits, n_repeats = n_repeats, random_state=2023)\n",
    "cv = RepeatedKFold(n_splits=n_splits, n_repeats = n_repeats, random_state=2023)\n",
    "#cv = GroupKFold(n_splits=n_splits)\n",
    "\n",
    "########################\n",
    "### Define Weights   ###\n",
    "########################\n",
    "\n",
    "# Understand where and why the weights are used\n",
    "weights = {0: 0.5009553158705701, 1: 262.19354838709677}"
   ]
  },
  {
   "cell_type": "markdown",
   "id": "19ccd7c9",
   "metadata": {
    "papermill": {
     "duration": 0.007346,
     "end_time": "2023-03-30T20:03:55.642314",
     "exception": false,
     "start_time": "2023-03-30T20:03:55.634968",
     "status": "completed"
    },
    "tags": []
   },
   "source": [
    "#### Define lists for feature engineering"
   ]
  },
  {
   "cell_type": "code",
   "execution_count": 8,
   "id": "1c7cf49c",
   "metadata": {
    "execution": {
     "iopub.execute_input": "2023-03-30T20:03:55.658353Z",
     "iopub.status.busy": "2023-03-30T20:03:55.657989Z",
     "iopub.status.idle": "2023-03-30T20:03:55.663323Z",
     "shell.execute_reply": "2023-03-30T20:03:55.662244Z"
    },
    "papermill": {
     "duration": 0.016506,
     "end_time": "2023-03-30T20:03:55.665888",
     "exception": false,
     "start_time": "2023-03-30T20:03:55.649382",
     "status": "completed"
    },
    "tags": []
   },
   "outputs": [],
   "source": [
    "num_cols = ['squareMeters','numberOfRooms','floors','cityPartRange','numPrevOwners',\n",
    "            'made','basement','attic','garage','hasGuestRoom','cityCode'\n",
    "            ]\n",
    "cat_cols = ['hasYard','hasPool','isNewBuilt','hasStormProtector','hasStorageRoom',]\n",
    "drop_col = []"
   ]
  },
  {
   "cell_type": "markdown",
   "id": "31c4392a",
   "metadata": {
    "papermill": {
     "duration": 0.00675,
     "end_time": "2023-03-30T20:03:55.679590",
     "exception": false,
     "start_time": "2023-03-30T20:03:55.672840",
     "status": "completed"
    },
    "tags": []
   },
   "source": [
    "#### Drop list from the test, train and original data set"
   ]
  },
  {
   "cell_type": "code",
   "execution_count": 9,
   "id": "37d70160",
   "metadata": {
    "execution": {
     "iopub.execute_input": "2023-03-30T20:03:55.694649Z",
     "iopub.status.busy": "2023-03-30T20:03:55.694323Z",
     "iopub.status.idle": "2023-03-30T20:03:55.706845Z",
     "shell.execute_reply": "2023-03-30T20:03:55.705942Z"
    },
    "papermill": {
     "duration": 0.022594,
     "end_time": "2023-03-30T20:03:55.708995",
     "exception": false,
     "start_time": "2023-03-30T20:03:55.686401",
     "status": "completed"
    },
    "tags": []
   },
   "outputs": [],
   "source": [
    "#Drop the features in the list that have been define above\n",
    "train.drop(drop_col,axis=1,inplace=True)\n",
    "test.drop(drop_col,axis=1,inplace=True)\n",
    "original.drop(drop_col,axis=1,inplace=True)"
   ]
  },
  {
   "cell_type": "code",
   "execution_count": 10,
   "id": "43f25282",
   "metadata": {
    "execution": {
     "iopub.execute_input": "2023-03-30T20:03:55.724998Z",
     "iopub.status.busy": "2023-03-30T20:03:55.723496Z",
     "iopub.status.idle": "2023-03-30T20:03:55.820914Z",
     "shell.execute_reply": "2023-03-30T20:03:55.819684Z"
    },
    "papermill": {
     "duration": 0.107619,
     "end_time": "2023-03-30T20:03:55.823475",
     "exception": false,
     "start_time": "2023-03-30T20:03:55.715856",
     "status": "completed"
    },
    "tags": []
   },
   "outputs": [],
   "source": [
    "#Version 1\n",
    "num_imp = SimpleImputer(strategy='mean')\n",
    "cat_imp = SimpleImputer(strategy='most_frequent')\n",
    "ohe = OneHotEncoder(handle_unknown='ignore',sparse = False,drop=\"first\")\n",
    "\n",
    "train[num_cols] = pd.DataFrame(num_imp.fit_transform(train[num_cols]),columns=num_cols)\n",
    "train[cat_cols] = pd.DataFrame(cat_imp.fit_transform(train[cat_cols]),columns=cat_cols)\n",
    "train_temp=pd.DataFrame(ohe.fit_transform(train[cat_cols]),columns=ohe.get_feature_names_out())\n",
    "train=pd.concat([train.drop(cat_cols,axis=1),train_temp],axis=1) \n",
    "\n",
    "original[num_cols] = pd.DataFrame(num_imp.transform(original[num_cols]),columns=num_cols)\n",
    "original[cat_cols] = pd.DataFrame(cat_imp.transform(original[cat_cols]),columns=cat_cols)\n",
    "original_temp=pd.DataFrame(ohe.transform(original[cat_cols]),columns=ohe.get_feature_names_out())\n",
    "original=pd.concat([original.drop(cat_cols,axis=1),original_temp],axis=1)    \n",
    "\n",
    "test[num_cols] = pd.DataFrame(num_imp.transform(test[num_cols]),columns=num_cols)\n",
    "test[cat_cols] = pd.DataFrame(cat_imp.transform(test[cat_cols]),columns=cat_cols)\n",
    "test_temp=pd.DataFrame(ohe.transform(test[cat_cols]),columns=ohe.get_feature_names_out())\n",
    "test=pd.concat([test.drop(cat_cols,axis=1),test_temp],axis=1) "
   ]
  },
  {
   "cell_type": "code",
   "execution_count": 11,
   "id": "5f53728c",
   "metadata": {
    "execution": {
     "iopub.execute_input": "2023-03-30T20:03:55.839610Z",
     "iopub.status.busy": "2023-03-30T20:03:55.838643Z",
     "iopub.status.idle": "2023-03-30T20:03:55.843251Z",
     "shell.execute_reply": "2023-03-30T20:03:55.842299Z"
    },
    "papermill": {
     "duration": 0.01468,
     "end_time": "2023-03-30T20:03:55.845305",
     "exception": false,
     "start_time": "2023-03-30T20:03:55.830625",
     "status": "completed"
    },
    "tags": []
   },
   "outputs": [],
   "source": [
    "#Add improved version with Sklearn pipeline"
   ]
  },
  {
   "cell_type": "code",
   "execution_count": 12,
   "id": "df7ded8c",
   "metadata": {
    "execution": {
     "iopub.execute_input": "2023-03-30T20:03:55.860178Z",
     "iopub.status.busy": "2023-03-30T20:03:55.859900Z",
     "iopub.status.idle": "2023-03-30T20:03:55.868230Z",
     "shell.execute_reply": "2023-03-30T20:03:55.867326Z"
    },
    "papermill": {
     "duration": 0.018081,
     "end_time": "2023-03-30T20:03:55.870296",
     "exception": false,
     "start_time": "2023-03-30T20:03:55.852215",
     "status": "completed"
    },
    "tags": []
   },
   "outputs": [],
   "source": [
    "#Combine train and priginbal data after the adversarial cross-validation\n",
    "train=pd.concat([train,original],ignore_index=True)"
   ]
  },
  {
   "cell_type": "code",
   "execution_count": 13,
   "id": "9da2ce49",
   "metadata": {
    "execution": {
     "iopub.execute_input": "2023-03-30T20:03:55.885803Z",
     "iopub.status.busy": "2023-03-30T20:03:55.885006Z",
     "iopub.status.idle": "2023-03-30T20:03:55.902276Z",
     "shell.execute_reply": "2023-03-30T20:03:55.901328Z"
    },
    "papermill": {
     "duration": 0.027233,
     "end_time": "2023-03-30T20:03:55.904621",
     "exception": false,
     "start_time": "2023-03-30T20:03:55.877388",
     "status": "completed"
    },
    "tags": []
   },
   "outputs": [],
   "source": [
    "#Drop the adversarial column\n",
    "train=train.drop('adv_val',axis=1)\n",
    "test=test.drop('adv_val',axis=1)\n",
    "original=original.drop('adv_val',axis=1)"
   ]
  },
  {
   "cell_type": "markdown",
   "id": "5c30deb4",
   "metadata": {
    "papermill": {
     "duration": 0.006777,
     "end_time": "2023-03-30T20:03:55.918455",
     "exception": false,
     "start_time": "2023-03-30T20:03:55.911678",
     "status": "completed"
    },
    "tags": []
   },
   "source": [
    "#### Define the features and target labels"
   ]
  },
  {
   "cell_type": "code",
   "execution_count": 14,
   "id": "073af624",
   "metadata": {
    "execution": {
     "iopub.execute_input": "2023-03-30T20:03:55.933691Z",
     "iopub.status.busy": "2023-03-30T20:03:55.933325Z",
     "iopub.status.idle": "2023-03-30T20:03:55.951296Z",
     "shell.execute_reply": "2023-03-30T20:03:55.950333Z"
    },
    "papermill": {
     "duration": 0.028249,
     "end_time": "2023-03-30T20:03:55.953542",
     "exception": false,
     "start_time": "2023-03-30T20:03:55.925293",
     "status": "completed"
    },
    "tags": []
   },
   "outputs": [],
   "source": [
    "# Drop the target from the dataframe to create the features\n",
    "X = train.drop([target],axis=1)\n",
    "#Create a series with the targets\n",
    "y = train[target]\n",
    "#Shuffle the data\n",
    "X,y=shuffle(X,y,random_state=2023)\n",
    "#Reset the index for the feature dataframe and the target labels\n",
    "X = X.reset_index(drop=True)\n",
    "y = y.reset_index(drop=True)"
   ]
  },
  {
   "cell_type": "code",
   "execution_count": 15,
   "id": "2969d6a5",
   "metadata": {
    "execution": {
     "iopub.execute_input": "2023-03-30T20:03:55.969307Z",
     "iopub.status.busy": "2023-03-30T20:03:55.968722Z",
     "iopub.status.idle": "2023-03-30T20:03:55.982675Z",
     "shell.execute_reply": "2023-03-30T20:03:55.981615Z"
    },
    "papermill": {
     "duration": 0.024175,
     "end_time": "2023-03-30T20:03:55.985000",
     "exception": false,
     "start_time": "2023-03-30T20:03:55.960825",
     "status": "completed"
    },
    "tags": []
   },
   "outputs": [],
   "source": [
    "###########################\n",
    "### additional dropping ###\n",
    "###########################\n",
    "\n",
    "#Drop outliers by row/sample/id\n",
    "indexies =X[X['squareMeters']>99999].index\n",
    "X=X.drop(indexies).reset_index(drop=True) #square meters\n",
    "y=y.drop(indexies).reset_index(drop=True) #square meters"
   ]
  },
  {
   "cell_type": "code",
   "execution_count": 16,
   "id": "45fd4984",
   "metadata": {
    "execution": {
     "iopub.execute_input": "2023-03-30T20:03:56.001102Z",
     "iopub.status.busy": "2023-03-30T20:03:56.000486Z",
     "iopub.status.idle": "2023-03-30T20:03:56.086498Z",
     "shell.execute_reply": "2023-03-30T20:03:56.085526Z"
    },
    "papermill": {
     "duration": 0.096638,
     "end_time": "2023-03-30T20:03:56.089087",
     "exception": false,
     "start_time": "2023-03-30T20:03:55.992449",
     "status": "completed"
    },
    "tags": []
   },
   "outputs": [],
   "source": [
    "X['floors']=X['floors'].apply(lambda x: x if x<1000 else train['floors'].mean())\n",
    "X['made']=X['made'].apply(lambda x: x if x<2022 else train['made'].mean() )\n",
    "X['basement']=X['basement'].apply(lambda x: x if x<=10000 else train['basement'].mean() )\n",
    "test['basement']=test['basement'].apply(lambda x: x if x<=10000 else train['basement'].mean() )\n",
    "X['attic']=X['attic'].apply(lambda x: x if x<=10000 else train['attic'].mean() )\n",
    "test['attic']=test['attic'].apply(lambda x: x if x<=10000 else train['attic'].mean() )\n",
    "X['garage']=X['garage'].apply(lambda x: x if x<=1000 else train['garage'].mean() )\n",
    "X['cityCode']=X['cityCode'].apply(lambda x: x if x<=100000 else int(train['cityCode'].mean()) )\n",
    "test['cityCode']=test['cityCode'].apply(lambda x: x if x<=100000 else int(train['cityCode'].mean()) )\n",
    "X['points']=X['hasYard_1']+X['hasPool_1']+X['isNewBuilt_1']+X['hasStormProtector_1']+X['hasStorageRoom_1']\n",
    "X.drop(['hasYard_1','hasPool_1','isNewBuilt_1','hasStormProtector_1','hasStorageRoom_1'],axis=1,inplace=True)\n",
    "test['points']=test['hasYard_1']+test['hasPool_1']+test['isNewBuilt_1']+test['hasStormProtector_1']+test['hasStorageRoom_1']\n",
    "test.drop(['hasYard_1','hasPool_1','isNewBuilt_1','hasStormProtector_1','hasStorageRoom_1'],axis=1,inplace=True)"
   ]
  },
  {
   "cell_type": "code",
   "execution_count": 17,
   "id": "32ed1f9f",
   "metadata": {
    "execution": {
     "iopub.execute_input": "2023-03-30T20:03:56.104399Z",
     "iopub.status.busy": "2023-03-30T20:03:56.104083Z",
     "iopub.status.idle": "2023-03-30T20:03:56.110251Z",
     "shell.execute_reply": "2023-03-30T20:03:56.109346Z"
    },
    "papermill": {
     "duration": 0.016171,
     "end_time": "2023-03-30T20:03:56.112334",
     "exception": false,
     "start_time": "2023-03-30T20:03:56.096163",
     "status": "completed"
    },
    "tags": []
   },
   "outputs": [],
   "source": [
    "X=X.reset_index(drop=True)\n",
    "y=y.reset_index(drop=True)"
   ]
  },
  {
   "cell_type": "code",
   "execution_count": 18,
   "id": "473f556f",
   "metadata": {
    "execution": {
     "iopub.execute_input": "2023-03-30T20:03:56.126928Z",
     "iopub.status.busy": "2023-03-30T20:03:56.126630Z",
     "iopub.status.idle": "2023-03-30T20:03:56.131706Z",
     "shell.execute_reply": "2023-03-30T20:03:56.130725Z"
    },
    "papermill": {
     "duration": 0.014646,
     "end_time": "2023-03-30T20:03:56.133711",
     "exception": false,
     "start_time": "2023-03-30T20:03:56.119065",
     "status": "completed"
    },
    "tags": []
   },
   "outputs": [],
   "source": [
    "def StaSca_transform(X,test):\n",
    "    StaSca = StandardScaler()\n",
    "    X[num_cols] = pd.DataFrame(data = StaSca.fit_transform(X[num_cols]),columns = X[num_cols].columns)\n",
    "    test[num_cols] = pd.DataFrame(data = StaSca.transform(test[num_cols]),columns = test[num_cols].columns)"
   ]
  },
  {
   "cell_type": "code",
   "execution_count": 19,
   "id": "bc33ce4c",
   "metadata": {
    "execution": {
     "iopub.execute_input": "2023-03-30T20:03:56.148922Z",
     "iopub.status.busy": "2023-03-30T20:03:56.148073Z",
     "iopub.status.idle": "2023-03-30T20:03:56.154065Z",
     "shell.execute_reply": "2023-03-30T20:03:56.153189Z"
    },
    "papermill": {
     "duration": 0.015639,
     "end_time": "2023-03-30T20:03:56.156019",
     "exception": false,
     "start_time": "2023-03-30T20:03:56.140380",
     "status": "completed"
    },
    "tags": []
   },
   "outputs": [],
   "source": [
    "def Box_transform(X,test):\n",
    "    box_cols = ['fixed acidity','volatile acidity','residual sugar',\n",
    "                 'chlorides','free sulfur dioxide','total sulfur dioxide',\n",
    "                 'sulphates','alcohol']\n",
    "\n",
    "    for column in box_cols: \n",
    "        X_temp,fitted_lambda = stats.boxcox(X[column]) \n",
    "        X[column]=X_temp \n",
    "        test_temp = stats.boxcox(test[column],fitted_lambda) \n",
    "        test[column]=test_temp"
   ]
  },
  {
   "cell_type": "code",
   "execution_count": 20,
   "id": "d3278459",
   "metadata": {
    "execution": {
     "iopub.execute_input": "2023-03-30T20:03:56.170984Z",
     "iopub.status.busy": "2023-03-30T20:03:56.170211Z",
     "iopub.status.idle": "2023-03-30T20:03:56.177087Z",
     "shell.execute_reply": "2023-03-30T20:03:56.176228Z"
    },
    "papermill": {
     "duration": 0.016415,
     "end_time": "2023-03-30T20:03:56.179121",
     "exception": false,
     "start_time": "2023-03-30T20:03:56.162706",
     "status": "completed"
    },
    "tags": []
   },
   "outputs": [],
   "source": [
    "def perm_imp(model,data,target):\n",
    "    X = data.to_numpy().copy()\n",
    "    y = target.to_numpy().copy()\n",
    "    permute = PermutationImportance(model,random_state=2023,n_iter =2,cv=10,scoring='neg_root_mean_squared_error').fit(X, y)\n",
    "    eli5.show_weights(permute, feature_names = data.columns.tolist(),top=50)\n",
    "    values = dict(zip(list(data.columns),list(permute.feature_importances_)))\n",
    "    sorted_dict = {}\n",
    "    sorted_keys = sorted(values, key=values.get)\n",
    "    for w in sorted_keys:\n",
    "        sorted_dict[w] = np.round(values[w],3)\n",
    "    return sorted_dict"
   ]
  },
  {
   "cell_type": "markdown",
   "id": "44aa7e66",
   "metadata": {
    "papermill": {
     "duration": 0.006575,
     "end_time": "2023-03-30T20:03:56.192491",
     "exception": false,
     "start_time": "2023-03-30T20:03:56.185916",
     "status": "completed"
    },
    "tags": []
   },
   "source": [
    "# Modelling"
   ]
  },
  {
   "cell_type": "code",
   "execution_count": 21,
   "id": "f49970bf",
   "metadata": {
    "execution": {
     "iopub.execute_input": "2023-03-30T20:03:56.207551Z",
     "iopub.status.busy": "2023-03-30T20:03:56.207257Z",
     "iopub.status.idle": "2023-03-30T20:04:05.882047Z",
     "shell.execute_reply": "2023-03-30T20:04:05.880847Z"
    },
    "papermill": {
     "duration": 9.685448,
     "end_time": "2023-03-30T20:04:05.884629",
     "exception": false,
     "start_time": "2023-03-30T20:03:56.199181",
     "status": "completed"
    },
    "tags": []
   },
   "outputs": [
    {
     "data": {
      "text/html": [
       "<style type='text/css'>\n",
       ".datatable table.frame { margin-bottom: 0; }\n",
       ".datatable table.frame thead { border-bottom: none; }\n",
       ".datatable table.frame tr.coltypes td {  color: #FFFFFF;  line-height: 6px;  padding: 0 0.5em;}\n",
       ".datatable .bool    { background: #DDDD99; }\n",
       ".datatable .object  { background: #565656; }\n",
       ".datatable .int     { background: #5D9E5D; }\n",
       ".datatable .float   { background: #4040CC; }\n",
       ".datatable .str     { background: #CC4040; }\n",
       ".datatable .time    { background: #40CC40; }\n",
       ".datatable .row_index {  background: var(--jp-border-color3);  border-right: 1px solid var(--jp-border-color0);  color: var(--jp-ui-font-color3);  font-size: 9px;}\n",
       ".datatable .frame tbody td { text-align: left; }\n",
       ".datatable .frame tr.coltypes .row_index {  background: var(--jp-border-color0);}\n",
       ".datatable th:nth-child(2) { padding-left: 12px; }\n",
       ".datatable .hellipsis {  color: var(--jp-cell-editor-border-color);}\n",
       ".datatable .vellipsis {  background: var(--jp-layout-color0);  color: var(--jp-cell-editor-border-color);}\n",
       ".datatable .na {  color: var(--jp-cell-editor-border-color);  font-size: 80%;}\n",
       ".datatable .sp {  opacity: 0.25;}\n",
       ".datatable .footer { font-size: 9px; }\n",
       ".datatable .frame_dimensions {  background: var(--jp-border-color3);  border-top: 1px solid var(--jp-border-color0);  color: var(--jp-ui-font-color3);  display: inline-block;  opacity: 0.6;  padding: 1px 10px 1px 5px;}\n",
       "</style>\n"
      ],
      "text/plain": [
       "<IPython.core.display.HTML object>"
      ]
     },
     "metadata": {},
     "output_type": "display_data"
    },
    {
     "name": "stderr",
     "output_type": "stream",
     "text": [
      "/opt/conda/lib/python3.7/site-packages/ipykernel_launcher.py:78: DeprecationWarning: `import kerastuner` is deprecated, please use `import keras_tuner`.\n"
     ]
    }
   ],
   "source": [
    "#Load the necessary packages\n",
    "from sklearn.impute import SimpleImputer\n",
    "from sklearn.preprocessing import OneHotEncoder\n",
    "from sklearn.preprocessing import OrdinalEncoder\n",
    "from sklearn.preprocessing import LabelEncoder\n",
    "from sklearn.metrics import mean_absolute_error\n",
    "import pandas as pd\n",
    "import numpy as np\n",
    "import base64\n",
    "import seaborn as sns\n",
    "import matplotlib.pyplot as plt\n",
    "import os\n",
    "import random\n",
    "import gc\n",
    "\n",
    "from sklearn.impute import SimpleImputer\n",
    "from sklearn.preprocessing import OneHotEncoder\n",
    "from sklearn.preprocessing import StandardScaler\n",
    "from sklearn.utils import shuffle\n",
    "from sklearn.model_selection import train_test_split\n",
    "from mlxtend.preprocessing import minmax_scaling\n",
    "from sklearn.metrics import log_loss\n",
    "from sklearn.metrics import accuracy_score\n",
    "from sklearn.metrics import mean_squared_error\n",
    "from sklearn.metrics import roc_curve\n",
    "from sklearn.metrics import roc_auc_score\n",
    "from imblearn.over_sampling import SMOTE\n",
    "from scipy import stats\n",
    "import optuna\n",
    "import xgboost as xgb\n",
    "from sklearn.ensemble import (RandomForestClassifier, RandomForestRegressor,AdaBoostClassifier, GradientBoostingClassifier, \n",
    "                              ExtraTreesClassifier, VotingClassifier,ExtraTreesRegressor,AdaBoostRegressor,GradientBoostingRegressor)\n",
    "from sklearn.discriminant_analysis import LinearDiscriminantAnalysis\n",
    "from sklearn.svm import SVC\n",
    "from sklearn.linear_model import LogisticRegression\n",
    "from sklearn.linear_model import LinearRegression\n",
    "from sklearn.linear_model import LassoCV\n",
    "from sklearn.neighbors import KNeighborsClassifier\n",
    "from sklearn.neighbors import KNeighborsRegressor\n",
    "from sklearn.tree import DecisionTreeClassifier\n",
    "from sklearn.neural_network import MLPClassifier\n",
    "from sklearn.utils import class_weight\n",
    "from catboost import CatBoostRegressor\n",
    "from catboost import CatBoostClassifier\n",
    "from sklearn.svm import SVR\n",
    "from sklearn import datasets, linear_model\n",
    "import lightgbm as lgb\n",
    "from sklearn.model_selection import cross_val_score\n",
    "from sklearn.model_selection import StratifiedKFold\n",
    "from sklearn.model_selection import RepeatedStratifiedKFold\n",
    "from sklearn.model_selection import RepeatedKFold\n",
    "from sklearn.model_selection import GroupKFold\n",
    "from sklearn.model_selection import KFold\n",
    "from sklearn.cluster import KMeans\n",
    "from sklearn.preprocessing import StandardScaler\n",
    "from scipy.signal import argrelmin\n",
    "from scipy.stats import skew\n",
    "from scipy import stats\n",
    "\n",
    "\n",
    "pd.set_option('display.max_columns', None)   \n",
    "\n",
    "from sklearn.model_selection import train_test_split\n",
    "\n",
    "import eli5\n",
    "from eli5.sklearn import PermutationImportance\n",
    "import time\n",
    "\n",
    "import tensorflow as tf\n",
    "from tensorflow import keras\n",
    "from tensorflow.keras.datasets import fashion_mnist\n",
    "from tensorflow.keras.models import Sequential\n",
    "from tensorflow.keras import layers\n",
    "from tensorflow.keras.layers import Dense,BatchNormalization,Dropout\n",
    "from tensorflow.keras import utils\n",
    "import tensorflow_addons as tfa\n",
    "import keras_tuner\n",
    "from kerastuner.tuners import RandomSearch, Hyperband, BayesianOptimization\n",
    "import pandas as pd\n",
    "from tensorflow import keras\n",
    "from tensorflow.keras import layers\n",
    "from kerastuner.tuners import RandomSearch\n",
    "from kerastuner import HyperParameters, Objective"
   ]
  },
  {
   "cell_type": "code",
   "execution_count": 22,
   "id": "5e544ebb",
   "metadata": {
    "execution": {
     "iopub.execute_input": "2023-03-30T20:04:05.901681Z",
     "iopub.status.busy": "2023-03-30T20:04:05.900549Z",
     "iopub.status.idle": "2023-03-30T20:04:05.929619Z",
     "shell.execute_reply": "2023-03-30T20:04:05.928701Z"
    },
    "papermill": {
     "duration": 0.039586,
     "end_time": "2023-03-30T20:04:05.931883",
     "exception": false,
     "start_time": "2023-03-30T20:04:05.892297",
     "status": "completed"
    },
    "tags": []
   },
   "outputs": [],
   "source": [
    "########################\n",
    "### Define Weights   ###\n",
    "########################\n",
    "\n",
    "\n",
    "classes = y.unique()\n",
    "weight = class_weight.compute_class_weight(class_weight='balanced', classes=classes, y=y)\n",
    "weights = dict(zip(classes, list(weight)))\n",
    "\n",
    "#######################\n",
    "### Optuna Settings ###\n",
    "#######################\n",
    "\n",
    "optuna_study = True \n",
    "\n",
    "optuna_models={'LGBM' : True, \n",
    "               'XGB'  : False,\n",
    "               'CAT'  : False,\n",
    "               'AB'   : False,\n",
    "               'GB'   : False,\n",
    "               'ET'   : False,\n",
    "               'RF'   : False,\n",
    "               'LCV'  : False,\n",
    "               'LR'   : False,\n",
    "               'KNC'  : False,\n",
    "               'SVC'  : False,\n",
    "               'KERAS': False}\n",
    "\n",
    "#######################\n",
    "### Finish Settings ###\n",
    "#######################\n",
    "finish_set = True\n",
    "\n",
    "finish_models={'LGBM' : False,\n",
    "               'XGB'  : True,\n",
    "               'CAT'  : True,\n",
    "               'AB'   : False,\n",
    "               'GB'   : False,\n",
    "               'ET'   : False,\n",
    "               'RF'   : True,\n",
    "               'LCV'  : False,\n",
    "               'LR'   : False,\n",
    "               'KNC'  : False,\n",
    "               'SVC'  : False,\n",
    "               'KERAS': False}\n",
    "\n",
    "#####################\n",
    "### Consolidation ###\n",
    "#####################\n",
    "models={} # Dictionary to store the model\n",
    "preds_val={} # Dictionary to store the predictions on the valdation data set\n",
    "preds_test={} # Dictionary to store the predictions on the valdation test set\n",
    "\n",
    "#######################\n",
    "### X for modelling ###\n",
    "#######################\n",
    "X_model=X.copy() # This code also define a new variable before the modelling\n",
    "test_model = test.copy()\n",
    "y_model = y.copy()"
   ]
  },
  {
   "cell_type": "code",
   "execution_count": 23,
   "id": "6204d573",
   "metadata": {
    "execution": {
     "iopub.execute_input": "2023-03-30T20:04:05.947208Z",
     "iopub.status.busy": "2023-03-30T20:04:05.946915Z",
     "iopub.status.idle": "2023-03-30T20:04:05.952598Z",
     "shell.execute_reply": "2023-03-30T20:04:05.951698Z"
    },
    "papermill": {
     "duration": 0.015825,
     "end_time": "2023-03-30T20:04:05.954781",
     "exception": false,
     "start_time": "2023-03-30T20:04:05.938956",
     "status": "completed"
    },
    "tags": []
   },
   "outputs": [],
   "source": [
    "################\n",
    "### Settings ###\n",
    "################\n",
    "model_name='LGBM'\n",
    "metric = 'rmse'"
   ]
  },
  {
   "cell_type": "code",
   "execution_count": 24,
   "id": "0303fe2d",
   "metadata": {
    "execution": {
     "iopub.execute_input": "2023-03-30T20:04:05.970472Z",
     "iopub.status.busy": "2023-03-30T20:04:05.970159Z",
     "iopub.status.idle": "2023-03-30T20:04:05.974756Z",
     "shell.execute_reply": "2023-03-30T20:04:05.973694Z"
    },
    "papermill": {
     "duration": 0.015076,
     "end_time": "2023-03-30T20:04:05.976938",
     "exception": false,
     "start_time": "2023-03-30T20:04:05.961862",
     "status": "completed"
    },
    "tags": []
   },
   "outputs": [],
   "source": [
    "X = X_model\n",
    "test = test_model\n",
    "y=y_model"
   ]
  },
  {
   "cell_type": "code",
   "execution_count": 25,
   "id": "4a6a489b",
   "metadata": {
    "execution": {
     "iopub.execute_input": "2023-03-30T20:04:05.993031Z",
     "iopub.status.busy": "2023-03-30T20:04:05.992604Z",
     "iopub.status.idle": "2023-03-30T20:04:05.997148Z",
     "shell.execute_reply": "2023-03-30T20:04:05.996126Z"
    },
    "papermill": {
     "duration": 0.015212,
     "end_time": "2023-03-30T20:04:05.999217",
     "exception": false,
     "start_time": "2023-03-30T20:04:05.984005",
     "status": "completed"
    },
    "tags": []
   },
   "outputs": [],
   "source": [
    "#Define a list of features which should be dropped before fitting with LGBM\n",
    "LGBM_drop_list=[]"
   ]
  },
  {
   "cell_type": "code",
   "execution_count": 26,
   "id": "058d6dbf",
   "metadata": {
    "execution": {
     "iopub.execute_input": "2023-03-30T20:04:06.015364Z",
     "iopub.status.busy": "2023-03-30T20:04:06.014804Z",
     "iopub.status.idle": "2023-03-30T20:04:06.023598Z",
     "shell.execute_reply": "2023-03-30T20:04:06.022699Z"
    },
    "papermill": {
     "duration": 0.019373,
     "end_time": "2023-03-30T20:04:06.025623",
     "exception": false,
     "start_time": "2023-03-30T20:04:06.006250",
     "status": "completed"
    },
    "tags": []
   },
   "outputs": [],
   "source": [
    "# Apply the drop to the dataframe\n",
    "X = X_model.drop(LGBM_drop_list,axis=1)\n",
    "test = test_model.drop(LGBM_drop_list,axis=1)\n",
    "y=y_model"
   ]
  },
  {
   "cell_type": "code",
   "execution_count": 27,
   "id": "6c8bb34b",
   "metadata": {
    "execution": {
     "iopub.execute_input": "2023-03-30T20:04:06.041846Z",
     "iopub.status.busy": "2023-03-30T20:04:06.041070Z",
     "iopub.status.idle": "2023-03-31T00:14:44.303303Z",
     "shell.execute_reply": "2023-03-31T00:14:44.302433Z"
    },
    "papermill": {
     "duration": 15038.277299,
     "end_time": "2023-03-31T00:14:44.310282",
     "exception": false,
     "start_time": "2023-03-30T20:04:06.032983",
     "status": "completed"
    },
    "tags": []
   },
   "outputs": [
    {
     "name": "stderr",
     "output_type": "stream",
     "text": [
      "\u001b[32m[I 2023-03-30 20:04:06,052]\u001b[0m A new study created in memory with name: no-name-a7013958-035d-4763-92cb-f7d208caa375\u001b[0m\n",
      "\u001b[32m[I 2023-03-30 20:51:56,295]\u001b[0m Trial 0 finished with value: 166660.1868473584 and parameters: {'metric': 'rmse', 'lambda_l1': 3.060719660119112, 'lambda_l2': 7.047499974981712, 'learning_rate': 0.02308290856029349, 'num_leaves': 79, 'feature_fraction': 0.4049630057822259, 'bagging_fraction': 0.691577664583863, 'early_stopping_round': 300, 'bagging_freq': 2, 'min_child_samples': 45, 'n_estimators': 4548, 'subsample': None, 'subsample_freq': None, 'reg_alpha': None, 'colsample_bytree': None, 'reg_lambda': None}. Best is trial 0 with value: 166660.1868473584.\u001b[0m\n",
      "\u001b[32m[I 2023-03-30 21:07:51,247]\u001b[0m Trial 1 finished with value: 161583.30124633355 and parameters: {'metric': 'rmse', 'lambda_l1': 6.15334004342203, 'lambda_l2': 1.9082673298280957, 'learning_rate': 0.0903097633070593, 'num_leaves': 143, 'feature_fraction': 0.748723631109214, 'bagging_fraction': 0.6767126534990171, 'early_stopping_round': 300, 'bagging_freq': 5, 'min_child_samples': 70, 'n_estimators': 2897, 'subsample': None, 'subsample_freq': None, 'reg_alpha': None, 'colsample_bytree': None, 'reg_lambda': None}. Best is trial 1 with value: 161583.30124633355.\u001b[0m\n",
      "\u001b[32m[I 2023-03-30 21:26:45,420]\u001b[0m Trial 2 finished with value: 150320.6684693847 and parameters: {'metric': 'rmse', 'lambda_l1': 6.513863063970168, 'lambda_l2': 9.571061683386693, 'learning_rate': 0.030991200603049083, 'num_leaves': 62, 'feature_fraction': 0.4738789538151741, 'bagging_fraction': 0.4311476829184969, 'early_stopping_round': 300, 'bagging_freq': 6, 'min_child_samples': 39, 'n_estimators': 3844, 'subsample': None, 'subsample_freq': None, 'reg_alpha': None, 'colsample_bytree': None, 'reg_lambda': None}. Best is trial 2 with value: 150320.6684693847.\u001b[0m\n",
      "\u001b[32m[I 2023-03-30 22:00:54,998]\u001b[0m Trial 3 finished with value: 154232.49248160902 and parameters: {'metric': 'rmse', 'lambda_l1': 8.231473767252371, 'lambda_l2': 6.209750783957498, 'learning_rate': 0.04333077819897144, 'num_leaves': 490, 'feature_fraction': 0.5930057849960618, 'bagging_fraction': 0.9045717587999444, 'early_stopping_round': 300, 'bagging_freq': 5, 'min_child_samples': 79, 'n_estimators': 3637, 'subsample': None, 'subsample_freq': None, 'reg_alpha': None, 'colsample_bytree': None, 'reg_lambda': None}. Best is trial 2 with value: 150320.6684693847.\u001b[0m\n",
      "\u001b[32m[I 2023-03-30 22:25:28,306]\u001b[0m Trial 4 finished with value: 149664.07089382934 and parameters: {'metric': 'rmse', 'lambda_l1': 8.130848143099437, 'lambda_l2': 6.2428971382768195, 'learning_rate': 0.0443044030765067, 'num_leaves': 145, 'feature_fraction': 0.5952744529608508, 'bagging_fraction': 0.9080288852655654, 'early_stopping_round': 300, 'bagging_freq': 1, 'min_child_samples': 84, 'n_estimators': 4633, 'subsample': None, 'subsample_freq': None, 'reg_alpha': None, 'colsample_bytree': None, 'reg_lambda': None}. Best is trial 4 with value: 149664.07089382934.\u001b[0m\n",
      "\u001b[32m[I 2023-03-30 22:46:49,726]\u001b[0m Trial 5 finished with value: 156116.16291967564 and parameters: {'metric': 'rmse', 'lambda_l1': 9.754785756361859, 'lambda_l2': 2.9139197679454867, 'learning_rate': 0.07852096117445109, 'num_leaves': 313, 'feature_fraction': 0.5689250267725541, 'bagging_fraction': 0.9087850778445197, 'early_stopping_round': 300, 'bagging_freq': 2, 'min_child_samples': 94, 'n_estimators': 1780, 'subsample': None, 'subsample_freq': None, 'reg_alpha': None, 'colsample_bytree': None, 'reg_lambda': None}. Best is trial 4 with value: 149664.07089382934.\u001b[0m\n",
      "\u001b[32m[I 2023-03-30 22:51:17,101]\u001b[0m Trial 6 finished with value: 142138.1316014203 and parameters: {'metric': 'rmse', 'lambda_l1': 4.66704966709607, 'lambda_l2': 1.8000367135508502, 'learning_rate': 0.07451190761720193, 'num_leaves': 53, 'feature_fraction': 0.9173661149312436, 'bagging_fraction': 0.4886061270219261, 'early_stopping_round': 300, 'bagging_freq': 7, 'min_child_samples': 8, 'n_estimators': 2603, 'subsample': None, 'subsample_freq': None, 'reg_alpha': None, 'colsample_bytree': None, 'reg_lambda': None}. Best is trial 6 with value: 142138.1316014203.\u001b[0m\n",
      "\u001b[32m[I 2023-03-30 23:16:13,855]\u001b[0m Trial 7 finished with value: 147000.6055004005 and parameters: {'metric': 'rmse', 'lambda_l1': 5.425090993058112, 'lambda_l2': 4.71379115232452, 'learning_rate': 0.036761812586932785, 'num_leaves': 92, 'feature_fraction': 0.6849064404299763, 'bagging_fraction': 0.6067896905219892, 'early_stopping_round': 300, 'bagging_freq': 2, 'min_child_samples': 35, 'n_estimators': 4740, 'subsample': None, 'subsample_freq': None, 'reg_alpha': None, 'colsample_bytree': None, 'reg_lambda': None}. Best is trial 6 with value: 142138.1316014203.\u001b[0m\n",
      "\u001b[32m[I 2023-03-30 23:41:05,571]\u001b[0m Trial 8 finished with value: 154594.21418263594 and parameters: {'metric': 'rmse', 'lambda_l1': 7.866129779759183, 'lambda_l2': 6.036902080784556, 'learning_rate': 0.05423986621277818, 'num_leaves': 201, 'feature_fraction': 0.8415194163833684, 'bagging_fraction': 0.6910956015593899, 'early_stopping_round': 300, 'bagging_freq': 3, 'min_child_samples': 47, 'n_estimators': 3942, 'subsample': None, 'subsample_freq': None, 'reg_alpha': None, 'colsample_bytree': None, 'reg_lambda': None}. Best is trial 6 with value: 142138.1316014203.\u001b[0m\n",
      "\u001b[32m[I 2023-03-31 00:14:44,291]\u001b[0m Trial 9 finished with value: 171139.19845119695 and parameters: {'metric': 'rmse', 'lambda_l1': 9.382535841346959, 'lambda_l2': 9.926432567613945, 'learning_rate': 0.07058440796857508, 'num_leaves': 504, 'feature_fraction': 0.8074298039592535, 'bagging_fraction': 0.7009503797440397, 'early_stopping_round': 300, 'bagging_freq': 2, 'min_child_samples': 25, 'n_estimators': 3839, 'subsample': None, 'subsample_freq': None, 'reg_alpha': None, 'colsample_bytree': None, 'reg_lambda': None}. Best is trial 6 with value: 142138.1316014203.\u001b[0m\n"
     ]
    },
    {
     "name": "stdout",
     "output_type": "stream",
     "text": [
      "Best trial: {'metric': 'rmse', 'lambda_l1': 4.66704966709607, 'lambda_l2': 1.8000367135508502, 'learning_rate': 0.07451190761720193, 'num_leaves': 53, 'feature_fraction': 0.9173661149312436, 'bagging_fraction': 0.4886061270219261, 'early_stopping_round': 300, 'bagging_freq': 7, 'min_child_samples': 8, 'n_estimators': 2603, 'subsample': None, 'subsample_freq': None, 'reg_alpha': None, 'colsample_bytree': None, 'reg_lambda': None}\n"
     ]
    }
   ],
   "source": [
    "\n",
    "# code to decide if a GPU should be used or not\n",
    "if gpu_switch == \"ON\":\n",
    "    method = \"gpu\"\n",
    "else:\n",
    "    method = \"cpu\"\n",
    "\n",
    "def objective(trial):\n",
    "    param = {\n",
    "     'device': method,# The logic to use GPU or CPU is applied here\n",
    "     \"metric\":trial.suggest_categorical(\"metric\", [metric]), \n",
    "     'verbosity': -1,\n",
    "     'lambda_l1': trial.suggest_float('lambda_l1', 1e-8, 10.0),\n",
    "     'lambda_l2': trial.suggest_float('lambda_l2', 1e-8, 10.0),\n",
    "     'learning_rate': trial.suggest_float('learning_rate', 0.001,0.1),\n",
    "     'num_leaves': trial.suggest_int('num_leaves', 2, 512),\n",
    "     'feature_fraction': trial.suggest_float('feature_fraction', 0.4, 1.0),\n",
    "     'bagging_fraction': trial.suggest_float('bagging_fraction', 0.4, 1.0),\n",
    "     'early_stopping_round' : trial.suggest_int('early_stopping_round', 300, 300),\n",
    "     'bagging_freq': trial.suggest_int('bagging_freq', 1, 7),\n",
    "     'min_child_samples': trial.suggest_int('min_child_samples', 5, 100),\n",
    "     'n_estimators' : trial.suggest_int('n_estimators', 100, 5000),\n",
    "     \"subsample\":trial.suggest_categorical(\"subsample\", [None]),\n",
    "     \"subsample_freq\":trial.suggest_categorical(\"subsample_freq\", [None]),\n",
    "     \"reg_alpha\":trial.suggest_categorical(\"reg_alpha\", [None]),\n",
    "     \"colsample_bytree\":trial.suggest_categorical(\"colsample_bytree\", [None]),\n",
    "     \"reg_lambda\":trial.suggest_categorical(\"reg_lambda\", [None]),\n",
    "     #'class_weight':weights\n",
    "             }\n",
    "    \n",
    "    results=[] # Create an empty list for the results\n",
    "    n_iterations=[] # Create an empty list for the iterations\n",
    "    for train_index, test_index in cv.split(X, y):\n",
    "        train_X, valid_X = X.iloc[train_index], X.iloc[test_index]\n",
    "        train_y, valid_y = y.iloc[train_index], y.loc[test_index]\n",
    "        model = lgb.LGBMRegressor(**param).fit(train_X,train_y,\n",
    "                                            eval_set=[(valid_X,valid_y)],\n",
    "                                            callbacks=[lgb.log_evaluation(period=0, show_stdv=False)]\n",
    "                                             )  \n",
    "        result = np.sqrt(mean_squared_error(valid_y,model.predict(valid_X)))\n",
    "        results.append(result)\n",
    "    n=sum(results)/len(results)   \n",
    "    return n\n",
    "\n",
    "if  optuna_study == optuna_models[model_name]:\n",
    "    study = optuna.create_study(pruner=optuna.pruners.HyperbandPruner(),\n",
    "                                direction='minimize')\n",
    "    study.optimize(objective, n_trials=10)\n",
    "    print('Best trial:', study.best_trial.params)"
   ]
  },
  {
   "cell_type": "code",
   "execution_count": 28,
   "id": "5fe30dd3",
   "metadata": {
    "execution": {
     "iopub.execute_input": "2023-03-31T00:14:44.327406Z",
     "iopub.status.busy": "2023-03-31T00:14:44.327023Z",
     "iopub.status.idle": "2023-03-31T00:14:44.332487Z",
     "shell.execute_reply": "2023-03-31T00:14:44.331306Z"
    },
    "papermill": {
     "duration": 0.016452,
     "end_time": "2023-03-31T00:14:44.334622",
     "exception": false,
     "start_time": "2023-03-31T00:14:44.318170",
     "status": "completed"
    },
    "tags": []
   },
   "outputs": [],
   "source": [
    "params_best = study.best_trial.params"
   ]
  },
  {
   "cell_type": "code",
   "execution_count": 29,
   "id": "8592aa90",
   "metadata": {
    "execution": {
     "iopub.execute_input": "2023-03-31T00:14:44.352043Z",
     "iopub.status.busy": "2023-03-31T00:14:44.351761Z",
     "iopub.status.idle": "2023-03-31T00:14:44.359830Z",
     "shell.execute_reply": "2023-03-31T00:14:44.358702Z"
    },
    "papermill": {
     "duration": 0.019523,
     "end_time": "2023-03-31T00:14:44.361914",
     "exception": false,
     "start_time": "2023-03-31T00:14:44.342391",
     "status": "completed"
    },
    "tags": []
   },
   "outputs": [],
   "source": [
    "if finish_models[model_name] and finish_set:\n",
    "    results=[]\n",
    "    for i,(train_index, test_index) in enumerate(cv.split(X, y)):\n",
    "        j=i//n_splits\n",
    "        start_time = time.time()\n",
    "        train_X, valid_X = X.iloc[train_index], X.iloc[test_index]\n",
    "        train_y, valid_y = y.iloc[train_index], y.iloc[test_index]\n",
    "        model = lgb.LGBMRegressor(**params_best).fit(train_X,train_y,\n",
    "                                                eval_set=[(valid_X,valid_y)],\n",
    "                                                callbacks=[lgb.log_evaluation(period=0, show_stdv=False)])  \n",
    "        \n",
    "        models[f'{model_name}_{i}_{j}']=(model)\n",
    "        preds_val[f'{model_name}_{i}_{j}']=(model.predict(valid_X))\n",
    "        preds_test[f'{model_name}_{i}_{j}']=(model.predict(test))\n",
    "        \n",
    "        result = np.sqrt(mean_squared_error(valid_y,model.predict(valid_X)))\n",
    "        results.append(result)\n",
    "        print (f'\\033[0;33;40m Step #{i}.' + f\"--- {time.time() - start_time}s sec ---\" + f\"Auc result = {result} \\033[0;30;0m\")\n",
    "    print (f'\\033[0;35;40m Final LGB Result = {sum(results)/len(results)} \\033[0;30;0m')"
   ]
  },
  {
   "cell_type": "code",
   "execution_count": null,
   "id": "56ea1aa7",
   "metadata": {
    "papermill": {
     "duration": 0.007611,
     "end_time": "2023-03-31T00:14:44.377448",
     "exception": false,
     "start_time": "2023-03-31T00:14:44.369837",
     "status": "completed"
    },
    "tags": []
   },
   "outputs": [],
   "source": []
  }
 ],
 "metadata": {
  "kernelspec": {
   "display_name": "Python 3",
   "language": "python",
   "name": "python3"
  },
  "language_info": {
   "codemirror_mode": {
    "name": "ipython",
    "version": 3
   },
   "file_extension": ".py",
   "mimetype": "text/x-python",
   "name": "python",
   "nbconvert_exporter": "python",
   "pygments_lexer": "ipython3",
   "version": "3.7.12"
  },
  "papermill": {
   "default_parameters": {},
   "duration": 15062.906785,
   "end_time": "2023-03-31T00:14:47.756718",
   "environment_variables": {},
   "exception": null,
   "input_path": "__notebook__.ipynb",
   "output_path": "__notebook__.ipynb",
   "parameters": {},
   "start_time": "2023-03-30T20:03:44.849933",
   "version": "2.4.0"
  }
 },
 "nbformat": 4,
 "nbformat_minor": 5
}
